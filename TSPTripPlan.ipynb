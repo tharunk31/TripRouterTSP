{
 "cells": [
  {
   "cell_type": "code",
   "execution_count": 1,
   "id": "b0752f3d",
   "metadata": {},
   "outputs": [],
   "source": [
    "import numpy as np\n",
    "import pandas as pd\n",
    "import googlemaps\n",
    "import csv\n",
    "import gurobipy as gp\n",
    "from gurobipy import GRB\n",
    "import networkx as nx\n",
    "import matplotlib.pyplot as plt\n",
    "import matplotlib.patches as patches\n",
    "import geopandas\n",
    "import plotly.express as px"
   ]
  },
  {
   "cell_type": "code",
   "execution_count": 2,
   "id": "3924b98a",
   "metadata": {},
   "outputs": [
    {
     "name": "stderr",
     "output_type": "stream",
     "text": [
      "<>:6: SyntaxWarning: invalid escape sequence '\\T'\n",
      "<>:6: SyntaxWarning: invalid escape sequence '\\T'\n",
      "C:\\Users\\imtha\\AppData\\Local\\Temp\\ipykernel_6592\\3173739423.py:6: SyntaxWarning: invalid escape sequence '\\T'\n",
      "  with open(\"C:\\TV\\Locations.csv\",newline='') as f:\n"
     ]
    },
    {
     "name": "stdin",
     "output_type": "stream",
     "text": [
      "Load previously saved csv file location list?\n",
      "Enter'Y' for yes and 'N' for no\n",
      " Y\n",
      "Enter place to visit:\n",
      "Enter 'stop' to stop\n",
      " stop\n"
     ]
    }
   ],
   "source": [
    "gmaps = googlemaps.Client(key = \"ENTER YOUR GOOGLE MAPS API KEY HERE\")\n",
    "Locations = []\n",
    "\n",
    "ImportList = input(\"Load previously saved csv file location list?\\nEnter'Y' for yes and 'N' for no\\n\")\n",
    "if (ImportList == 'Y'):\n",
    "    with open(\"C:\\TV\\Locations.csv\",newline='') as f:\n",
    "        reader = csv.reader(f)\n",
    "        Locations = list(reader)\n",
    "        \n",
    "    for i in range(len(Locations)):\n",
    "        Locations[i] = Locations[i][0]\n",
    "\n",
    "Entry = input(\"Enter place to visit:\\nEnter 'stop' to stop\\n\")\n",
    "while (Entry != 'stop'):\n",
    "    if (Entry not in Locations):\n",
    "        Locations.append(Entry)\n",
    "    Entry = input(\"Enter place to visit:\\n Enter 'stop' to stop\\n\")"
   ]
  },
  {
   "cell_type": "code",
   "execution_count": 3,
   "id": "3be4e265",
   "metadata": {},
   "outputs": [
    {
     "name": "stdout",
     "output_type": "stream",
     "text": [
      "['Champaign, IL', 'Chicago, IL', 'Miami, FL', 'San Diego, CA', 'New York, NY', 'Boston, MA', 'Seattle, WA', 'Portland, OR', 'San Francisco, CA', 'Denver, CO', 'Pittsburgh, PA', 'Yellowstone National Park, WY', 'Minneapolis, MN', 'Zion National Park, UT', 'Canyonlands National Park, UT', 'Nashville, TN', 'Glacier National Park, MT', 'Knoxville, TN', 'Yosemite National Park, CA', 'Los Angeles, CA', 'Las Vegas, NV', 'St. Louis, MO', 'Albuquerque, NM', 'New Orleans, LA']\n"
     ]
    }
   ],
   "source": [
    "print(Locations)"
   ]
  },
  {
   "cell_type": "code",
   "execution_count": 4,
   "id": "bdfe8f86",
   "metadata": {},
   "outputs": [
    {
     "name": "stdin",
     "output_type": "stream",
     "text": [
      "Remove any location? 'Y' for yes and 'N' for no\n",
      " N\n"
     ]
    }
   ],
   "source": [
    "RemoveLoc = input(\"Remove any location? 'Y' for yes and 'N' for no\\n\")\n",
    "if RemoveLoc == 'Y':\n",
    "    LocEntry = input(\"Enter Location:\\n\")\n",
    "    Locations.remove(LocEntry)"
   ]
  },
  {
   "cell_type": "code",
   "execution_count": 5,
   "id": "fe537341",
   "metadata": {},
   "outputs": [
    {
     "name": "stdout",
     "output_type": "stream",
     "text": [
      "['Champaign, IL', 'Chicago, IL', 'Miami, FL', 'San Diego, CA', 'New York, NY', 'Boston, MA', 'Seattle, WA', 'Portland, OR', 'San Francisco, CA', 'Denver, CO', 'Pittsburgh, PA', 'Yellowstone National Park, WY', 'Minneapolis, MN', 'Zion National Park, UT', 'Canyonlands National Park, UT', 'Nashville, TN', 'Glacier National Park, MT', 'Knoxville, TN', 'Yosemite National Park, CA', 'Los Angeles, CA', 'Las Vegas, NV', 'St. Louis, MO', 'Albuquerque, NM', 'New Orleans, LA']\n"
     ]
    }
   ],
   "source": [
    "print(Locations)"
   ]
  },
  {
   "cell_type": "code",
   "execution_count": 6,
   "id": "82d7db29",
   "metadata": {},
   "outputs": [
    {
     "name": "stderr",
     "output_type": "stream",
     "text": [
      "<>:1: SyntaxWarning: invalid escape sequence '\\T'\n",
      "<>:1: SyntaxWarning: invalid escape sequence '\\T'\n",
      "C:\\Users\\imtha\\AppData\\Local\\Temp\\ipykernel_6592\\408715196.py:1: SyntaxWarning: invalid escape sequence '\\T'\n",
      "  ImportedDistanceMatrix = np.genfromtxt(\"C:\\TV\\Distance.csv\",delimiter=\",\")\n"
     ]
    }
   ],
   "source": [
    "ImportedDistanceMatrix = np.genfromtxt(\"C:\\TV\\Distance.csv\",delimiter=\",\")\n",
    "# ImportedDistanceMatrix"
   ]
  },
  {
   "cell_type": "code",
   "execution_count": 7,
   "id": "2e87b206",
   "metadata": {},
   "outputs": [],
   "source": [
    "DistanceMatrix = np.zeros((len(Locations),len(Locations)))\n",
    "\n",
    "if RemoveLoc == 'N':\n",
    "\n",
    "    for i in range(len(Locations)):\n",
    "        for j in range(len(Locations)):\n",
    "            if ((i < len(ImportedDistanceMatrix)) and (j < len(ImportedDistanceMatrix))):\n",
    "                DistanceMatrix[i][j] = ImportedDistanceMatrix[i][j]\n",
    "            else:\n",
    "                TestGeoCode = gmaps.distance_matrix(Locations[i],Locations[j])\n",
    "                if (i != j):\n",
    "                    if (TestGeoCode['rows'][0]['elements'][0]['status'] == 'OK'):\n",
    "                        DistanceMatrix[i][j] = TestGeoCode['rows'][0]['elements'][0]['distance']['value']/1000\n",
    "                    else:\n",
    "                        DistanceMatrix[i][j] = np.inf\n",
    "if RemoveLoc == 'Y':\n",
    "    \n",
    "    for i in range(len(Locations)):\n",
    "        for j in range(len(Locations)):\n",
    "                TestGeoCode = gmaps.distance_matrix(Locations[i],Locations[j])\n",
    "                if (i != j):\n",
    "                    if (TestGeoCode['rows'][0]['elements'][0]['status'] == 'OK'):\n",
    "                        DistanceMatrix[i][j] = TestGeoCode['rows'][0]['elements'][0]['distance']['value']/1000\n",
    "                    else:\n",
    "                        DistanceMatrix[i][j] = np.inf    \n"
   ]
  },
  {
   "cell_type": "code",
   "execution_count": 8,
   "id": "598cb91f",
   "metadata": {},
   "outputs": [
    {
     "name": "stdout",
     "output_type": "stream",
     "text": [
      "[[   0.     217.303 2065.615 3205.962 1339.121 1725.153 3372.078 3413.62\n",
      "  3426.643 1602.827  774.449 2184.444  824.819 2561.286 2290.24   605.703\n",
      "  2631.431  772.88  3131.185 3228.372 2805.55   291.365 1966.597 1279.191]\n",
      " [ 217.922    0.    2218.407 3341.752 1271.288 1583.278 3321.13  3439.008\n",
      "  3423.616 1612.242  742.656 2154.719  658.288 2567.559 2296.513  758.496\n",
      "  2464.899  870.303 3128.157 3242.362 2811.822  477.496 2152.728 1491.868]\n",
      " [2069.009 2221.719    0.    4278.55  2063.249 2405.972 5310.77  5250.387\n",
      "  4890.341 3324.629 1893.196 4021.217 2889.228 3942.81  3720.05  1469.443\n",
      "  4595.973 1411.358 4617.384 4400.238 4070.856 1960.639 3149.276 1393.934]\n",
      " [3199.208 3351.477 4273.077    0.    4441.415 4827.446 2022.006 1743.526\n",
      "   809.807 1743.186 3876.742 1728.539 3206.021  783.088 1296.875 3198.319\n",
      "  2260.708 3486.098  644.765  193.654  542.455 2911.16  1240.1   2923.06 ]\n",
      " [1334.605 1271.039 2074.404 4443.263    0.     346.446 4589.136 4707.014\n",
      "  4669.855 2858.115  594.374 3422.725 1926.294 3813.798 3542.752 1422.741\n",
      "  3732.905 1135.821 4374.03  4488.235 4058.061 1528.666 3203.898 2099.489]\n",
      " [1723.426 1582.886 2417.934 4832.084  347.959    0.    4900.983 5018.861\n",
      "  4981.336 3169.962  920.596 3734.572 2238.141 4125.279 3854.599 1778.838\n",
      "  4044.753 1491.918 4686.244 4800.449 4369.909 1917.487 3592.719 2455.586]\n",
      " [3372.907 3287.487 5307.816 2019.951 4564.641 4876.632    0.     280.169\n",
      "  1299.73  2203.375 4036.01  1190.083 2665.18  2036.64  1845.565 3847.904\n",
      "   885.749 4132.478 1370.78  1828.643 1830.801 3352.981 2312.646 4294.567]\n",
      " [3489.412 3403.992 5310.123 1741.54  4681.146 4993.137  279.669    0.\n",
      "  1021.319 2059.899 4152.514 1306.588 2781.685 1581.286 1787.578 3850.212\n",
      "  1002.254 4134.786 1092.369 1550.232 1552.39  3355.288 2254.658 4151.091]\n",
      " [3432.66  3433.47  4888.36   807.301 4678.77  4990.761 1299.864 1021.385\n",
      "     0.    2017.569 4150.139 1509.625 3186.122 1154.756 1677.94  3704.437\n",
      "  1846.12  3992.217  272.962  615.993  914.123 3312.959 1746.218 3596.322]\n",
      " [1604.22  1616.855 3324.664 1735.37  2862.155 3174.146 2206.773 1998.442\n",
      "  2011.465    0.    2333.524  819.613 1471.399  961.177  690.131 1864.753\n",
      "  1491.976 2149.327 1580.642 1635.98  1205.441 1369.83   722.455 2093.192]\n",
      " [ 774.283  742.286 1901.129 3882.941  597.48   921.219 4060.383 4178.261\n",
      "  4141.102 2329.728    0.    2893.972 1397.541 3285.045 3013.999  904.532\n",
      "  3204.152  793.708 3845.644 3905.351 3528.942  968.344 2643.576 1761.706]\n",
      " [2184.941 2152.69  4020.074 1720.773 3429.844 3741.834 1190.071 1307.949\n",
      "  1508.112  817.753 2901.212    0.    1602.001  946.58  1009.467 2560.163\n",
      "   605.178 2844.737 1307.231 1621.384 1190.844 2065.24  1476.547 2908.945]\n",
      " [ 822.438  657.293 2879.651 3198.475 1934.447 2246.437 2670.492 2788.37\n",
      "  3175.906 1468.966 1405.815 1628.355    0.    2424.282 2153.237 1419.74\n",
      "  1814.261 1526.757 2880.448 3099.086 2668.546  900.822 1973.6   1966.388]\n",
      " [2558.983 2568.533 3959.518  774.582 3813.834 4125.824 1763.854 1662.001\n",
      "  1154.476  960.242 3285.202  945.595 2423.077    0.     611.402 2819.516\n",
      "  1477.764 3104.09   710.05   675.192  244.652 2324.592  817.375 2667.479]\n",
      " [2287.993 2297.543 3718.355 1299.037 3542.844 3854.834 1826.356 1724.503\n",
      "  1670.393  689.252 3014.212 1008.097 2152.087  611.79     0.    2548.526\n",
      "  1540.266 2833.1   1231.255 1286.593  856.054 2053.603  578.95  2426.317]\n",
      " [ 605.838  758.548 1465.211 3202.96  1425.506 1785.767 3847.606 3787.223\n",
      "  3704.653 1861.458  901.784 2558.047 1426.057 2819.917 2548.872    0.\n",
      "  3132.808  289.873 3431.703 3225.37  2885.174  497.475 1963.595  858.14 ]\n",
      " [2635.825 2470.679 4598.082 2251.162 3747.833 4059.824  885.363 1003.24\n",
      "  1846.269 1493.642 3219.201  607.038 1814.039 1476.969 1539.855 3138.171\n",
      "     0.    3340.144 1837.619 2151.772 1721.233 2643.248 2006.935 3584.834]\n",
      " [ 772.931  868.852 1409.522 3490.91  1137.818 1498.079 4131.167 4070.784\n",
      "  3992.603 2145.019  793.198 2841.608 1528.971 3103.478 2832.433  289.84\n",
      "  3335.583    0.    3719.652 3513.32  3173.124  781.036 2251.545  966.588]\n",
      " [3135.789 3136.599 4615.928  642.873 4381.899 4693.89  1442.056 1163.576\n",
      "   268.449 1580.728 3853.268 1306.059 2889.251  710.749 1231.889 3432.005\n",
      "  1838.227 3719.785    0.     451.565  547.715 2945.079 1473.786 3323.89 ]\n",
      " [3226.639 3244.458 4398.89   194.623 4489.759 4801.749 1828.4   1549.92\n",
      "   616.201 1636.167 3904.173 1621.52  3099.002  676.069 1287.328 3225.75\n",
      "  2153.689 3513.53   451.159    0.     435.436 2938.591 1267.531 3048.874]\n",
      " [2802.683 2812.233 4068.604  534.02  4057.534 4369.525 1793.404 1553.101\n",
      "   913.914 1203.942 3528.902 1189.295 2666.778  243.844  855.103 2884.68\n",
      "  1721.464 3172.46   546.989  434.631    0.    2568.293  926.461 2776.565]\n",
      " [ 291.269  478.147 1956.843 2915.913 1533.476 1919.507 3353.174 3292.791\n",
      "  3305.814 1367.026  968.803 2063.615  899.917 2325.486 2054.44   496.931\n",
      "  2638.377  781.505 2944.95  2938.324 2569.749    0.    1676.548 1089.181]\n",
      " [1964.656 2151.534 3147.69  1244.575 3206.863 3592.894 2294.541 2192.688\n",
      "  1746.269  722.764 2642.19  1476.282 1976.15   798.738  580.055 1963.767\n",
      "  2008.451 2251.547 1473.318 1266.985  926.79  1676.608    0.    1855.652]\n",
      " [1280.427 1489.955 1389.283 2925.526 2099.11  2454.25  4292.391 4084.06\n",
      "  3594.013 2090.23  1755.374 2905.23  1965.467 2646.482 2423.729  855.481\n",
      "  3577.594  963.477 3321.062 3047.209 2774.534 1092.836 1852.955    0.   ]]\n"
     ]
    }
   ],
   "source": [
    "# DistanceMatrix = np.zeros((len(Locations),len(Locations)))\n",
    "\n",
    "# for i in range(len(Locations)):\n",
    "#     for j in range(len(Locations)):\n",
    "#         if (TestGeoCode['rows'][i]['elements'][j]['status'] == 'OK'):\n",
    "#             DistanceMatrix[i][j] = TestGeoCode['rows'][i]['elements'][j]['distance']['value']/1000\n",
    "#         else:\n",
    "#             DistanceMatrix[i][j] = np.inf\n",
    "\n",
    "\n",
    "for i in range(len(Locations)):\n",
    "    InfCount = 0\n",
    "    for j in range(len(Locations)):\n",
    "        if (DistanceMatrix[i][j] == np.inf):\n",
    "            InfCount += 1\n",
    "    if InfCount == len(Locations):\n",
    "        DistanceMatrix = np.delete(DistanceMatrix, (i), axis=0)\n",
    "        DistanceMatrix = np.delete(DistanceMatrix, (i), axis=1)\n",
    "        Locations.pop(i)\n",
    "    \n",
    "print(DistanceMatrix)"
   ]
  },
  {
   "cell_type": "code",
   "execution_count": 9,
   "id": "cf89bfb5",
   "metadata": {},
   "outputs": [
    {
     "name": "stdout",
     "output_type": "stream",
     "text": [
      "['Champaign, IL', 'Chicago, IL', 'Miami, FL', 'San Diego, CA', 'New York, NY', 'Boston, MA', 'Seattle, WA', 'Portland, OR', 'San Francisco, CA', 'Denver, CO', 'Pittsburgh, PA', 'Yellowstone National Park, WY', 'Minneapolis, MN', 'Zion National Park, UT', 'Canyonlands National Park, UT', 'Nashville, TN', 'Glacier National Park, MT', 'Knoxville, TN', 'Yosemite National Park, CA', 'Los Angeles, CA', 'Las Vegas, NV', 'St. Louis, MO', 'Albuquerque, NM', 'New Orleans, LA']\n"
     ]
    }
   ],
   "source": [
    "print(Locations)"
   ]
  },
  {
   "cell_type": "code",
   "execution_count": 10,
   "id": "d685d5f9",
   "metadata": {},
   "outputs": [
    {
     "name": "stderr",
     "output_type": "stream",
     "text": [
      "<>:4: SyntaxWarning: invalid escape sequence '\\T'\n",
      "<>:10: SyntaxWarning: invalid escape sequence '\\T'\n",
      "<>:4: SyntaxWarning: invalid escape sequence '\\T'\n",
      "<>:10: SyntaxWarning: invalid escape sequence '\\T'\n",
      "C:\\Users\\imtha\\AppData\\Local\\Temp\\ipykernel_6592\\645333178.py:4: SyntaxWarning: invalid escape sequence '\\T'\n",
      "  with open(\"C:\\TV\\Locations.csv\",\"w\",newline='') as f:\n",
      "C:\\Users\\imtha\\AppData\\Local\\Temp\\ipykernel_6592\\645333178.py:10: SyntaxWarning: invalid escape sequence '\\T'\n",
      "  np.savetxt(\"C:\\TV\\Distance.csv\", DistanceMatrix,\n"
     ]
    },
    {
     "name": "stdin",
     "output_type": "stream",
     "text": [
      "Save locations and distances?\n",
      "Enter 'Y' for yes 'N' for no\n",
      " Y\n"
     ]
    },
    {
     "name": "stdout",
     "output_type": "stream",
     "text": [
      "Location file saved\n",
      "Distance file saved\n"
     ]
    }
   ],
   "source": [
    "SaveList = input(\"Save locations and distances?\\nEnter 'Y' for yes 'N' for no\\n\")\n",
    "\n",
    "if (SaveList == 'Y'):\n",
    "    with open(\"C:\\TV\\Locations.csv\",\"w\",newline='') as f:\n",
    "        write = csv.writer(f,dialect='excel')\n",
    "        for i in Locations:\n",
    "            write.writerow([i])\n",
    "    print(\"Location file saved\")\n",
    "    \n",
    "    np.savetxt(\"C:\\TV\\Distance.csv\", DistanceMatrix,\n",
    "              delimiter=\",\")\n",
    "    print(\"Distance file saved\")"
   ]
  },
  {
   "cell_type": "code",
   "execution_count": 11,
   "id": "150c3bb9",
   "metadata": {},
   "outputs": [
    {
     "name": "stdout",
     "output_type": "stream",
     "text": [
      "Set parameter Username\n",
      "Academic license - for non-commercial use only - expires 2025-03-21\n",
      "Gurobi Optimizer version 11.0.3 build v11.0.3rc0 (win64 - Windows 11.0 (22631.2))\n",
      "\n",
      "CPU model: 12th Gen Intel(R) Core(TM) i7-1250U, instruction set [SSE2|AVX|AVX2]\n",
      "Thread count: 10 physical cores, 12 logical processors, using up to 12 threads\n",
      "\n",
      "Optimize a model with 601 rows, 600 columns and 2717 nonzeros\n",
      "Model fingerprint: 0x5b29b95b\n",
      "Variable types: 0 continuous, 600 integer (576 binary)\n",
      "Coefficient statistics:\n",
      "  Matrix range     [1e+00, 2e+01]\n",
      "  Objective range  [2e+02, 5e+03]\n",
      "  Bounds range     [1e+00, 2e+01]\n",
      "  RHS range        [1e+00, 2e+01]\n",
      "Presolve removed 47 rows and 25 columns\n",
      "Presolve time: 0.02s\n",
      "Presolved: 554 rows, 575 columns, 2622 nonzeros\n",
      "Variable types: 0 continuous, 575 integer (552 binary)\n",
      "Found heuristic solution: objective 51912.051000\n",
      "Found heuristic solution: objective 51635.585000\n",
      "\n",
      "Root relaxation: objective 1.254933e+04, 85 iterations, 0.00 seconds (0.00 work units)\n",
      "\n",
      "    Nodes    |    Current Node    |     Objective Bounds      |     Work\n",
      " Expl Unexpl |  Obj  Depth IntInf | Incumbent    BestBd   Gap | It/Node Time\n",
      "\n",
      "     0     0 12549.3318    0   33 51635.5850 12549.3318  75.7%     -    0s\n",
      "     0     0 15097.0866    0   40 51635.5850 15097.0866  70.8%     -    0s\n",
      "H    0     0                    22524.181000 15108.9274  32.9%     -    0s\n",
      "H    0     0                    21279.608000 15108.9274  29.0%     -    0s\n",
      "H    0     0                    20190.457000 15108.9274  25.2%     -    0s\n",
      "H    0     0                    20133.751000 15108.9274  25.0%     -    0s\n",
      "     0     0 15138.6373    0   73 20133.7510 15138.6373  24.8%     -    0s\n",
      "     0     0 15222.0656    0   65 20133.7510 15222.0656  24.4%     -    0s\n",
      "     0     0 15222.0656    0   65 20133.7510 15222.0656  24.4%     -    0s\n",
      "     0     0 15222.0656    0   66 20133.7510 15222.0656  24.4%     -    0s\n",
      "H    0     0                    19573.686000 15222.0656  22.2%     -    0s\n",
      "     0     0 15765.1628    0   62 19573.6860 15765.1628  19.5%     -    0s\n",
      "     0     0 15972.5206    0   64 19573.6860 15972.5206  18.4%     -    0s\n",
      "H    0     0                    19486.080000 15972.5206  18.0%     -    0s\n",
      "     0     0 15972.5206    0   61 19486.0800 15972.5206  18.0%     -    0s\n",
      "     0     0 15972.5206    0   61 19486.0800 15972.5206  18.0%     -    0s\n",
      "     0     0 15972.5206    0   61 19486.0800 15972.5206  18.0%     -    0s\n",
      "     0     0 15972.5206    0   62 19486.0800 15972.5206  18.0%     -    0s\n",
      "H    0     0                    19167.313000 15972.5206  16.7%     -    0s\n",
      "     0     0 15972.5206    0   62 19167.3130 15972.5206  16.7%     -    0s\n",
      "     0     0 15972.5206    0   62 19167.3130 15972.5206  16.7%     -    0s\n",
      "H    0     0                    19083.993000 15973.1153  16.3%     -    0s\n",
      "     0     0 15973.1153    0   33 19083.9930 15973.1153  16.3%     -    0s\n",
      "     0     0 15973.1153    0   59 19083.9930 15973.1153  16.3%     -    0s\n",
      "     0     0 15973.1153    0   58 19083.9930 15973.1153  16.3%     -    0s\n",
      "     0     0 15973.1153    0   60 19083.9930 15973.1153  16.3%     -    0s\n",
      "     0     0 15973.1153    0   60 19083.9930 15973.1153  16.3%     -    1s\n",
      "     0     0 15975.3509    0   60 19083.9930 15975.3509  16.3%     -    1s\n",
      "     0     0 15975.3509    0   56 19083.9930 15975.3509  16.3%     -    1s\n",
      "     0     2 15977.9720    0   56 19083.9930 15977.9720  16.3%     -    1s\n",
      "H   40    46                    18914.784000 16024.4177  15.3%  11.6    1s\n",
      "H   76    85                    17303.825000 16056.5960  7.21%   8.6    1s\n",
      "  3481  1378 17062.6886   27   19 17303.8250 16422.2610  5.09%   7.3    5s\n",
      "  8741  1988 17007.5815   28   39 17303.8250 16620.6052  3.95%   7.7   10s\n",
      " 16299  2960 17168.5796   30   27 17303.8250 16801.8710  2.90%   7.9   15s\n",
      " 24529  2455 17191.3348   30   26 17303.8250 16959.0764  1.99%   7.9   20s\n",
      "*31081   258              28    17299.518000 17110.5945  1.09%   7.9   24s\n",
      "\n",
      "Cutting planes:\n",
      "  Learned: 12\n",
      "  Gomory: 22\n",
      "  Cover: 45\n",
      "  Implied bound: 17\n",
      "  Projected implied bound: 7\n",
      "  MIR: 16\n",
      "  Flow cover: 47\n",
      "  Inf proof: 38\n",
      "  Zero half: 29\n",
      "  RLT: 13\n",
      "  Relax-and-lift: 19\n",
      "\n",
      "Explored 32147 nodes (254335 simplex iterations) in 24.93 seconds (2.45 work units)\n",
      "Thread count was 12 (of 12 available processors)\n",
      "\n",
      "Solution count 10: 17299.5 17303.8 18914.8 ... 21279.6\n",
      "\n",
      "Optimal solution found (tolerance 1.00e-04)\n",
      "Best objective 1.729951800000e+04, best bound 1.729951800000e+04, gap 0.0000%\n",
      "\n",
      "\n",
      "\n",
      "*********\n",
      "Solution Found\n",
      "*********\n",
      "Order of routing:\n",
      "Champaign, IL -> Chicago, IL -> Minneapolis, MN -> Denver, CO -> Yellowstone National Park, WY -> Glacier National Park, MT -> Seattle, WA -> Portland, OR -> San Francisco, CA -> Yosemite National Park, CA -> Los Angeles, CA -> San Diego, CA -> Las Vegas, NV -> Zion National Park, UT -> Canyonlands National Park, UT -> Albuquerque, NM -> New Orleans, LA -> Miami, FL -> New York, NY -> Boston, MA -> Pittsburgh, PA -> Knoxville, TN -> Nashville, TN -> St. Louis, MO -> Champaign, IL\n",
      "The route takes 17299.518 kilometers.\n"
     ]
    }
   ],
   "source": [
    "model = gp.Model(\"RouteTSP\")\n",
    "\n",
    "x = model.addVars(len(Locations), len(Locations), name = \"X\", vtype = GRB.BINARY)\n",
    "\n",
    "u = model.addVars(len(Locations), name=\"U\", vtype=GRB.INTEGER,lb=1,ub=len(Locations))\n",
    "\n",
    "RouteDistance = 0\n",
    "\n",
    "for i in range(len(Locations)):\n",
    "    for j in range(len(Locations)):\n",
    "        RouteDistance += DistanceMatrix[i][j] * x[i,j]\n",
    "        \n",
    "InFlowConstraints = model.addConstrs(x.sum(i,\"*\") == 1 for i in range(1,len(Locations)))\n",
    "\n",
    "OutFlowConstraints = model.addConstrs(x.sum(\"*\",i) == 1 for i in range(1,len(Locations)))\n",
    "\n",
    "StartFlowConstraint = model.addConstr(x.sum(0,\"*\") == 1)\n",
    "\n",
    "EndFlowConstraint = model.addConstr(x.sum(\"*\",0) == 1)\n",
    "\n",
    "SubTourEliminationConstraints = model.addConstrs(u[i] - u[j] + 1 <= (len(Locations) - 1) * (1 - x[i,j]) for i in range(1,len(Locations)) for j in range(1,len(Locations)))\n",
    "\n",
    "StayProhibitionConstraints = model.addConstrs(x[i,i] == 0 for i in range(len(Locations)))\n",
    "\n",
    "model.setObjective(RouteDistance, GRB.MINIMIZE)\n",
    "model.optimize()\n",
    "\n",
    "if (model.Status == GRB.OPTIMAL):\n",
    "    print(\"\\n\\n\\n*********\\nSolution Found\\n*********\")\n",
    "    xValue = model.getAttr(\"X\",x)\n",
    "    obj = model.getObjective()\n",
    "#     for i in range(len(Locations)):\n",
    "#         for j in range(len(Locations)):\n",
    "#             if (xValue[i,j] > 0):\n",
    "#                 print(\"We visit\",Locations[j], \"from\",Locations[i])\n",
    "    print(\"Order of routing:\")\n",
    "    next = np.zeros(len(Locations))\n",
    "    Routing = [0]\n",
    "    for i in range(len(Locations)):\n",
    "        for j in range(len(Locations)):\n",
    "            if xValue[i,j] > 0:\n",
    "                next[i] = j\n",
    "    current = 0\n",
    "    while next[current] != 0:\n",
    "        Routing.append(int(next[current]))\n",
    "        current = int(next[current])\n",
    "        \n",
    "    Routing.append(0)\n",
    "    # print(Routing)\n",
    "    RouteString = \"\"\n",
    "    Count = 0\n",
    "    for i in Routing:\n",
    "        if (Count < len(Locations)+1) and (Count > 0):\n",
    "            RouteString += \" -> \"\n",
    "        RouteString += Locations[i]\n",
    "        Count += 1\n",
    "    print(RouteString)\n",
    "    print(\"The route takes\",obj.getValue(),\"kilometers.\")"
   ]
  },
  {
   "cell_type": "code",
   "execution_count": 12,
   "id": "3a10518d",
   "metadata": {},
   "outputs": [],
   "source": [
    "RouteDistance = DistanceMatrix\n",
    "LocationDict = {i:Locations[i] for i in range(len(Locations))}\n",
    "\n",
    "for i in range(len(Locations)):\n",
    "    for j in range(len(Locations)):\n",
    "        if (xValue[i,j] > 0.1):\n",
    "            RouteDistance[i][j] *= xValue[i,j]\n",
    "        else:\n",
    "            RouteDistance[i][j] *= 0"
   ]
  },
  {
   "cell_type": "code",
   "execution_count": 13,
   "id": "bb90223e-5545-4fa1-a3f2-dd88812171f8",
   "metadata": {},
   "outputs": [
    {
     "data": {
      "text/plain": [
       "array([40.1164204, 41.8781136, 25.7616798, 32.715738 , 40.7127753,\n",
       "       42.3600825, 47.6061389, 45.515232 , 37.7749295, 39.7392358,\n",
       "       40.4406248, 44.5979182, 44.977753 , 37.2982022, 38.1632525,\n",
       "       36.1626638, 48.7596128, 35.9606384, 37.8651011, 34.0549076,\n",
       "       36.171563 , 38.6270025, 35.0843859, 29.9510658])"
      ]
     },
     "execution_count": 13,
     "metadata": {},
     "output_type": "execute_result"
    }
   ],
   "source": [
    "Latitudes = np.zeros(len(Locations))\n",
    "Longitudes = np.zeros(len(Locations))\n",
    "for i in range(len(Locations)):\n",
    "    Latitudes[i] = gmaps.geocode(Locations[i])[0]['geometry']['location']['lat']\n",
    "    Longitudes[i] = gmaps.geocode(Locations[i])[0]['geometry']['location']['lng']\n",
    "\n",
    "Latitudes"
   ]
  },
  {
   "cell_type": "code",
   "execution_count": 14,
   "id": "b8a43f2a-fc2b-4662-aa3b-79490abaee59",
   "metadata": {},
   "outputs": [
    {
     "data": {
      "text/plain": [
       "array([ -88.2433829,  -87.6297982,  -80.1917902, -117.1610838,\n",
       "        -74.0059728,  -71.0588801, -122.3328481, -122.6783853,\n",
       "       -122.4194155, -104.990251 ,  -79.9958864, -110.561249 ,\n",
       "        -93.2650108, -113.0263005, -109.7626512,  -86.7816016,\n",
       "       -113.7870225,  -83.9207392, -119.5383294, -118.242643 ,\n",
       "       -115.1391009,  -90.1994042, -106.650422 ,  -90.0715323])"
      ]
     },
     "execution_count": 14,
     "metadata": {},
     "output_type": "execute_result"
    }
   ],
   "source": [
    "Longitudes"
   ]
  },
  {
   "cell_type": "code",
   "execution_count": 15,
   "id": "2831b9bd-0d9a-4c80-a8e6-09e382eba517",
   "metadata": {},
   "outputs": [
    {
     "data": {
      "text/plain": [
       "['Champaign, IL',\n",
       " 'Chicago, IL',\n",
       " 'Miami, FL',\n",
       " 'San Diego, CA',\n",
       " 'New York, NY',\n",
       " 'Boston, MA',\n",
       " 'Seattle, WA',\n",
       " 'Portland, OR',\n",
       " 'San Francisco, CA',\n",
       " 'Denver, CO',\n",
       " 'Pittsburgh, PA',\n",
       " 'Yellowstone National Park, WY',\n",
       " 'Minneapolis, MN',\n",
       " 'Zion National Park, UT',\n",
       " 'Canyonlands National Park, UT',\n",
       " 'Nashville, TN',\n",
       " 'Glacier National Park, MT',\n",
       " 'Knoxville, TN',\n",
       " 'Yosemite National Park, CA',\n",
       " 'Los Angeles, CA',\n",
       " 'Las Vegas, NV',\n",
       " 'St. Louis, MO',\n",
       " 'Albuquerque, NM',\n",
       " 'New Orleans, LA']"
      ]
     },
     "execution_count": 15,
     "metadata": {},
     "output_type": "execute_result"
    }
   ],
   "source": [
    "Locations"
   ]
  },
  {
   "cell_type": "code",
   "execution_count": 16,
   "id": "8730ed7a",
   "metadata": {},
   "outputs": [
    {
     "data": {
      "image/png": "[encoded data removed]",
      "text/plain": [
       "<Figure size 640x480 with 1 Axes>"
      ]
     },
     "metadata": {},
     "output_type": "display_data"
    }
   ],
   "source": [
    "\n",
    "G = nx.from_numpy_array(RouteDistance)\n",
    "\n",
    "G = nx.DiGraph()\n",
    "\n",
    "for i in range(len(Locations)):\n",
    "    G.add_node(i, pos = (Longitudes[i], Latitudes[i]))\n",
    "    for j in range(len(Locations)):\n",
    "        if (RouteDistance[i][j] != 0):\n",
    "            G.add_edge(i,j,weight=RouteDistance[i][j])\n",
    "        \n",
    "nx.draw_networkx(G,nx.get_node_attributes(G,\"pos\"),with_labels=True)\n",
    "handles_dict = {patches.Patch(color='white', label=f\"{k}, {v}\") for k,v in LocationDict.items()}\n",
    "plt.legend(handles=handles_dict,loc='right',bbox_to_anchor=(1.65,0.5))\n",
    "plt.show()"
   ]
  },
  {
   "cell_type": "code",
   "execution_count": 17,
   "id": "852d618b-6a24-47d5-8dd7-d748facefe2a",
   "metadata": {},
   "outputs": [
    {
     "name": "stderr",
     "output_type": "stream",
     "text": [
      "C:\\Users\\imtha\\AppData\\Local\\Temp\\ipykernel_6592\\1945687795.py:6: FutureWarning: Setting an item of incompatible dtype is deprecated and will raise an error in a future version of pandas. Value 'Champaign, IL' has dtype incompatible with float64, please explicitly cast to a compatible dtype first.\n",
      "  LongLat.loc[i] = [Locations[Routing[i]],Latitudes[Routing[i]],Longitudes[Routing[i]]]\n"
     ]
    },
    {
     "data": {
      "text/html": [
       "<div>\n",
       "<style scoped>\n",
       "    .dataframe tbody tr th:only-of-type {\n",
       "        vertical-align: middle;\n",
       "    }\n",
       "\n",
       "    .dataframe tbody tr th {\n",
       "        vertical-align: top;\n",
       "    }\n",
       "\n",
       "    .dataframe thead th {\n",
       "        text-align: right;\n",
       "    }\n",
       "</style>\n",
       "<table border=\"1\" class=\"dataframe\">\n",
       "  <thead>\n",
       "    <tr style=\"text-align: right;\">\n",
       "      <th></th>\n",
       "      <th>Locations</th>\n",
       "      <th>Latitudes</th>\n",
       "      <th>Longitudes</th>\n",
       "    </tr>\n",
       "  </thead>\n",
       "  <tbody>\n",
       "    <tr>\n",
       "      <th>0</th>\n",
       "      <td>Champaign, IL</td>\n",
       "      <td>40.116420</td>\n",
       "      <td>-88.243383</td>\n",
       "    </tr>\n",
       "    <tr>\n",
       "      <th>1</th>\n",
       "      <td>Chicago, IL</td>\n",
       "      <td>41.878114</td>\n",
       "      <td>-87.629798</td>\n",
       "    </tr>\n",
       "    <tr>\n",
       "      <th>2</th>\n",
       "      <td>Minneapolis, MN</td>\n",
       "      <td>44.977753</td>\n",
       "      <td>-93.265011</td>\n",
       "    </tr>\n",
       "    <tr>\n",
       "      <th>3</th>\n",
       "      <td>Denver, CO</td>\n",
       "      <td>39.739236</td>\n",
       "      <td>-104.990251</td>\n",
       "    </tr>\n",
       "    <tr>\n",
       "      <th>4</th>\n",
       "      <td>Yellowstone National Park, WY</td>\n",
       "      <td>44.597918</td>\n",
       "      <td>-110.561249</td>\n",
       "    </tr>\n",
       "    <tr>\n",
       "      <th>5</th>\n",
       "      <td>Glacier National Park, MT</td>\n",
       "      <td>48.759613</td>\n",
       "      <td>-113.787023</td>\n",
       "    </tr>\n",
       "    <tr>\n",
       "      <th>6</th>\n",
       "      <td>Seattle, WA</td>\n",
       "      <td>47.606139</td>\n",
       "      <td>-122.332848</td>\n",
       "    </tr>\n",
       "    <tr>\n",
       "      <th>7</th>\n",
       "      <td>Portland, OR</td>\n",
       "      <td>45.515232</td>\n",
       "      <td>-122.678385</td>\n",
       "    </tr>\n",
       "    <tr>\n",
       "      <th>8</th>\n",
       "      <td>San Francisco, CA</td>\n",
       "      <td>37.774929</td>\n",
       "      <td>-122.419415</td>\n",
       "    </tr>\n",
       "    <tr>\n",
       "      <th>9</th>\n",
       "      <td>Yosemite National Park, CA</td>\n",
       "      <td>37.865101</td>\n",
       "      <td>-119.538329</td>\n",
       "    </tr>\n",
       "    <tr>\n",
       "      <th>10</th>\n",
       "      <td>Los Angeles, CA</td>\n",
       "      <td>34.054908</td>\n",
       "      <td>-118.242643</td>\n",
       "    </tr>\n",
       "    <tr>\n",
       "      <th>11</th>\n",
       "      <td>San Diego, CA</td>\n",
       "      <td>32.715738</td>\n",
       "      <td>-117.161084</td>\n",
       "    </tr>\n",
       "    <tr>\n",
       "      <th>12</th>\n",
       "      <td>Las Vegas, NV</td>\n",
       "      <td>36.171563</td>\n",
       "      <td>-115.139101</td>\n",
       "    </tr>\n",
       "    <tr>\n",
       "      <th>13</th>\n",
       "      <td>Zion National Park, UT</td>\n",
       "      <td>37.298202</td>\n",
       "      <td>-113.026301</td>\n",
       "    </tr>\n",
       "    <tr>\n",
       "      <th>14</th>\n",
       "      <td>Canyonlands National Park, UT</td>\n",
       "      <td>38.163252</td>\n",
       "      <td>-109.762651</td>\n",
       "    </tr>\n",
       "    <tr>\n",
       "      <th>15</th>\n",
       "      <td>Albuquerque, NM</td>\n",
       "      <td>35.084386</td>\n",
       "      <td>-106.650422</td>\n",
       "    </tr>\n",
       "    <tr>\n",
       "      <th>16</th>\n",
       "      <td>New Orleans, LA</td>\n",
       "      <td>29.951066</td>\n",
       "      <td>-90.071532</td>\n",
       "    </tr>\n",
       "    <tr>\n",
       "      <th>17</th>\n",
       "      <td>Miami, FL</td>\n",
       "      <td>25.761680</td>\n",
       "      <td>-80.191790</td>\n",
       "    </tr>\n",
       "    <tr>\n",
       "      <th>18</th>\n",
       "      <td>New York, NY</td>\n",
       "      <td>40.712775</td>\n",
       "      <td>-74.005973</td>\n",
       "    </tr>\n",
       "    <tr>\n",
       "      <th>19</th>\n",
       "      <td>Boston, MA</td>\n",
       "      <td>42.360082</td>\n",
       "      <td>-71.058880</td>\n",
       "    </tr>\n",
       "    <tr>\n",
       "      <th>20</th>\n",
       "      <td>Pittsburgh, PA</td>\n",
       "      <td>40.440625</td>\n",
       "      <td>-79.995886</td>\n",
       "    </tr>\n",
       "    <tr>\n",
       "      <th>21</th>\n",
       "      <td>Knoxville, TN</td>\n",
       "      <td>35.960638</td>\n",
       "      <td>-83.920739</td>\n",
       "    </tr>\n",
       "    <tr>\n",
       "      <th>22</th>\n",
       "      <td>Nashville, TN</td>\n",
       "      <td>36.162664</td>\n",
       "      <td>-86.781602</td>\n",
       "    </tr>\n",
       "    <tr>\n",
       "      <th>23</th>\n",
       "      <td>St. Louis, MO</td>\n",
       "      <td>38.627003</td>\n",
       "      <td>-90.199404</td>\n",
       "    </tr>\n",
       "    <tr>\n",
       "      <th>24</th>\n",
       "      <td>Champaign, IL</td>\n",
       "      <td>40.116420</td>\n",
       "      <td>-88.243383</td>\n",
       "    </tr>\n",
       "  </tbody>\n",
       "</table>\n",
       "</div>"
      ],
      "text/plain": [
       "                        Locations  Latitudes  Longitudes\n",
       "0                   Champaign, IL  40.116420  -88.243383\n",
       "1                     Chicago, IL  41.878114  -87.629798\n",
       "2                 Minneapolis, MN  44.977753  -93.265011\n",
       "3                      Denver, CO  39.739236 -104.990251\n",
       "4   Yellowstone National Park, WY  44.597918 -110.561249\n",
       "5       Glacier National Park, MT  48.759613 -113.787023\n",
       "6                     Seattle, WA  47.606139 -122.332848\n",
       "7                    Portland, OR  45.515232 -122.678385\n",
       "8               San Francisco, CA  37.774929 -122.419415\n",
       "9      Yosemite National Park, CA  37.865101 -119.538329\n",
       "10                Los Angeles, CA  34.054908 -118.242643\n",
       "11                  San Diego, CA  32.715738 -117.161084\n",
       "12                  Las Vegas, NV  36.171563 -115.139101\n",
       "13         Zion National Park, UT  37.298202 -113.026301\n",
       "14  Canyonlands National Park, UT  38.163252 -109.762651\n",
       "15                Albuquerque, NM  35.084386 -106.650422\n",
       "16                New Orleans, LA  29.951066  -90.071532\n",
       "17                      Miami, FL  25.761680  -80.191790\n",
       "18                   New York, NY  40.712775  -74.005973\n",
       "19                     Boston, MA  42.360082  -71.058880\n",
       "20                 Pittsburgh, PA  40.440625  -79.995886\n",
       "21                  Knoxville, TN  35.960638  -83.920739\n",
       "22                  Nashville, TN  36.162664  -86.781602\n",
       "23                  St. Louis, MO  38.627003  -90.199404\n",
       "24                  Champaign, IL  40.116420  -88.243383"
      ]
     },
     "execution_count": 17,
     "metadata": {},
     "output_type": "execute_result"
    }
   ],
   "source": [
    "Zeros = np.zeros(len(Routing))\n",
    "LongLat = pd.DataFrame({\"Locations\":Zeros,\n",
    "                       \"Latitudes\":Zeros,\n",
    "                       \"Longitudes\":Zeros})\n",
    "for i in range(len(Routing)):\n",
    "    LongLat.loc[i] = [Locations[Routing[i]],Latitudes[Routing[i]],Longitudes[Routing[i]]]\n",
    "LongLat"
   ]
  },
  {
   "cell_type": "code",
   "execution_count": 50,
   "id": "167587fc-3458-459e-bc19-bfe522b0a4cb",
   "metadata": {},
   "outputs": [
    {
     "data": {
      "application/vnd.plotly.v1+json": {
       "config": {
        "plotlyServerURL": "https://plot.ly"
       },
       "data": [
        {
         "geo": "geo",
         "hovertemplate": "<b>%{hovertext}</b><br><br>Latitudes=%{lat}<br>Longitudes=%{lon}<extra></extra>",
         "hovertext": [
          "Champaign, IL",
          "Chicago, IL",
          "Minneapolis, MN",
          "Denver, CO",
          "Yellowstone National Park, WY",
          "Glacier National Park, MT",
          "Seattle, WA",
          "Portland, OR",
          "San Francisco, CA",
          "Yosemite National Park, CA",
          "Los Angeles, CA",
          "San Diego, CA",
          "Las Vegas, NV",
          "Zion National Park, UT",
          "Canyonlands National Park, UT",
          "Albuquerque, NM",
          "New Orleans, LA",
          "Miami, FL",
          "New York, NY",
          "Boston, MA",
          "Pittsburgh, PA",
          "Knoxville, TN",
          "Nashville, TN",
          "St. Louis, MO",
          "Champaign, IL"
         ],
         "lat": [
          40.1164204,
          41.8781136,
          44.977753,
          39.7392358,
          44.5979182,
          48.7596128,
          47.6061389,
          45.515232,
          37.7749295,
          37.8651011,
          34.0549076,
          32.715738,
          36.171563,
          37.2982022,
          38.1632525,
          35.0843859,
          29.95106579999999,
          25.7616798,
          40.7127753,
          42.3600825,
          40.44062479999999,
          35.9606384,
          36.1626638,
          38.6270025,
          40.1164204
         ],
         "legendgroup": "",
         "line": {
          "color": "#636efa",
          "dash": "solid"
         },
         "lon": [
          -88.2433829,
          -87.6297982,
          -93.2650108,
          -104.990251,
          -110.561249,
          -113.7870225,
          -122.3328481,
          -122.6783853,
          -122.4194155,
          -119.5383294,
          -118.242643,
          -117.1610838,
          -115.1391009,
          -113.0263005,
          -109.7626512,
          -106.650422,
          -90.0715323,
          -80.1917902,
          -74.0059728,
          -71.0588801,
          -79.9958864,
          -83.9207392,
          -86.7816016,
          -90.19940419999999,
          -88.2433829
         ],
         "marker": {
          "symbol": "circle"
         },
         "mode": "lines",
         "name": "",
         "showlegend": false,
         "type": "scattergeo"
        }
       ],
       "layout": {
        "autosize": true,
        "geo": {
         "center": {},
         "domain": {
          "x": [
           0,
           1
          ],
          "y": [
           0,
           1
          ]
         },
         "scope": "usa"
        },
        "legend": {
         "tracegroupgap": 0
        },
        "margin": {
         "t": 60
        },
        "template": {
         "data": {
          "bar": [
           {
            "error_x": {
             "color": "#2a3f5f"
            },
            "error_y": {
             "color": "#2a3f5f"
            },
            "marker": {
             "line": {
              "color": "#E5ECF6",
              "width": 0.5
             },
             "pattern": {
              "fillmode": "overlay",
              "size": 10,
              "solidity": 0.2
             }
            },
            "type": "bar"
           }
          ],
          "barpolar": [
           {
            "marker": {
             "line": {
              "color": "#E5ECF6",
              "width": 0.5
             },
             "pattern": {
              "fillmode": "overlay",
              "size": 10,
              "solidity": 0.2
             }
            },
            "type": "barpolar"
           }
          ],
          "carpet": [
           {
            "aaxis": {
             "endlinecolor": "#2a3f5f",
             "gridcolor": "white",
             "linecolor": "white",
             "minorgridcolor": "white",
             "startlinecolor": "#2a3f5f"
            },
            "baxis": {
             "endlinecolor": "#2a3f5f",
             "gridcolor": "white",
             "linecolor": "white",
             "minorgridcolor": "white",
             "startlinecolor": "#2a3f5f"
            },
            "type": "carpet"
           }
          ],
          "choropleth": [
           {
            "colorbar": {
             "outlinewidth": 0,
             "ticks": ""
            },
            "type": "choropleth"
           }
          ],
          "contour": [
           {
            "colorbar": {
             "outlinewidth": 0,
             "ticks": ""
            },
            "colorscale": [
             [
              0,
              "#0d0887"
             ],
             [
              0.1111111111111111,
              "#46039f"
             ],
             [
              0.2222222222222222,
              "#7201a8"
             ],
             [
              0.3333333333333333,
              "#9c179e"
             ],
             [
              0.4444444444444444,
              "#bd3786"
             ],
             [
              0.5555555555555556,
              "#d8576b"
             ],
             [
              0.6666666666666666,
              "#ed7953"
             ],
             [
              0.7777777777777778,
              "#fb9f3a"
             ],
             [
              0.8888888888888888,
              "#fdca26"
             ],
             [
              1,
              "#f0f921"
             ]
            ],
            "type": "contour"
           }
          ],
          "contourcarpet": [
           {
            "colorbar": {
             "outlinewidth": 0,
             "ticks": ""
            },
            "type": "contourcarpet"
           }
          ],
          "heatmap": [
           {
            "colorbar": {
             "outlinewidth": 0,
             "ticks": ""
            },
            "colorscale": [
             [
              0,
              "#0d0887"
             ],
             [
              0.1111111111111111,
              "#46039f"
             ],
             [
              0.2222222222222222,
              "#7201a8"
             ],
             [
              0.3333333333333333,
              "#9c179e"
             ],
             [
              0.4444444444444444,
              "#bd3786"
             ],
             [
              0.5555555555555556,
              "#d8576b"
             ],
             [
              0.6666666666666666,
              "#ed7953"
             ],
             [
              0.7777777777777778,
              "#fb9f3a"
             ],
             [
              0.8888888888888888,
              "#fdca26"
             ],
             [
              1,
              "#f0f921"
             ]
            ],
            "type": "heatmap"
           }
          ],
          "heatmapgl": [
           {
            "colorbar": {
             "outlinewidth": 0,
             "ticks": ""
            },
            "colorscale": [
             [
              0,
              "#0d0887"
             ],
             [
              0.1111111111111111,
              "#46039f"
             ],
             [
              0.2222222222222222,
              "#7201a8"
             ],
             [
              0.3333333333333333,
              "#9c179e"
             ],
             [
              0.4444444444444444,
              "#bd3786"
             ],
             [
              0.5555555555555556,
              "#d8576b"
             ],
             [
              0.6666666666666666,
              "#ed7953"
             ],
             [
              0.7777777777777778,
              "#fb9f3a"
             ],
             [
              0.8888888888888888,
              "#fdca26"
             ],
             [
              1,
              "#f0f921"
             ]
            ],
            "type": "heatmapgl"
           }
          ],
          "histogram": [
           {
            "marker": {
             "pattern": {
              "fillmode": "overlay",
              "size": 10,
              "solidity": 0.2
             }
            },
            "type": "histogram"
           }
          ],
          "histogram2d": [
           {
            "colorbar": {
             "outlinewidth": 0,
             "ticks": ""
            },
            "colorscale": [
             [
              0,
              "#0d0887"
             ],
             [
              0.1111111111111111,
              "#46039f"
             ],
             [
              0.2222222222222222,
              "#7201a8"
             ],
             [
              0.3333333333333333,
              "#9c179e"
             ],
             [
              0.4444444444444444,
              "#bd3786"
             ],
             [
              0.5555555555555556,
              "#d8576b"
             ],
             [
              0.6666666666666666,
              "#ed7953"
             ],
             [
              0.7777777777777778,
              "#fb9f3a"
             ],
             [
              0.8888888888888888,
              "#fdca26"
             ],
             [
              1,
              "#f0f921"
             ]
            ],
            "type": "histogram2d"
           }
          ],
          "histogram2dcontour": [
           {
            "colorbar": {
             "outlinewidth": 0,
             "ticks": ""
            },
            "colorscale": [
             [
              0,
              "#0d0887"
             ],
             [
              0.1111111111111111,
              "#46039f"
             ],
             [
              0.2222222222222222,
              "#7201a8"
             ],
             [
              0.3333333333333333,
              "#9c179e"
             ],
             [
              0.4444444444444444,
              "#bd3786"
             ],
             [
              0.5555555555555556,
              "#d8576b"
             ],
             [
              0.6666666666666666,
              "#ed7953"
             ],
             [
              0.7777777777777778,
              "#fb9f3a"
             ],
             [
              0.8888888888888888,
              "#fdca26"
             ],
             [
              1,
              "#f0f921"
             ]
            ],
            "type": "histogram2dcontour"
           }
          ],
          "mesh3d": [
           {
            "colorbar": {
             "outlinewidth": 0,
             "ticks": ""
            },
            "type": "mesh3d"
           }
          ],
          "parcoords": [
           {
            "line": {
             "colorbar": {
              "outlinewidth": 0,
              "ticks": ""
             }
            },
            "type": "parcoords"
           }
          ],
          "pie": [
           {
            "automargin": true,
            "type": "pie"
           }
          ],
          "scatter": [
           {
            "fillpattern": {
             "fillmode": "overlay",
             "size": 10,
             "solidity": 0.2
            },
            "type": "scatter"
           }
          ],
          "scatter3d": [
           {
            "line": {
             "colorbar": {
              "outlinewidth": 0,
              "ticks": ""
             }
            },
            "marker": {
             "colorbar": {
              "outlinewidth": 0,
              "ticks": ""
             }
            },
            "type": "scatter3d"
           }
          ],
          "scattercarpet": [
           {
            "marker": {
             "colorbar": {
              "outlinewidth": 0,
              "ticks": ""
             }
            },
            "type": "scattercarpet"
           }
          ],
          "scattergeo": [
           {
            "marker": {
             "colorbar": {
              "outlinewidth": 0,
              "ticks": ""
             }
            },
            "type": "scattergeo"
           }
          ],
          "scattergl": [
           {
            "marker": {
             "colorbar": {
              "outlinewidth": 0,
              "ticks": ""
             }
            },
            "type": "scattergl"
           }
          ],
          "scattermapbox": [
           {
            "marker": {
             "colorbar": {
              "outlinewidth": 0,
              "ticks": ""
             }
            },
            "type": "scattermapbox"
           }
          ],
          "scatterpolar": [
           {
            "marker": {
             "colorbar": {
              "outlinewidth": 0,
              "ticks": ""
             }
            },
            "type": "scatterpolar"
           }
          ],
          "scatterpolargl": [
           {
            "marker": {
             "colorbar": {
              "outlinewidth": 0,
              "ticks": ""
             }
            },
            "type": "scatterpolargl"
           }
          ],
          "scatterternary": [
           {
            "marker": {
             "colorbar": {
              "outlinewidth": 0,
              "ticks": ""
             }
            },
            "type": "scatterternary"
           }
          ],
          "surface": [
           {
            "colorbar": {
             "outlinewidth": 0,
             "ticks": ""
            },
            "colorscale": [
             [
              0,
              "#0d0887"
             ],
             [
              0.1111111111111111,
              "#46039f"
             ],
             [
              0.2222222222222222,
              "#7201a8"
             ],
             [
              0.3333333333333333,
              "#9c179e"
             ],
             [
              0.4444444444444444,
              "#bd3786"
             ],
             [
              0.5555555555555556,
              "#d8576b"
             ],
             [
              0.6666666666666666,
              "#ed7953"
             ],
             [
              0.7777777777777778,
              "#fb9f3a"
             ],
             [
              0.8888888888888888,
              "#fdca26"
             ],
             [
              1,
              "#f0f921"
             ]
            ],
            "type": "surface"
           }
          ],
          "table": [
           {
            "cells": {
             "fill": {
              "color": "#EBF0F8"
             },
             "line": {
              "color": "white"
             }
            },
            "header": {
             "fill": {
              "color": "#C8D4E3"
             },
             "line": {
              "color": "white"
             }
            },
            "type": "table"
           }
          ]
         },
         "layout": {
          "annotationdefaults": {
           "arrowcolor": "#2a3f5f",
           "arrowhead": 0,
           "arrowwidth": 1
          },
          "autotypenumbers": "strict",
          "coloraxis": {
           "colorbar": {
            "outlinewidth": 0,
            "ticks": ""
           }
          },
          "colorscale": {
           "diverging": [
            [
             0,
             "#8e0152"
            ],
            [
             0.1,
             "#c51b7d"
            ],
            [
             0.2,
             "#de77ae"
            ],
            [
             0.3,
             "#f1b6da"
            ],
            [
             0.4,
             "#fde0ef"
            ],
            [
             0.5,
             "#f7f7f7"
            ],
            [
             0.6,
             "#e6f5d0"
            ],
            [
             0.7,
             "#b8e186"
            ],
            [
             0.8,
             "#7fbc41"
            ],
            [
             0.9,
             "#4d9221"
            ],
            [
             1,
             "#276419"
            ]
           ],
           "sequential": [
            [
             0,
             "#0d0887"
            ],
            [
             0.1111111111111111,
             "#46039f"
            ],
            [
             0.2222222222222222,
             "#7201a8"
            ],
            [
             0.3333333333333333,
             "#9c179e"
            ],
            [
             0.4444444444444444,
             "#bd3786"
            ],
            [
             0.5555555555555556,
             "#d8576b"
            ],
            [
             0.6666666666666666,
             "#ed7953"
            ],
            [
             0.7777777777777778,
             "#fb9f3a"
            ],
            [
             0.8888888888888888,
             "#fdca26"
            ],
            [
             1,
             "#f0f921"
            ]
           ],
           "sequentialminus": [
            [
             0,
             "#0d0887"
            ],
            [
             0.1111111111111111,
             "#46039f"
            ],
            [
             0.2222222222222222,
             "#7201a8"
            ],
            [
             0.3333333333333333,
             "#9c179e"
            ],
            [
             0.4444444444444444,
             "#bd3786"
            ],
            [
             0.5555555555555556,
             "#d8576b"
            ],
            [
             0.6666666666666666,
             "#ed7953"
            ],
            [
             0.7777777777777778,
             "#fb9f3a"
            ],
            [
             0.8888888888888888,
             "#fdca26"
            ],
            [
             1,
             "#f0f921"
            ]
           ]
          },
          "colorway": [
           "#636efa",
           "#EF553B",
           "#00cc96",
           "#ab63fa",
           "#FFA15A",
           "#19d3f3",
           "#FF6692",
           "#B6E880",
           "#FF97FF",
           "#FECB52"
          ],
          "font": {
           "color": "#2a3f5f"
          },
          "geo": {
           "bgcolor": "white",
           "lakecolor": "white",
           "landcolor": "#E5ECF6",
           "showlakes": true,
           "showland": true,
           "subunitcolor": "white"
          },
          "hoverlabel": {
           "align": "left"
          },
          "hovermode": "closest",
          "mapbox": {
           "style": "light"
          },
          "paper_bgcolor": "white",
          "plot_bgcolor": "#E5ECF6",
          "polar": {
           "angularaxis": {
            "gridcolor": "white",
            "linecolor": "white",
            "ticks": ""
           },
           "bgcolor": "#E5ECF6",
           "radialaxis": {
            "gridcolor": "white",
            "linecolor": "white",
            "ticks": ""
           }
          },
          "scene": {
           "xaxis": {
            "backgroundcolor": "#E5ECF6",
            "gridcolor": "white",
            "gridwidth": 2,
            "linecolor": "white",
            "showbackground": true,
            "ticks": "",
            "zerolinecolor": "white"
           },
           "yaxis": {
            "backgroundcolor": "#E5ECF6",
            "gridcolor": "white",
            "gridwidth": 2,
            "linecolor": "white",
            "showbackground": true,
            "ticks": "",
            "zerolinecolor": "white"
           },
           "zaxis": {
            "backgroundcolor": "#E5ECF6",
            "gridcolor": "white",
            "gridwidth": 2,
            "linecolor": "white",
            "showbackground": true,
            "ticks": "",
            "zerolinecolor": "white"
           }
          },
          "shapedefaults": {
           "line": {
            "color": "#2a3f5f"
           }
          },
          "ternary": {
           "aaxis": {
            "gridcolor": "white",
            "linecolor": "white",
            "ticks": ""
           },
           "baxis": {
            "gridcolor": "white",
            "linecolor": "white",
            "ticks": ""
           },
           "bgcolor": "#E5ECF6",
           "caxis": {
            "gridcolor": "white",
            "linecolor": "white",
            "ticks": ""
           }
          },
          "title": {
           "x": 0.05
          },
          "xaxis": {
           "automargin": true,
           "gridcolor": "white",
           "linecolor": "white",
           "ticks": "",
           "title": {
            "standoff": 15
           },
           "zerolinecolor": "white",
           "zerolinewidth": 2
          },
          "yaxis": {
           "automargin": true,
           "gridcolor": "white",
           "linecolor": "white",
           "ticks": "",
           "title": {
            "standoff": 15
           },
           "zerolinecolor": "white",
           "zerolinewidth": 2
          }
         }
        }
       }
      },
      "image/png": "[encoded data removed]",
      "text/html": [
       "<div>                            <div id=\"e76734b5-8787-4a7d-a81f-f1304b7e686d\" class=\"plotly-graph-div\" style=\"height:500px; width:100%;\"></div>            <script type=\"text/javascript\">                require([\"plotly\"], function(Plotly) {                    window.PLOTLYENV=window.PLOTLYENV || {};                                    if (document.getElementById(\"e76734b5-8787-4a7d-a81f-f1304b7e686d\")) {                    Plotly.newPlot(                        \"e76734b5-8787-4a7d-a81f-f1304b7e686d\",                        [{\"geo\":\"geo\",\"hovertemplate\":\"\\u003cb\\u003e%{hovertext}\\u003c\\u002fb\\u003e\\u003cbr\\u003e\\u003cbr\\u003eLatitudes=%{lat}\\u003cbr\\u003eLongitudes=%{lon}\\u003cextra\\u003e\\u003c\\u002fextra\\u003e\",\"hovertext\":[\"Champaign, IL\",\"Chicago, IL\",\"Minneapolis, MN\",\"Denver, CO\",\"Yellowstone National Park, WY\",\"Glacier National Park, MT\",\"Seattle, WA\",\"Portland, OR\",\"San Francisco, CA\",\"Yosemite National Park, CA\",\"Los Angeles, CA\",\"San Diego, CA\",\"Las Vegas, NV\",\"Zion National Park, UT\",\"Canyonlands National Park, UT\",\"Albuquerque, NM\",\"New Orleans, LA\",\"Miami, FL\",\"New York, NY\",\"Boston, MA\",\"Pittsburgh, PA\",\"Knoxville, TN\",\"Nashville, TN\",\"St. Louis, MO\",\"Champaign, IL\"],\"lat\":[40.1164204,41.8781136,44.977753,39.7392358,44.5979182,48.7596128,47.6061389,45.515232,37.7749295,37.8651011,34.0549076,32.715738,36.171563,37.2982022,38.1632525,35.0843859,29.95106579999999,25.7616798,40.7127753,42.3600825,40.44062479999999,35.9606384,36.1626638,38.6270025,40.1164204],\"legendgroup\":\"\",\"line\":{\"color\":\"#636efa\",\"dash\":\"solid\"},\"lon\":[-88.2433829,-87.6297982,-93.2650108,-104.990251,-110.561249,-113.7870225,-122.3328481,-122.6783853,-122.4194155,-119.5383294,-118.242643,-117.1610838,-115.1391009,-113.0263005,-109.7626512,-106.650422,-90.0715323,-80.1917902,-74.0059728,-71.0588801,-79.9958864,-83.9207392,-86.7816016,-90.19940419999999,-88.2433829],\"marker\":{\"symbol\":\"circle\"},\"mode\":\"lines\",\"name\":\"\",\"showlegend\":false,\"type\":\"scattergeo\"}],                        {\"template\":{\"data\":{\"histogram2dcontour\":[{\"type\":\"histogram2dcontour\",\"colorbar\":{\"outlinewidth\":0,\"ticks\":\"\"},\"colorscale\":[[0.0,\"#0d0887\"],[0.1111111111111111,\"#46039f\"],[0.2222222222222222,\"#7201a8\"],[0.3333333333333333,\"#9c179e\"],[0.4444444444444444,\"#bd3786\"],[0.5555555555555556,\"#d8576b\"],[0.6666666666666666,\"#ed7953\"],[0.7777777777777778,\"#fb9f3a\"],[0.8888888888888888,\"#fdca26\"],[1.0,\"#f0f921\"]]}],\"choropleth\":[{\"type\":\"choropleth\",\"colorbar\":{\"outlinewidth\":0,\"ticks\":\"\"}}],\"histogram2d\":[{\"type\":\"histogram2d\",\"colorbar\":{\"outlinewidth\":0,\"ticks\":\"\"},\"colorscale\":[[0.0,\"#0d0887\"],[0.1111111111111111,\"#46039f\"],[0.2222222222222222,\"#7201a8\"],[0.3333333333333333,\"#9c179e\"],[0.4444444444444444,\"#bd3786\"],[0.5555555555555556,\"#d8576b\"],[0.6666666666666666,\"#ed7953\"],[0.7777777777777778,\"#fb9f3a\"],[0.8888888888888888,\"#fdca26\"],[1.0,\"#f0f921\"]]}],\"heatmap\":[{\"type\":\"heatmap\",\"colorbar\":{\"outlinewidth\":0,\"ticks\":\"\"},\"colorscale\":[[0.0,\"#0d0887\"],[0.1111111111111111,\"#46039f\"],[0.2222222222222222,\"#7201a8\"],[0.3333333333333333,\"#9c179e\"],[0.4444444444444444,\"#bd3786\"],[0.5555555555555556,\"#d8576b\"],[0.6666666666666666,\"#ed7953\"],[0.7777777777777778,\"#fb9f3a\"],[0.8888888888888888,\"#fdca26\"],[1.0,\"#f0f921\"]]}],\"heatmapgl\":[{\"type\":\"heatmapgl\",\"colorbar\":{\"outlinewidth\":0,\"ticks\":\"\"},\"colorscale\":[[0.0,\"#0d0887\"],[0.1111111111111111,\"#46039f\"],[0.2222222222222222,\"#7201a8\"],[0.3333333333333333,\"#9c179e\"],[0.4444444444444444,\"#bd3786\"],[0.5555555555555556,\"#d8576b\"],[0.6666666666666666,\"#ed7953\"],[0.7777777777777778,\"#fb9f3a\"],[0.8888888888888888,\"#fdca26\"],[1.0,\"#f0f921\"]]}],\"contourcarpet\":[{\"type\":\"contourcarpet\",\"colorbar\":{\"outlinewidth\":0,\"ticks\":\"\"}}],\"contour\":[{\"type\":\"contour\",\"colorbar\":{\"outlinewidth\":0,\"ticks\":\"\"},\"colorscale\":[[0.0,\"#0d0887\"],[0.1111111111111111,\"#46039f\"],[0.2222222222222222,\"#7201a8\"],[0.3333333333333333,\"#9c179e\"],[0.4444444444444444,\"#bd3786\"],[0.5555555555555556,\"#d8576b\"],[0.6666666666666666,\"#ed7953\"],[0.7777777777777778,\"#fb9f3a\"],[0.8888888888888888,\"#fdca26\"],[1.0,\"#f0f921\"]]}],\"surface\":[{\"type\":\"surface\",\"colorbar\":{\"outlinewidth\":0,\"ticks\":\"\"},\"colorscale\":[[0.0,\"#0d0887\"],[0.1111111111111111,\"#46039f\"],[0.2222222222222222,\"#7201a8\"],[0.3333333333333333,\"#9c179e\"],[0.4444444444444444,\"#bd3786\"],[0.5555555555555556,\"#d8576b\"],[0.6666666666666666,\"#ed7953\"],[0.7777777777777778,\"#fb9f3a\"],[0.8888888888888888,\"#fdca26\"],[1.0,\"#f0f921\"]]}],\"mesh3d\":[{\"type\":\"mesh3d\",\"colorbar\":{\"outlinewidth\":0,\"ticks\":\"\"}}],\"scatter\":[{\"fillpattern\":{\"fillmode\":\"overlay\",\"size\":10,\"solidity\":0.2},\"type\":\"scatter\"}],\"parcoords\":[{\"type\":\"parcoords\",\"line\":{\"colorbar\":{\"outlinewidth\":0,\"ticks\":\"\"}}}],\"scatterpolargl\":[{\"type\":\"scatterpolargl\",\"marker\":{\"colorbar\":{\"outlinewidth\":0,\"ticks\":\"\"}}}],\"bar\":[{\"error_x\":{\"color\":\"#2a3f5f\"},\"error_y\":{\"color\":\"#2a3f5f\"},\"marker\":{\"line\":{\"color\":\"#E5ECF6\",\"width\":0.5},\"pattern\":{\"fillmode\":\"overlay\",\"size\":10,\"solidity\":0.2}},\"type\":\"bar\"}],\"scattergeo\":[{\"type\":\"scattergeo\",\"marker\":{\"colorbar\":{\"outlinewidth\":0,\"ticks\":\"\"}}}],\"scatterpolar\":[{\"type\":\"scatterpolar\",\"marker\":{\"colorbar\":{\"outlinewidth\":0,\"ticks\":\"\"}}}],\"histogram\":[{\"marker\":{\"pattern\":{\"fillmode\":\"overlay\",\"size\":10,\"solidity\":0.2}},\"type\":\"histogram\"}],\"scattergl\":[{\"type\":\"scattergl\",\"marker\":{\"colorbar\":{\"outlinewidth\":0,\"ticks\":\"\"}}}],\"scatter3d\":[{\"type\":\"scatter3d\",\"line\":{\"colorbar\":{\"outlinewidth\":0,\"ticks\":\"\"}},\"marker\":{\"colorbar\":{\"outlinewidth\":0,\"ticks\":\"\"}}}],\"scattermapbox\":[{\"type\":\"scattermapbox\",\"marker\":{\"colorbar\":{\"outlinewidth\":0,\"ticks\":\"\"}}}],\"scatterternary\":[{\"type\":\"scatterternary\",\"marker\":{\"colorbar\":{\"outlinewidth\":0,\"ticks\":\"\"}}}],\"scattercarpet\":[{\"type\":\"scattercarpet\",\"marker\":{\"colorbar\":{\"outlinewidth\":0,\"ticks\":\"\"}}}],\"carpet\":[{\"aaxis\":{\"endlinecolor\":\"#2a3f5f\",\"gridcolor\":\"white\",\"linecolor\":\"white\",\"minorgridcolor\":\"white\",\"startlinecolor\":\"#2a3f5f\"},\"baxis\":{\"endlinecolor\":\"#2a3f5f\",\"gridcolor\":\"white\",\"linecolor\":\"white\",\"minorgridcolor\":\"white\",\"startlinecolor\":\"#2a3f5f\"},\"type\":\"carpet\"}],\"table\":[{\"cells\":{\"fill\":{\"color\":\"#EBF0F8\"},\"line\":{\"color\":\"white\"}},\"header\":{\"fill\":{\"color\":\"#C8D4E3\"},\"line\":{\"color\":\"white\"}},\"type\":\"table\"}],\"barpolar\":[{\"marker\":{\"line\":{\"color\":\"#E5ECF6\",\"width\":0.5},\"pattern\":{\"fillmode\":\"overlay\",\"size\":10,\"solidity\":0.2}},\"type\":\"barpolar\"}],\"pie\":[{\"automargin\":true,\"type\":\"pie\"}]},\"layout\":{\"autotypenumbers\":\"strict\",\"colorway\":[\"#636efa\",\"#EF553B\",\"#00cc96\",\"#ab63fa\",\"#FFA15A\",\"#19d3f3\",\"#FF6692\",\"#B6E880\",\"#FF97FF\",\"#FECB52\"],\"font\":{\"color\":\"#2a3f5f\"},\"hovermode\":\"closest\",\"hoverlabel\":{\"align\":\"left\"},\"paper_bgcolor\":\"white\",\"plot_bgcolor\":\"#E5ECF6\",\"polar\":{\"bgcolor\":\"#E5ECF6\",\"angularaxis\":{\"gridcolor\":\"white\",\"linecolor\":\"white\",\"ticks\":\"\"},\"radialaxis\":{\"gridcolor\":\"white\",\"linecolor\":\"white\",\"ticks\":\"\"}},\"ternary\":{\"bgcolor\":\"#E5ECF6\",\"aaxis\":{\"gridcolor\":\"white\",\"linecolor\":\"white\",\"ticks\":\"\"},\"baxis\":{\"gridcolor\":\"white\",\"linecolor\":\"white\",\"ticks\":\"\"},\"caxis\":{\"gridcolor\":\"white\",\"linecolor\":\"white\",\"ticks\":\"\"}},\"coloraxis\":{\"colorbar\":{\"outlinewidth\":0,\"ticks\":\"\"}},\"colorscale\":{\"sequential\":[[0.0,\"#0d0887\"],[0.1111111111111111,\"#46039f\"],[0.2222222222222222,\"#7201a8\"],[0.3333333333333333,\"#9c179e\"],[0.4444444444444444,\"#bd3786\"],[0.5555555555555556,\"#d8576b\"],[0.6666666666666666,\"#ed7953\"],[0.7777777777777778,\"#fb9f3a\"],[0.8888888888888888,\"#fdca26\"],[1.0,\"#f0f921\"]],\"sequentialminus\":[[0.0,\"#0d0887\"],[0.1111111111111111,\"#46039f\"],[0.2222222222222222,\"#7201a8\"],[0.3333333333333333,\"#9c179e\"],[0.4444444444444444,\"#bd3786\"],[0.5555555555555556,\"#d8576b\"],[0.6666666666666666,\"#ed7953\"],[0.7777777777777778,\"#fb9f3a\"],[0.8888888888888888,\"#fdca26\"],[1.0,\"#f0f921\"]],\"diverging\":[[0,\"#8e0152\"],[0.1,\"#c51b7d\"],[0.2,\"#de77ae\"],[0.3,\"#f1b6da\"],[0.4,\"#fde0ef\"],[0.5,\"#f7f7f7\"],[0.6,\"#e6f5d0\"],[0.7,\"#b8e186\"],[0.8,\"#7fbc41\"],[0.9,\"#4d9221\"],[1,\"#276419\"]]},\"xaxis\":{\"gridcolor\":\"white\",\"linecolor\":\"white\",\"ticks\":\"\",\"title\":{\"standoff\":15},\"zerolinecolor\":\"white\",\"automargin\":true,\"zerolinewidth\":2},\"yaxis\":{\"gridcolor\":\"white\",\"linecolor\":\"white\",\"ticks\":\"\",\"title\":{\"standoff\":15},\"zerolinecolor\":\"white\",\"automargin\":true,\"zerolinewidth\":2},\"scene\":{\"xaxis\":{\"backgroundcolor\":\"#E5ECF6\",\"gridcolor\":\"white\",\"linecolor\":\"white\",\"showbackground\":true,\"ticks\":\"\",\"zerolinecolor\":\"white\",\"gridwidth\":2},\"yaxis\":{\"backgroundcolor\":\"#E5ECF6\",\"gridcolor\":\"white\",\"linecolor\":\"white\",\"showbackground\":true,\"ticks\":\"\",\"zerolinecolor\":\"white\",\"gridwidth\":2},\"zaxis\":{\"backgroundcolor\":\"#E5ECF6\",\"gridcolor\":\"white\",\"linecolor\":\"white\",\"showbackground\":true,\"ticks\":\"\",\"zerolinecolor\":\"white\",\"gridwidth\":2}},\"shapedefaults\":{\"line\":{\"color\":\"#2a3f5f\"}},\"annotationdefaults\":{\"arrowcolor\":\"#2a3f5f\",\"arrowhead\":0,\"arrowwidth\":1},\"geo\":{\"bgcolor\":\"white\",\"landcolor\":\"#E5ECF6\",\"subunitcolor\":\"white\",\"showland\":true,\"showlakes\":true,\"lakecolor\":\"white\"},\"title\":{\"x\":0.05},\"mapbox\":{\"style\":\"light\"}}},\"geo\":{\"domain\":{\"x\":[0.0,1.0],\"y\":[0.0,1.0]},\"center\":{},\"scope\":\"usa\"},\"legend\":{\"tracegroupgap\":0},\"margin\":{\"t\":60},\"height\":500},                        {\"responsive\": true}                    ).then(function(){\n",
       "                            \n",
       "var gd = document.getElementById('e76734b5-8787-4a7d-a81f-f1304b7e686d');\n",
       "var x = new MutationObserver(function (mutations, observer) {{\n",
       "        var display = window.getComputedStyle(gd).display;\n",
       "        if (!display || display === 'none') {{\n",
       "            console.log([gd, 'removed!']);\n",
       "            Plotly.purge(gd);\n",
       "            observer.disconnect();\n",
       "        }}\n",
       "}});\n",
       "\n",
       "// Listen for the removal of the full notebook cells\n",
       "var notebookContainer = gd.closest('#notebook-container');\n",
       "if (notebookContainer) {{\n",
       "    x.observe(notebookContainer, {childList: true});\n",
       "}}\n",
       "\n",
       "// Listen for the clearing of the current output cell\n",
       "var outputEl = gd.closest('.output');\n",
       "if (outputEl) {{\n",
       "    x.observe(outputEl, {childList: true});\n",
       "}}\n",
       "\n",
       "                        })                };                });            </script>        </div>"
      ]
     },
     "metadata": {},
     "output_type": "display_data"
    }
   ],
   "source": [
    "fig = px.line_geo(LongLat,lat=\"Latitudes\",lon=\"Longitudes\",hover_name=\"Locations\")\n",
    "fig.update_layout(geo_scope=\"usa\",height=500)\n",
    "fig.show()"
   ]
  }
 ],
 "metadata": {
  "kernelspec": {
   "display_name": "Python 3 (ipykernel)",
   "language": "python",
   "name": "python3"
  },
  "language_info": {
   "codemirror_mode": {
    "name": "ipython",
    "version": 3
   },
   "file_extension": ".py",
   "mimetype": "text/x-python",
   "name": "python",
   "nbconvert_exporter": "python",
   "pygments_lexer": "ipython3",
   "version": "3.12.4"
  }
 },
 "nbformat": 4,
 "nbformat_minor": 5
}
