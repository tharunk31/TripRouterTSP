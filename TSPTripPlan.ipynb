{
 "cells": [
  {
   "cell_type": "code",
   "execution_count": 23,
   "id": "b0752f3d",
   "metadata": {},
   "outputs": [],
   "source": [
    "import numpy as np\n",
    "import pandas as pd\n",
    "import googlemaps\n",
    "import math\n",
    "import csv\n",
    "import gurobipy as gp\n",
    "from gurobipy import GRB\n",
    "import networkx as nx\n",
    "import matplotlib.pyplot as plt\n",
    "import matplotlib.patches as patches\n",
    "import geopandas\n",
    "import plotly.express as px"
   ]
  },
  {
   "cell_type": "code",
   "execution_count": 24,
   "id": "3924b98a",
   "metadata": {},
   "outputs": [],
   "source": [
    "gmaps = googlemaps.Client(key = \"ENTER YOUR GOOGLE MAPS API KEY HERE\")\n",
    "Locations = []\n",
    "\n",
    "ImportList = input(\"Load previously saved csv file location list?\\nEnter'Y' for yes and 'N' for no\\n\")\n",
    "if (ImportList == 'Y'):\n",
    "    with open(\"C:\\\\TV\\\\Locations.csv\",newline='') as f:\n",
    "        reader = csv.reader(f)\n",
    "        Locations = list(reader)\n",
    "        \n",
    "    for i in range(len(Locations)):\n",
    "        Locations[i] = Locations[i][0]\n",
    "\n",
    "Entry = input(\"Enter place to visit:\\nEnter 'stop' to stop\\n\")\n",
    "while (Entry != 'stop'):\n",
    "    if (Entry not in Locations):\n",
    "        Locations.append(Entry)\n",
    "    Entry = input(\"Enter place to visit:\\n Enter 'stop' to stop\\n\")"
   ]
  },
  {
   "cell_type": "code",
   "execution_count": 25,
   "id": "3be4e265",
   "metadata": {},
   "outputs": [
    {
     "data": {
      "text/plain": [
       "['Champaign, IL',\n",
       " 'Chicago, IL',\n",
       " 'Minneapolis, MN',\n",
       " 'Glacier National Park, MT',\n",
       " 'Seattle, WA',\n",
       " 'Pittsburgh, PA',\n",
       " 'Boston, MA',\n",
       " 'San Diego, CA',\n",
       " 'Miami, FL',\n",
       " 'Albuquerque, NM',\n",
       " 'Denver, CO',\n",
       " 'New Orleans, LA',\n",
       " 'Zion National Park, UT',\n",
       " 'Los Angeles, CA',\n",
       " 'San Francisco, CA',\n",
       " 'Canyonlands National Park, UT',\n",
       " 'Yosemite National Park, CA',\n",
       " 'Yellowstone National Park, WY',\n",
       " 'Knoxville, TN',\n",
       " 'Washington DC, DC',\n",
       " 'Philadelphia, PA',\n",
       " 'Greensboro, NC',\n",
       " 'Nashville, TN',\n",
       " 'St. Louis, MO',\n",
       " 'Las Vegas, NV',\n",
       " 'New York, NY',\n",
       " 'Niagara Falls, NY',\n",
       " 'Capitol Reef National Park, UT',\n",
       " 'Grand Canyon National Park, AZ',\n",
       " 'Arches National Park, UT',\n",
       " 'Bryce Canyon National Park, UT',\n",
       " 'Portland, OR']"
      ]
     },
     "execution_count": 25,
     "metadata": {},
     "output_type": "execute_result"
    }
   ],
   "source": [
    "Locations"
   ]
  },
  {
   "cell_type": "code",
   "execution_count": 26,
   "id": "bdfe8f86",
   "metadata": {},
   "outputs": [],
   "source": [
    "RemoveLoc = input(\"Remove any location? 'Y' for yes and 'N' for no\\n\")\n",
    "if RemoveLoc == 'Y':\n",
    "    LocEntry = input(\"Enter Location: Enter 'stop' to stop\\n\")\n",
    "    while (LocEntry != 'stop'):\n",
    "        Locations.remove(LocEntry)\n",
    "        LocEntry = input(\"Enter Location: Enter 'stop' to stop\\n\")\n",
    "        "
   ]
  },
  {
   "cell_type": "code",
   "execution_count": 27,
   "id": "fe537341",
   "metadata": {},
   "outputs": [
    {
     "data": {
      "text/plain": [
       "['Champaign, IL',\n",
       " 'Chicago, IL',\n",
       " 'Minneapolis, MN',\n",
       " 'Glacier National Park, MT',\n",
       " 'Seattle, WA',\n",
       " 'Pittsburgh, PA',\n",
       " 'Boston, MA',\n",
       " 'San Diego, CA',\n",
       " 'Miami, FL',\n",
       " 'Albuquerque, NM',\n",
       " 'Denver, CO',\n",
       " 'New Orleans, LA',\n",
       " 'Zion National Park, UT',\n",
       " 'Los Angeles, CA',\n",
       " 'San Francisco, CA',\n",
       " 'Canyonlands National Park, UT',\n",
       " 'Yosemite National Park, CA',\n",
       " 'Yellowstone National Park, WY',\n",
       " 'Knoxville, TN',\n",
       " 'Washington DC, DC',\n",
       " 'Philadelphia, PA',\n",
       " 'Greensboro, NC',\n",
       " 'Nashville, TN',\n",
       " 'St. Louis, MO',\n",
       " 'Las Vegas, NV',\n",
       " 'New York, NY',\n",
       " 'Niagara Falls, NY',\n",
       " 'Capitol Reef National Park, UT',\n",
       " 'Grand Canyon National Park, AZ',\n",
       " 'Arches National Park, UT',\n",
       " 'Bryce Canyon National Park, UT',\n",
       " 'Portland, OR']"
      ]
     },
     "execution_count": 27,
     "metadata": {},
     "output_type": "execute_result"
    }
   ],
   "source": [
    "Locations"
   ]
  },
  {
   "cell_type": "code",
   "execution_count": 28,
   "id": "82d7db29",
   "metadata": {},
   "outputs": [],
   "source": [
    "if ImportList == 'Y':\n",
    "\n",
    "    ImportedDistanceMatrix = np.genfromtxt(\"C:\\\\TV\\\\Distance.csv\",delimiter=\",\")\n",
    "    ImportedDurationMatrix = np.genfromtxt(\"C:\\\\TV\\\\Duration.csv\",delimiter=\",\")"
   ]
  },
  {
   "cell_type": "code",
   "execution_count": 29,
   "id": "2e87b206",
   "metadata": {},
   "outputs": [],
   "source": [
    "DistanceMatrix = np.zeros((len(Locations),len(Locations)))\n",
    "DurationMatrix = np.zeros((len(Locations),len(Locations)))\n",
    "\n",
    "if ((ImportList =='N') or (RemoveLoc =='Y')):\n",
    "\n",
    "    for i in range(len(Locations)):\n",
    "        for j in range(len(Locations)):\n",
    "                TestGeoCode = gmaps.distance_matrix(Locations[i],Locations[j])\n",
    "                if (i != j):\n",
    "                    if (TestGeoCode['rows'][0]['elements'][0]['status'] == 'OK'):\n",
    "                        DistanceMatrix[i][j] = TestGeoCode['rows'][0]['elements'][0]['distance']['value']/1000\n",
    "                        DurationMatrix[i][j] = TestGeoCode['rows'][0]['elements'][0]['duration']['value']/3600\n",
    "                    else:\n",
    "                        DistanceMatrix[i][j] = 1000000000 \n",
    "                        DurationMatrix[i][j] = 1000000000\n",
    "\n",
    "\n",
    "if ((RemoveLoc == 'N') and (ImportList == 'Y')):\n",
    "\n",
    "    for i in range(len(Locations)):\n",
    "        for j in range(len(Locations)):\n",
    "            if ((i < len(ImportedDistanceMatrix)) and (j < len(ImportedDistanceMatrix))):\n",
    "                DistanceMatrix[i][j] = ImportedDistanceMatrix[i][j]\n",
    "                DurationMatrix[i][j] = ImportedDurationMatrix[i][j]\n",
    "            else:\n",
    "                TestGeoCode = gmaps.distance_matrix(Locations[i],Locations[j])\n",
    "                if (i != j):\n",
    "                    if (TestGeoCode['rows'][0]['elements'][0]['status'] == 'OK'):\n",
    "                        DistanceMatrix[i][j] = TestGeoCode['rows'][0]['elements'][0]['distance']['value']/1000\n",
    "                        DurationMatrix[i][j] = TestGeoCode['rows'][0]['elements'][0]['duration']['value']/3600\n",
    "                    else:\n",
    "                        DistanceMatrix[i][j] = 1000000000\n",
    "                        DurationMatrix[i][j] = 1000000000"
   ]
  },
  {
   "cell_type": "code",
   "execution_count": 30,
   "id": "598cb91f",
   "metadata": {},
   "outputs": [],
   "source": [
    "# DistanceMatrix = np.zeros((len(Locations),len(Locations)))\n",
    "\n",
    "# for i in range(len(Locations)):\n",
    "#     for j in range(len(Locations)):\n",
    "#         if (TestGeoCode['rows'][i]['elements'][j]['status'] == 'OK'):\n",
    "#             DistanceMatrix[i][j] = TestGeoCode['rows'][i]['elements'][j]['distance']['value']/1000\n",
    "#         else:\n",
    "#             DistanceMatrix[i][j] = np.inf\n",
    "\n",
    "\n",
    "# for i in range(len(Locations)):\n",
    "#     InfCount = 0\n",
    "#     for j in range(len(Locations)):\n",
    "#         if (DistanceMatrix[i][j] == np.inf):\n",
    "#             InfCount += 1\n",
    "#     if InfCount == len(Locations):\n",
    "#         DistanceMatrix = np.delete(DistanceMatrix, (i), axis=0)\n",
    "#         DistanceMatrix = np.delete(DistanceMatrix, (i), axis=1)\n",
    "#         Locations.pop(i)\n",
    "    \n",
    "# DistanceMatrix"
   ]
  },
  {
   "cell_type": "code",
   "execution_count": 31,
   "id": "cf89bfb5",
   "metadata": {},
   "outputs": [
    {
     "data": {
      "text/plain": [
       "['Champaign, IL',\n",
       " 'Chicago, IL',\n",
       " 'Minneapolis, MN',\n",
       " 'Glacier National Park, MT',\n",
       " 'Seattle, WA',\n",
       " 'Pittsburgh, PA',\n",
       " 'Boston, MA',\n",
       " 'San Diego, CA',\n",
       " 'Miami, FL',\n",
       " 'Albuquerque, NM',\n",
       " 'Denver, CO',\n",
       " 'New Orleans, LA',\n",
       " 'Zion National Park, UT',\n",
       " 'Los Angeles, CA',\n",
       " 'San Francisco, CA',\n",
       " 'Canyonlands National Park, UT',\n",
       " 'Yosemite National Park, CA',\n",
       " 'Yellowstone National Park, WY',\n",
       " 'Knoxville, TN',\n",
       " 'Washington DC, DC',\n",
       " 'Philadelphia, PA',\n",
       " 'Greensboro, NC',\n",
       " 'Nashville, TN',\n",
       " 'St. Louis, MO',\n",
       " 'Las Vegas, NV',\n",
       " 'New York, NY',\n",
       " 'Niagara Falls, NY',\n",
       " 'Capitol Reef National Park, UT',\n",
       " 'Grand Canyon National Park, AZ',\n",
       " 'Arches National Park, UT',\n",
       " 'Bryce Canyon National Park, UT',\n",
       " 'Portland, OR']"
      ]
     },
     "execution_count": 31,
     "metadata": {},
     "output_type": "execute_result"
    }
   ],
   "source": [
    "Locations"
   ]
  },
  {
   "cell_type": "code",
   "execution_count": 32,
   "id": "d685d5f9",
   "metadata": {},
   "outputs": [
    {
     "name": "stdout",
     "output_type": "stream",
     "text": [
      "Location file saved\n",
      "Distance file saved\n",
      "Duration file saved\n"
     ]
    }
   ],
   "source": [
    "SaveList = input(\"Save locations and distances?\\nEnter 'Y' for yes 'N' for no\\n\")\n",
    "\n",
    "if (SaveList == 'Y'):\n",
    "    with open(\"C:\\\\TV\\\\Locations.csv\",\"w\",newline='') as f:\n",
    "        write = csv.writer(f,dialect='excel')\n",
    "        for i in Locations:\n",
    "            write.writerow([i])\n",
    "    print(\"Location file saved\")\n",
    "    \n",
    "    np.savetxt(\"C:\\\\TV\\\\Distance.csv\", DistanceMatrix,\n",
    "              delimiter=\",\")\n",
    "    print(\"Distance file saved\")\n",
    "\n",
    "    np.savetxt(\"C:\\\\TV\\\\Duration.csv\", DurationMatrix,\n",
    "              delimiter=\",\")\n",
    "    print(\"Duration file saved\")"
   ]
  },
  {
   "cell_type": "code",
   "execution_count": 33,
   "id": "150c3bb9",
   "metadata": {},
   "outputs": [
    {
     "name": "stdout",
     "output_type": "stream",
     "text": [
      "Gurobi Optimizer version 11.0.1 build v11.0.1rc0 (win64 - Windows 11.0 (22631.2))\n",
      "\n",
      "CPU model: 12th Gen Intel(R) Core(TM) i7-1250U, instruction set [SSE2|AVX|AVX2]\n",
      "Thread count: 10 physical cores, 12 logical processors, using up to 12 threads\n",
      "\n",
      "Optimize a model with 1057 rows, 1056 columns and 4901 nonzeros\n",
      "Model fingerprint: 0xe19f145d\n",
      "Variable types: 0 continuous, 1056 integer (1024 binary)\n",
      "Coefficient statistics:\n",
      "  Matrix range     [1e+00, 3e+01]\n",
      "  Objective range  [1e+02, 5e+03]\n",
      "  Bounds range     [1e+00, 3e+01]\n",
      "  RHS range        [1e+00, 3e+01]\n",
      "Presolve removed 63 rows and 33 columns\n",
      "Presolve time: 0.02s\n",
      "Presolved: 994 rows, 1023 columns, 4774 nonzeros\n",
      "Variable types: 0 continuous, 1023 integer (992 binary)\n",
      "Found heuristic solution: objective 81615.723000\n",
      "Found heuristic solution: objective 66942.022000\n",
      "\n",
      "Root relaxation: objective 1.375662e+04, 118 iterations, 0.00 seconds (0.00 work units)\n",
      "\n",
      "    Nodes    |    Current Node    |     Objective Bounds      |     Work\n",
      " Expl Unexpl |  Obj  Depth IntInf | Incumbent    BestBd   Gap | It/Node Time\n",
      "\n",
      "     0     0 13756.6218    0   42 66942.0220 13756.6218  79.4%     -    0s\n",
      "H    0     0                    21468.285000 13756.6218  35.9%     -    0s\n",
      "     0     0 16120.7618    0   62 21468.2850 16120.7618  24.9%     -    0s\n",
      "     0     0 16150.0491    0   81 21468.2850 16150.0491  24.8%     -    0s\n",
      "     0     0 16185.5399    0   81 21468.2850 16185.5399  24.6%     -    0s\n",
      "     0     0 16185.5399    0   85 21468.2850 16185.5399  24.6%     -    0s\n",
      "H    0     0                    21156.379000 16185.5399  23.5%     -    0s\n",
      "     0     0 16185.5399    0   85 21156.3790 16185.5399  23.5%     -    0s\n",
      "     0     0 16194.2650    0   83 21156.3790 16194.2650  23.5%     -    0s\n",
      "H    0     0                    19371.793000 16194.2650  16.4%     -    0s\n",
      "     0     0 16194.2650    0   85 19371.7930 16194.2650  16.4%     -    0s\n",
      "     0     0 16194.2650    0   85 19371.7930 16194.2650  16.4%     -    0s\n",
      "     0     0 16194.2650    0   85 19371.7930 16194.2650  16.4%     -    0s\n",
      "     0     0 16343.7222    0   42 19371.7930 16343.7222  15.6%     -    0s\n",
      "H    0     0                    17945.589000 16343.7222  8.93%     -    0s\n",
      "     0     0 16343.7222    0   56 17945.5890 16343.7222  8.93%     -    0s\n",
      "     0     0 16343.7222    0   42 17945.5890 16343.7222  8.93%     -    0s\n",
      "     0     0 16343.7222    0   56 17945.5890 16343.7222  8.93%     -    0s\n",
      "     0     0 16343.7222    0   62 17945.5890 16343.7222  8.93%     -    0s\n",
      "     0     0 16343.7222    0   86 17945.5890 16343.7222  8.93%     -    0s\n",
      "     0     0 16343.7222    0   86 17945.5890 16343.7222  8.93%     -    0s\n",
      "     0     0 16343.7222    0   93 17945.5890 16343.7222  8.93%     -    0s\n",
      "     0     0 16390.4631    0   95 17945.5890 16390.4631  8.67%     -    0s\n",
      "     0     0 16420.5141    0   86 17945.5890 16420.5141  8.50%     -    0s\n",
      "     0     0 16420.5141    0   92 17945.5890 16420.5141  8.50%     -    0s\n",
      "     0     0 16424.7265    0   89 17945.5890 16424.7265  8.47%     -    0s\n",
      "     0     0 16424.7265    0   94 17945.5890 16424.7265  8.47%     -    0s\n",
      "     0     0 16427.8517    0   90 17945.5890 16427.8517  8.46%     -    0s\n",
      "     0     0 16434.3905    0   90 17945.5890 16434.3905  8.42%     -    0s\n",
      "     0     2 16442.9030    0   90 17945.5890 16442.9030  8.37%     -    0s\n",
      " 22014  7837 17836.6398   42   27 17945.5890 17146.7662  4.45%   7.0    5s\n",
      " 36528 12700 17485.1703   26   76 17945.5890 17229.1830  3.99%   7.0   10s\n",
      " 39265 13198 17229.1830   40   78 17945.5890 17229.1830  3.99%   7.2   15s\n",
      " 57398 15126 17557.3588   70   30 17945.5890 17229.1830  3.99%   7.3   20s\n",
      " 82967 18752 17888.7870   51   15 17945.5890 17285.6295  3.68%   7.3   25s\n",
      " 110007 27216     cutoff   59      17945.5890 17355.1133  3.29%   7.3   30s\n",
      " 136277 34635     cutoff   46      17945.5890 17403.0033  3.02%   7.4   35s\n",
      " 155229 39165     cutoff   65      17945.5890 17431.8032  2.86%   7.5   40s\n",
      " 176504 43915     cutoff   58      17945.5890 17459.7520  2.71%   7.6   45s\n",
      " 197044 47854 17826.4416   53    4 17945.5890 17484.7974  2.57%   7.6   50s\n",
      " 218424 50685 infeasible   51      17945.5890 17508.8682  2.43%   7.7   55s\n",
      " 237751 52719 17785.7028   52    8 17945.5890 17529.2231  2.32%   7.8   60s\n",
      " 259214 54406 17722.0337   53   14 17945.5890 17550.2688  2.20%   7.8   65s\n",
      " 280697 55409     cutoff   48      17945.5890 17570.2800  2.09%   7.9   70s\n",
      " 301169 55947 17895.7666   52   23 17945.5890 17588.4534  1.99%   7.9   75s\n",
      " 317370 55775 17944.8380   52    7 17945.5890 17601.7145  1.92%   8.0   80s\n",
      " 337055 55449 17899.3429   55   16 17945.5890 17619.4152  1.82%   8.0   85s\n",
      " 354238 54818 infeasible   50      17945.5890 17633.6241  1.74%   8.1   90s\n",
      "*356570 53307              59    17915.145000 17634.8491  1.56%   8.1   90s\n",
      " 372307 51771     cutoff   58      17915.1450 17649.2568  1.48%   8.1   95s\n",
      " 390772 49455 17896.8395   51    9 17915.1450 17665.8504  1.39%   8.2  100s\n",
      " 407664 46847 17740.2925   47   23 17915.1450 17680.9821  1.31%   8.2  105s\n",
      " 424810 43713 17850.9965   58   15 17915.1450 17697.2179  1.22%   8.3  110s\n",
      " 441441 40036     cutoff   44      17915.1450 17713.4201  1.13%   8.3  115s\n",
      " 457165 36048 17844.3095   48   23 17915.1450 17730.1242  1.03%   8.4  120s\n",
      " 470174 32186 17789.8827   56   23 17915.1450 17745.0279  0.95%   8.4  125s\n",
      " 487354 26036 infeasible   55      17915.1450 17767.0860  0.83%   8.4  130s\n",
      " 502971 19007     cutoff   48      17915.1450 17791.9434  0.69%   8.5  135s\n",
      " 517546 10674     cutoff   57      17915.1450 17825.9196  0.50%   8.5  140s\n",
      "\n",
      "Cutting planes:\n",
      "  Learned: 31\n",
      "  Gomory: 49\n",
      "  Cover: 208\n",
      "  Implied bound: 62\n",
      "  Projected implied bound: 3\n",
      "  MIR: 93\n",
      "  Mixing: 23\n",
      "  StrongCG: 17\n",
      "  Flow cover: 312\n",
      "  Inf proof: 102\n",
      "  Zero half: 166\n",
      "  RLT: 42\n",
      "  Relax-and-lift: 48\n",
      "  BQP: 3\n",
      "\n",
      "Explored 531937 nodes (4543169 simplex iterations) in 143.65 seconds (76.06 work units)\n",
      "Thread count was 12 (of 12 available processors)\n",
      "\n",
      "Solution count 7: 17915.1 17945.6 19371.8 ... 81615.7\n",
      "\n",
      "Optimal solution found (tolerance 1.00e-04)\n",
      "Best objective 1.791514500000e+04, best bound 1.791514500000e+04, gap 0.0000%\n",
      "\n",
      "\n",
      "\n",
      "*********\n",
      "Solution Found\n",
      "*********\n",
      "Order of routing:\n",
      "Champaign, IL -> St. Louis, MO -> Nashville, TN -> Knoxville, TN -> Pittsburgh, PA -> Niagara Falls, NY -> Boston, MA -> New York, NY -> Philadelphia, PA -> Washington DC, DC -> Greensboro, NC -> Miami, FL -> New Orleans, LA -> Albuquerque, NM -> Canyonlands National Park, UT -> Arches National Park, UT -> Capitol Reef National Park, UT -> Bryce Canyon National Park, UT -> Grand Canyon National Park, AZ -> Zion National Park, UT -> Las Vegas, NV -> San Diego, CA -> Los Angeles, CA -> Yosemite National Park, CA -> San Francisco, CA -> Portland, OR -> Seattle, WA -> Glacier National Park, MT -> Yellowstone National Park, WY -> Denver, CO -> Minneapolis, MN -> Chicago, IL -> Champaign, IL\n",
      "The route takes 17915.145000000004 kilometers.\n"
     ]
    }
   ],
   "source": [
    "model = gp.Model(\"RouteTSP\")\n",
    "\n",
    "x = model.addVars(len(Locations), len(Locations), name = \"X\", vtype = GRB.BINARY)\n",
    "\n",
    "u = model.addVars(len(Locations), name=\"U\", vtype=GRB.INTEGER,lb=1,ub=len(Locations))\n",
    "\n",
    "RouteDistance = 0\n",
    "\n",
    "for i in range(len(Locations)):\n",
    "    for j in range(len(Locations)):\n",
    "        RouteDistance += DistanceMatrix[i][j] * x[i,j]\n",
    "        \n",
    "InFlowConstraints = model.addConstrs(x.sum(i,\"*\") == 1 for i in range(1,len(Locations)))\n",
    "\n",
    "OutFlowConstraints = model.addConstrs(x.sum(\"*\",i) == 1 for i in range(1,len(Locations)))\n",
    "\n",
    "StartFlowConstraint = model.addConstr(x.sum(0,\"*\") == 1)\n",
    "\n",
    "EndFlowConstraint = model.addConstr(x.sum(\"*\",0) == 1)\n",
    "\n",
    "SubTourEliminationConstraints = model.addConstrs(u[i] - u[j] + 1 <= (len(Locations) - 1) * (1 - x[i,j]) for i in range(1,len(Locations)) for j in range(1,len(Locations)))\n",
    "\n",
    "StayProhibitionConstraints = model.addConstrs(x[i,i] == 0 for i in range(len(Locations)))\n",
    "\n",
    "model.setObjective(RouteDistance, GRB.MINIMIZE)\n",
    "model.optimize()\n",
    "\n",
    "if (model.Status == GRB.OPTIMAL):\n",
    "    print(\"\\n\\n\\n*********\\nSolution Found\\n*********\")\n",
    "    xValue = model.getAttr(\"X\",x)\n",
    "    obj = model.getObjective()\n",
    "#     for i in range(len(Locations)):\n",
    "#         for j in range(len(Locations)):\n",
    "#             if (xValue[i,j] > 0):\n",
    "#                 print(\"We visit\",Locations[j], \"from\",Locations[i])\n",
    "    print(\"Order of routing:\")\n",
    "    next = np.zeros(len(Locations))\n",
    "    Routing = [0]\n",
    "    for i in range(len(Locations)):\n",
    "        for j in range(len(Locations)):\n",
    "            if xValue[i,j] > 0:\n",
    "                next[i] = j\n",
    "    current = 0\n",
    "    while next[current] != 0:\n",
    "        Routing.append(int(next[current]))\n",
    "        current = int(next[current])\n",
    "        \n",
    "    Routing.append(0)\n",
    "    # print(Routing)\n",
    "    RouteString = \"\"\n",
    "    Count = 0\n",
    "    for i in Routing:\n",
    "        if (Count < len(Locations)+1) and (Count > 0):\n",
    "            RouteString += \" -> \"\n",
    "        RouteString += Locations[i]\n",
    "        Count += 1\n",
    "    print(RouteString)\n",
    "    OptimalDistance = obj.getValue()\n",
    "    print(\"The route takes\",OptimalDistance,\"kilometers.\")"
   ]
  },
  {
   "cell_type": "code",
   "execution_count": 34,
   "id": "3a10518d",
   "metadata": {},
   "outputs": [],
   "source": [
    "RouteDistance = DistanceMatrix\n",
    "TotalDuration = 0\n",
    "LocationDict = {i:Locations[i] for i in range(len(Locations))}\n",
    "\n",
    "for i in range(len(Locations)):\n",
    "    for j in range(len(Locations)):\n",
    "        if (xValue[i,j] > 0.1):\n",
    "            RouteDistance[i][j] *= xValue[i,j]\n",
    "            TotalDuration += DurationMatrix[i][j]\n",
    "        else:\n",
    "            RouteDistance[i][j] *= 0"
   ]
  },
  {
   "cell_type": "code",
   "execution_count": null,
   "id": "1aaef7d6-e4a9-40ac-8caa-9efdef8e38a0",
   "metadata": {},
   "outputs": [],
   "source": []
  },
  {
   "cell_type": "code",
   "execution_count": 35,
   "id": "bb90223e-5545-4fa1-a3f2-dd88812171f8",
   "metadata": {},
   "outputs": [
    {
     "data": {
      "text/plain": [
       "array([40.1164204, 41.8781136, 44.977753 , 48.7596128, 47.6061389,\n",
       "       40.4406248, 42.3600825, 32.715738 , 25.7616798, 35.0843859,\n",
       "       39.7392358, 29.9510658, 37.2982022, 34.0549076, 37.7749295,\n",
       "       38.1632525, 37.8651011, 44.5979182, 35.9606384, 38.9096936,\n",
       "       39.9525839, 36.0726354, 36.1626638, 38.6270025, 36.171563 ,\n",
       "       40.7127753, 43.0962143, 38.0877312, 36.2678855, 38.7328166,\n",
       "       37.5930377, 45.515232 ])"
      ]
     },
     "execution_count": 35,
     "metadata": {},
     "output_type": "execute_result"
    }
   ],
   "source": [
    "Latitudes = np.zeros(len(Locations))\n",
    "Longitudes = np.zeros(len(Locations))\n",
    "for i in range(len(Locations)):\n",
    "    Latitudes[i] = gmaps.geocode(Locations[i])[0]['geometry']['location']['lat']\n",
    "    Longitudes[i] = gmaps.geocode(Locations[i])[0]['geometry']['location']['lng']\n",
    "\n",
    "Latitudes"
   ]
  },
  {
   "cell_type": "code",
   "execution_count": 36,
   "id": "b8a43f2a-fc2b-4662-aa3b-79490abaee59",
   "metadata": {},
   "outputs": [
    {
     "data": {
      "text/plain": [
       "array([ -88.2433829,  -87.6297982,  -93.2650108, -113.7870225,\n",
       "       -122.3328481,  -79.9958864,  -71.0588801, -117.1610838,\n",
       "        -80.1917902, -106.650422 , -104.990251 ,  -90.0715323,\n",
       "       -113.0263005, -118.242643 , -122.4194155, -109.7626512,\n",
       "       -119.5383294, -110.561249 ,  -83.9207392,  -77.043339 ,\n",
       "        -75.1652215,  -79.7919754,  -86.7816016,  -90.1994042,\n",
       "       -115.1391009,  -74.0059728,  -79.0377388, -111.1354983,\n",
       "       -112.3535253, -109.5746222, -112.1870895, -122.6783853])"
      ]
     },
     "execution_count": 36,
     "metadata": {},
     "output_type": "execute_result"
    }
   ],
   "source": [
    "Longitudes"
   ]
  },
  {
   "cell_type": "code",
   "execution_count": 37,
   "id": "2831b9bd-0d9a-4c80-a8e6-09e382eba517",
   "metadata": {},
   "outputs": [
    {
     "data": {
      "text/plain": [
       "['Champaign, IL',\n",
       " 'Chicago, IL',\n",
       " 'Minneapolis, MN',\n",
       " 'Glacier National Park, MT',\n",
       " 'Seattle, WA',\n",
       " 'Pittsburgh, PA',\n",
       " 'Boston, MA',\n",
       " 'San Diego, CA',\n",
       " 'Miami, FL',\n",
       " 'Albuquerque, NM',\n",
       " 'Denver, CO',\n",
       " 'New Orleans, LA',\n",
       " 'Zion National Park, UT',\n",
       " 'Los Angeles, CA',\n",
       " 'San Francisco, CA',\n",
       " 'Canyonlands National Park, UT',\n",
       " 'Yosemite National Park, CA',\n",
       " 'Yellowstone National Park, WY',\n",
       " 'Knoxville, TN',\n",
       " 'Washington DC, DC',\n",
       " 'Philadelphia, PA',\n",
       " 'Greensboro, NC',\n",
       " 'Nashville, TN',\n",
       " 'St. Louis, MO',\n",
       " 'Las Vegas, NV',\n",
       " 'New York, NY',\n",
       " 'Niagara Falls, NY',\n",
       " 'Capitol Reef National Park, UT',\n",
       " 'Grand Canyon National Park, AZ',\n",
       " 'Arches National Park, UT',\n",
       " 'Bryce Canyon National Park, UT',\n",
       " 'Portland, OR']"
      ]
     },
     "execution_count": 37,
     "metadata": {},
     "output_type": "execute_result"
    }
   ],
   "source": [
    "Locations"
   ]
  },
  {
   "cell_type": "code",
   "execution_count": 38,
   "id": "8730ed7a",
   "metadata": {},
   "outputs": [
    {
     "data": {
      "image/png": "[encoded data removed]",
      "text/plain": [
       "<Figure size 640x480 with 1 Axes>"
      ]
     },
     "metadata": {},
     "output_type": "display_data"
    }
   ],
   "source": [
    "\n",
    "G = nx.from_numpy_array(RouteDistance)\n",
    "\n",
    "G = nx.DiGraph()\n",
    "\n",
    "for i in range(len(Locations)):\n",
    "    G.add_node(i, pos = (Longitudes[i], Latitudes[i]))\n",
    "    for j in range(len(Locations)):\n",
    "        if (RouteDistance[i][j] != 0):\n",
    "            G.add_edge(i,j,weight=RouteDistance[i][j])\n",
    "        \n",
    "nx.draw_networkx(G,nx.get_node_attributes(G,\"pos\"),with_labels=True)\n",
    "handles_dict = {patches.Patch(color='white', label=f\"{k}, {v}\") for k,v in LocationDict.items()}\n",
    "plt.legend(handles=handles_dict,loc='right',bbox_to_anchor=(1.65,0.5))\n",
    "plt.show()"
   ]
  },
  {
   "cell_type": "code",
   "execution_count": 39,
   "id": "852d618b-6a24-47d5-8dd7-d748facefe2a",
   "metadata": {},
   "outputs": [
    {
     "name": "stderr",
     "output_type": "stream",
     "text": [
      "C:\\Users\\imtha\\AppData\\Local\\Temp\\ipykernel_3036\\1945687795.py:6: FutureWarning:\n",
      "\n",
      "Setting an item of incompatible dtype is deprecated and will raise in a future error of pandas. Value 'Champaign, IL' has dtype incompatible with float64, please explicitly cast to a compatible dtype first.\n",
      "\n"
     ]
    },
    {
     "data": {
      "text/html": [
       "<div>\n",
       "<style scoped>\n",
       "    .dataframe tbody tr th:only-of-type {\n",
       "        vertical-align: middle;\n",
       "    }\n",
       "\n",
       "    .dataframe tbody tr th {\n",
       "        vertical-align: top;\n",
       "    }\n",
       "\n",
       "    .dataframe thead th {\n",
       "        text-align: right;\n",
       "    }\n",
       "</style>\n",
       "<table border=\"1\" class=\"dataframe\">\n",
       "  <thead>\n",
       "    <tr style=\"text-align: right;\">\n",
       "      <th></th>\n",
       "      <th>Locations</th>\n",
       "      <th>Latitudes</th>\n",
       "      <th>Longitudes</th>\n",
       "    </tr>\n",
       "  </thead>\n",
       "  <tbody>\n",
       "    <tr>\n",
       "      <th>0</th>\n",
       "      <td>Champaign, IL</td>\n",
       "      <td>40.116420</td>\n",
       "      <td>-88.243383</td>\n",
       "    </tr>\n",
       "    <tr>\n",
       "      <th>1</th>\n",
       "      <td>St. Louis, MO</td>\n",
       "      <td>38.627003</td>\n",
       "      <td>-90.199404</td>\n",
       "    </tr>\n",
       "    <tr>\n",
       "      <th>2</th>\n",
       "      <td>Nashville, TN</td>\n",
       "      <td>36.162664</td>\n",
       "      <td>-86.781602</td>\n",
       "    </tr>\n",
       "    <tr>\n",
       "      <th>3</th>\n",
       "      <td>Knoxville, TN</td>\n",
       "      <td>35.960638</td>\n",
       "      <td>-83.920739</td>\n",
       "    </tr>\n",
       "    <tr>\n",
       "      <th>4</th>\n",
       "      <td>Pittsburgh, PA</td>\n",
       "      <td>40.440625</td>\n",
       "      <td>-79.995886</td>\n",
       "    </tr>\n",
       "    <tr>\n",
       "      <th>5</th>\n",
       "      <td>Niagara Falls, NY</td>\n",
       "      <td>43.096214</td>\n",
       "      <td>-79.037739</td>\n",
       "    </tr>\n",
       "    <tr>\n",
       "      <th>6</th>\n",
       "      <td>Boston, MA</td>\n",
       "      <td>42.360082</td>\n",
       "      <td>-71.058880</td>\n",
       "    </tr>\n",
       "    <tr>\n",
       "      <th>7</th>\n",
       "      <td>New York, NY</td>\n",
       "      <td>40.712775</td>\n",
       "      <td>-74.005973</td>\n",
       "    </tr>\n",
       "    <tr>\n",
       "      <th>8</th>\n",
       "      <td>Philadelphia, PA</td>\n",
       "      <td>39.952584</td>\n",
       "      <td>-75.165222</td>\n",
       "    </tr>\n",
       "    <tr>\n",
       "      <th>9</th>\n",
       "      <td>Washington DC, DC</td>\n",
       "      <td>38.909694</td>\n",
       "      <td>-77.043339</td>\n",
       "    </tr>\n",
       "    <tr>\n",
       "      <th>10</th>\n",
       "      <td>Greensboro, NC</td>\n",
       "      <td>36.072635</td>\n",
       "      <td>-79.791975</td>\n",
       "    </tr>\n",
       "    <tr>\n",
       "      <th>11</th>\n",
       "      <td>Miami, FL</td>\n",
       "      <td>25.761680</td>\n",
       "      <td>-80.191790</td>\n",
       "    </tr>\n",
       "    <tr>\n",
       "      <th>12</th>\n",
       "      <td>New Orleans, LA</td>\n",
       "      <td>29.951066</td>\n",
       "      <td>-90.071532</td>\n",
       "    </tr>\n",
       "    <tr>\n",
       "      <th>13</th>\n",
       "      <td>Albuquerque, NM</td>\n",
       "      <td>35.084386</td>\n",
       "      <td>-106.650422</td>\n",
       "    </tr>\n",
       "    <tr>\n",
       "      <th>14</th>\n",
       "      <td>Canyonlands National Park, UT</td>\n",
       "      <td>38.163252</td>\n",
       "      <td>-109.762651</td>\n",
       "    </tr>\n",
       "    <tr>\n",
       "      <th>15</th>\n",
       "      <td>Arches National Park, UT</td>\n",
       "      <td>38.732817</td>\n",
       "      <td>-109.574622</td>\n",
       "    </tr>\n",
       "    <tr>\n",
       "      <th>16</th>\n",
       "      <td>Capitol Reef National Park, UT</td>\n",
       "      <td>38.087731</td>\n",
       "      <td>-111.135498</td>\n",
       "    </tr>\n",
       "    <tr>\n",
       "      <th>17</th>\n",
       "      <td>Bryce Canyon National Park, UT</td>\n",
       "      <td>37.593038</td>\n",
       "      <td>-112.187089</td>\n",
       "    </tr>\n",
       "    <tr>\n",
       "      <th>18</th>\n",
       "      <td>Grand Canyon National Park, AZ</td>\n",
       "      <td>36.267885</td>\n",
       "      <td>-112.353525</td>\n",
       "    </tr>\n",
       "    <tr>\n",
       "      <th>19</th>\n",
       "      <td>Zion National Park, UT</td>\n",
       "      <td>37.298202</td>\n",
       "      <td>-113.026301</td>\n",
       "    </tr>\n",
       "    <tr>\n",
       "      <th>20</th>\n",
       "      <td>Las Vegas, NV</td>\n",
       "      <td>36.171563</td>\n",
       "      <td>-115.139101</td>\n",
       "    </tr>\n",
       "    <tr>\n",
       "      <th>21</th>\n",
       "      <td>San Diego, CA</td>\n",
       "      <td>32.715738</td>\n",
       "      <td>-117.161084</td>\n",
       "    </tr>\n",
       "    <tr>\n",
       "      <th>22</th>\n",
       "      <td>Los Angeles, CA</td>\n",
       "      <td>34.054908</td>\n",
       "      <td>-118.242643</td>\n",
       "    </tr>\n",
       "    <tr>\n",
       "      <th>23</th>\n",
       "      <td>Yosemite National Park, CA</td>\n",
       "      <td>37.865101</td>\n",
       "      <td>-119.538329</td>\n",
       "    </tr>\n",
       "    <tr>\n",
       "      <th>24</th>\n",
       "      <td>San Francisco, CA</td>\n",
       "      <td>37.774929</td>\n",
       "      <td>-122.419415</td>\n",
       "    </tr>\n",
       "    <tr>\n",
       "      <th>25</th>\n",
       "      <td>Portland, OR</td>\n",
       "      <td>45.515232</td>\n",
       "      <td>-122.678385</td>\n",
       "    </tr>\n",
       "    <tr>\n",
       "      <th>26</th>\n",
       "      <td>Seattle, WA</td>\n",
       "      <td>47.606139</td>\n",
       "      <td>-122.332848</td>\n",
       "    </tr>\n",
       "    <tr>\n",
       "      <th>27</th>\n",
       "      <td>Glacier National Park, MT</td>\n",
       "      <td>48.759613</td>\n",
       "      <td>-113.787023</td>\n",
       "    </tr>\n",
       "    <tr>\n",
       "      <th>28</th>\n",
       "      <td>Yellowstone National Park, WY</td>\n",
       "      <td>44.597918</td>\n",
       "      <td>-110.561249</td>\n",
       "    </tr>\n",
       "    <tr>\n",
       "      <th>29</th>\n",
       "      <td>Denver, CO</td>\n",
       "      <td>39.739236</td>\n",
       "      <td>-104.990251</td>\n",
       "    </tr>\n",
       "    <tr>\n",
       "      <th>30</th>\n",
       "      <td>Minneapolis, MN</td>\n",
       "      <td>44.977753</td>\n",
       "      <td>-93.265011</td>\n",
       "    </tr>\n",
       "    <tr>\n",
       "      <th>31</th>\n",
       "      <td>Chicago, IL</td>\n",
       "      <td>41.878114</td>\n",
       "      <td>-87.629798</td>\n",
       "    </tr>\n",
       "    <tr>\n",
       "      <th>32</th>\n",
       "      <td>Champaign, IL</td>\n",
       "      <td>40.116420</td>\n",
       "      <td>-88.243383</td>\n",
       "    </tr>\n",
       "  </tbody>\n",
       "</table>\n",
       "</div>"
      ],
      "text/plain": [
       "                         Locations  Latitudes  Longitudes\n",
       "0                    Champaign, IL  40.116420  -88.243383\n",
       "1                    St. Louis, MO  38.627003  -90.199404\n",
       "2                    Nashville, TN  36.162664  -86.781602\n",
       "3                    Knoxville, TN  35.960638  -83.920739\n",
       "4                   Pittsburgh, PA  40.440625  -79.995886\n",
       "5                Niagara Falls, NY  43.096214  -79.037739\n",
       "6                       Boston, MA  42.360082  -71.058880\n",
       "7                     New York, NY  40.712775  -74.005973\n",
       "8                 Philadelphia, PA  39.952584  -75.165222\n",
       "9                Washington DC, DC  38.909694  -77.043339\n",
       "10                  Greensboro, NC  36.072635  -79.791975\n",
       "11                       Miami, FL  25.761680  -80.191790\n",
       "12                 New Orleans, LA  29.951066  -90.071532\n",
       "13                 Albuquerque, NM  35.084386 -106.650422\n",
       "14   Canyonlands National Park, UT  38.163252 -109.762651\n",
       "15        Arches National Park, UT  38.732817 -109.574622\n",
       "16  Capitol Reef National Park, UT  38.087731 -111.135498\n",
       "17  Bryce Canyon National Park, UT  37.593038 -112.187089\n",
       "18  Grand Canyon National Park, AZ  36.267885 -112.353525\n",
       "19          Zion National Park, UT  37.298202 -113.026301\n",
       "20                   Las Vegas, NV  36.171563 -115.139101\n",
       "21                   San Diego, CA  32.715738 -117.161084\n",
       "22                 Los Angeles, CA  34.054908 -118.242643\n",
       "23      Yosemite National Park, CA  37.865101 -119.538329\n",
       "24               San Francisco, CA  37.774929 -122.419415\n",
       "25                    Portland, OR  45.515232 -122.678385\n",
       "26                     Seattle, WA  47.606139 -122.332848\n",
       "27       Glacier National Park, MT  48.759613 -113.787023\n",
       "28   Yellowstone National Park, WY  44.597918 -110.561249\n",
       "29                      Denver, CO  39.739236 -104.990251\n",
       "30                 Minneapolis, MN  44.977753  -93.265011\n",
       "31                     Chicago, IL  41.878114  -87.629798\n",
       "32                   Champaign, IL  40.116420  -88.243383"
      ]
     },
     "execution_count": 39,
     "metadata": {},
     "output_type": "execute_result"
    }
   ],
   "source": [
    "Zeros = np.zeros(len(Routing))\n",
    "LongLat = pd.DataFrame({\"Locations\":Zeros,\n",
    "                       \"Latitudes\":Zeros,\n",
    "                       \"Longitudes\":Zeros})\n",
    "for i in range(len(Routing)):\n",
    "    LongLat.loc[i] = [Locations[Routing[i]],Latitudes[Routing[i]],Longitudes[Routing[i]]]\n",
    "LongLat"
   ]
  },
  {
   "cell_type": "code",
   "execution_count": 40,
   "id": "167587fc-3458-459e-bc19-bfe522b0a4cb",
   "metadata": {},
   "outputs": [
    {
     "data": {
      "application/vnd.plotly.v1+json": {
       "config": {
        "plotlyServerURL": "https://plot.ly"
       },
       "data": [
        {
         "geo": "geo",
         "hovertemplate": "<b>%{hovertext}</b><br><br>Latitudes=%{lat}<br>Longitudes=%{lon}<extra></extra>",
         "hovertext": [
          "Champaign, IL",
          "St. Louis, MO",
          "Nashville, TN",
          "Knoxville, TN",
          "Pittsburgh, PA",
          "Niagara Falls, NY",
          "Boston, MA",
          "New York, NY",
          "Philadelphia, PA",
          "Washington DC, DC",
          "Greensboro, NC",
          "Miami, FL",
          "New Orleans, LA",
          "Albuquerque, NM",
          "Canyonlands National Park, UT",
          "Arches National Park, UT",
          "Capitol Reef National Park, UT",
          "Bryce Canyon National Park, UT",
          "Grand Canyon National Park, AZ",
          "Zion National Park, UT",
          "Las Vegas, NV",
          "San Diego, CA",
          "Los Angeles, CA",
          "Yosemite National Park, CA",
          "San Francisco, CA",
          "Portland, OR",
          "Seattle, WA",
          "Glacier National Park, MT",
          "Yellowstone National Park, WY",
          "Denver, CO",
          "Minneapolis, MN",
          "Chicago, IL",
          "Champaign, IL"
         ],
         "lat": [
          40.1164204,
          38.6270025,
          36.1626638,
          35.9606384,
          40.44062479999999,
          43.0962143,
          42.3600825,
          40.7127753,
          39.9525839,
          38.9096936,
          36.0726354,
          25.7616798,
          29.95106579999999,
          35.0843859,
          38.1632525,
          38.7328166,
          38.0877312,
          37.5930377,
          36.2678855,
          37.2982022,
          36.171563,
          32.715738,
          34.0549076,
          37.8651011,
          37.7749295,
          45.515232,
          47.6061389,
          48.7596128,
          44.5979182,
          39.7392358,
          44.977753,
          41.8781136,
          40.1164204
         ],
         "legendgroup": "",
         "line": {
          "color": "#636efa",
          "dash": "solid"
         },
         "lon": [
          -88.2433829,
          -90.19940419999999,
          -86.7816016,
          -83.9207392,
          -79.9958864,
          -79.0377388,
          -71.0588801,
          -74.0059728,
          -75.1652215,
          -77.043339,
          -79.7919754,
          -80.1917902,
          -90.0715323,
          -106.650422,
          -109.7626512,
          -109.5746222,
          -111.1354983,
          -112.1870895,
          -112.3535253,
          -113.0263005,
          -115.1391009,
          -117.1610838,
          -118.242643,
          -119.5383294,
          -122.4194155,
          -122.6783853,
          -122.3328481,
          -113.7870225,
          -110.561249,
          -104.990251,
          -93.2650108,
          -87.6297982,
          -88.2433829
         ],
         "marker": {
          "symbol": "circle"
         },
         "mode": "lines+markers",
         "name": "",
         "showlegend": false,
         "type": "scattergeo"
        }
       ],
       "layout": {
        "geo": {
         "center": {},
         "domain": {
          "x": [
           0,
           1
          ],
          "y": [
           0,
           1
          ]
         },
         "scope": "usa"
        },
        "height": 500,
        "legend": {
         "tracegroupgap": 0
        },
        "margin": {
         "t": 60
        },
        "template": {
         "data": {
          "bar": [
           {
            "error_x": {
             "color": "#2a3f5f"
            },
            "error_y": {
             "color": "#2a3f5f"
            },
            "marker": {
             "line": {
              "color": "#E5ECF6",
              "width": 0.5
             },
             "pattern": {
              "fillmode": "overlay",
              "size": 10,
              "solidity": 0.2
             }
            },
            "type": "bar"
           }
          ],
          "barpolar": [
           {
            "marker": {
             "line": {
              "color": "#E5ECF6",
              "width": 0.5
             },
             "pattern": {
              "fillmode": "overlay",
              "size": 10,
              "solidity": 0.2
             }
            },
            "type": "barpolar"
           }
          ],
          "carpet": [
           {
            "aaxis": {
             "endlinecolor": "#2a3f5f",
             "gridcolor": "white",
             "linecolor": "white",
             "minorgridcolor": "white",
             "startlinecolor": "#2a3f5f"
            },
            "baxis": {
             "endlinecolor": "#2a3f5f",
             "gridcolor": "white",
             "linecolor": "white",
             "minorgridcolor": "white",
             "startlinecolor": "#2a3f5f"
            },
            "type": "carpet"
           }
          ],
          "choropleth": [
           {
            "colorbar": {
             "outlinewidth": 0,
             "ticks": ""
            },
            "type": "choropleth"
           }
          ],
          "contour": [
           {
            "colorbar": {
             "outlinewidth": 0,
             "ticks": ""
            },
            "colorscale": [
             [
              0,
              "#0d0887"
             ],
             [
              0.1111111111111111,
              "#46039f"
             ],
             [
              0.2222222222222222,
              "#7201a8"
             ],
             [
              0.3333333333333333,
              "#9c179e"
             ],
             [
              0.4444444444444444,
              "#bd3786"
             ],
             [
              0.5555555555555556,
              "#d8576b"
             ],
             [
              0.6666666666666666,
              "#ed7953"
             ],
             [
              0.7777777777777778,
              "#fb9f3a"
             ],
             [
              0.8888888888888888,
              "#fdca26"
             ],
             [
              1,
              "#f0f921"
             ]
            ],
            "type": "contour"
           }
          ],
          "contourcarpet": [
           {
            "colorbar": {
             "outlinewidth": 0,
             "ticks": ""
            },
            "type": "contourcarpet"
           }
          ],
          "heatmap": [
           {
            "colorbar": {
             "outlinewidth": 0,
             "ticks": ""
            },
            "colorscale": [
             [
              0,
              "#0d0887"
             ],
             [
              0.1111111111111111,
              "#46039f"
             ],
             [
              0.2222222222222222,
              "#7201a8"
             ],
             [
              0.3333333333333333,
              "#9c179e"
             ],
             [
              0.4444444444444444,
              "#bd3786"
             ],
             [
              0.5555555555555556,
              "#d8576b"
             ],
             [
              0.6666666666666666,
              "#ed7953"
             ],
             [
              0.7777777777777778,
              "#fb9f3a"
             ],
             [
              0.8888888888888888,
              "#fdca26"
             ],
             [
              1,
              "#f0f921"
             ]
            ],
            "type": "heatmap"
           }
          ],
          "heatmapgl": [
           {
            "colorbar": {
             "outlinewidth": 0,
             "ticks": ""
            },
            "colorscale": [
             [
              0,
              "#0d0887"
             ],
             [
              0.1111111111111111,
              "#46039f"
             ],
             [
              0.2222222222222222,
              "#7201a8"
             ],
             [
              0.3333333333333333,
              "#9c179e"
             ],
             [
              0.4444444444444444,
              "#bd3786"
             ],
             [
              0.5555555555555556,
              "#d8576b"
             ],
             [
              0.6666666666666666,
              "#ed7953"
             ],
             [
              0.7777777777777778,
              "#fb9f3a"
             ],
             [
              0.8888888888888888,
              "#fdca26"
             ],
             [
              1,
              "#f0f921"
             ]
            ],
            "type": "heatmapgl"
           }
          ],
          "histogram": [
           {
            "marker": {
             "pattern": {
              "fillmode": "overlay",
              "size": 10,
              "solidity": 0.2
             }
            },
            "type": "histogram"
           }
          ],
          "histogram2d": [
           {
            "colorbar": {
             "outlinewidth": 0,
             "ticks": ""
            },
            "colorscale": [
             [
              0,
              "#0d0887"
             ],
             [
              0.1111111111111111,
              "#46039f"
             ],
             [
              0.2222222222222222,
              "#7201a8"
             ],
             [
              0.3333333333333333,
              "#9c179e"
             ],
             [
              0.4444444444444444,
              "#bd3786"
             ],
             [
              0.5555555555555556,
              "#d8576b"
             ],
             [
              0.6666666666666666,
              "#ed7953"
             ],
             [
              0.7777777777777778,
              "#fb9f3a"
             ],
             [
              0.8888888888888888,
              "#fdca26"
             ],
             [
              1,
              "#f0f921"
             ]
            ],
            "type": "histogram2d"
           }
          ],
          "histogram2dcontour": [
           {
            "colorbar": {
             "outlinewidth": 0,
             "ticks": ""
            },
            "colorscale": [
             [
              0,
              "#0d0887"
             ],
             [
              0.1111111111111111,
              "#46039f"
             ],
             [
              0.2222222222222222,
              "#7201a8"
             ],
             [
              0.3333333333333333,
              "#9c179e"
             ],
             [
              0.4444444444444444,
              "#bd3786"
             ],
             [
              0.5555555555555556,
              "#d8576b"
             ],
             [
              0.6666666666666666,
              "#ed7953"
             ],
             [
              0.7777777777777778,
              "#fb9f3a"
             ],
             [
              0.8888888888888888,
              "#fdca26"
             ],
             [
              1,
              "#f0f921"
             ]
            ],
            "type": "histogram2dcontour"
           }
          ],
          "mesh3d": [
           {
            "colorbar": {
             "outlinewidth": 0,
             "ticks": ""
            },
            "type": "mesh3d"
           }
          ],
          "parcoords": [
           {
            "line": {
             "colorbar": {
              "outlinewidth": 0,
              "ticks": ""
             }
            },
            "type": "parcoords"
           }
          ],
          "pie": [
           {
            "automargin": true,
            "type": "pie"
           }
          ],
          "scatter": [
           {
            "fillpattern": {
             "fillmode": "overlay",
             "size": 10,
             "solidity": 0.2
            },
            "type": "scatter"
           }
          ],
          "scatter3d": [
           {
            "line": {
             "colorbar": {
              "outlinewidth": 0,
              "ticks": ""
             }
            },
            "marker": {
             "colorbar": {
              "outlinewidth": 0,
              "ticks": ""
             }
            },
            "type": "scatter3d"
           }
          ],
          "scattercarpet": [
           {
            "marker": {
             "colorbar": {
              "outlinewidth": 0,
              "ticks": ""
             }
            },
            "type": "scattercarpet"
           }
          ],
          "scattergeo": [
           {
            "marker": {
             "colorbar": {
              "outlinewidth": 0,
              "ticks": ""
             }
            },
            "type": "scattergeo"
           }
          ],
          "scattergl": [
           {
            "marker": {
             "colorbar": {
              "outlinewidth": 0,
              "ticks": ""
             }
            },
            "type": "scattergl"
           }
          ],
          "scattermapbox": [
           {
            "marker": {
             "colorbar": {
              "outlinewidth": 0,
              "ticks": ""
             }
            },
            "type": "scattermapbox"
           }
          ],
          "scatterpolar": [
           {
            "marker": {
             "colorbar": {
              "outlinewidth": 0,
              "ticks": ""
             }
            },
            "type": "scatterpolar"
           }
          ],
          "scatterpolargl": [
           {
            "marker": {
             "colorbar": {
              "outlinewidth": 0,
              "ticks": ""
             }
            },
            "type": "scatterpolargl"
           }
          ],
          "scatterternary": [
           {
            "marker": {
             "colorbar": {
              "outlinewidth": 0,
              "ticks": ""
             }
            },
            "type": "scatterternary"
           }
          ],
          "surface": [
           {
            "colorbar": {
             "outlinewidth": 0,
             "ticks": ""
            },
            "colorscale": [
             [
              0,
              "#0d0887"
             ],
             [
              0.1111111111111111,
              "#46039f"
             ],
             [
              0.2222222222222222,
              "#7201a8"
             ],
             [
              0.3333333333333333,
              "#9c179e"
             ],
             [
              0.4444444444444444,
              "#bd3786"
             ],
             [
              0.5555555555555556,
              "#d8576b"
             ],
             [
              0.6666666666666666,
              "#ed7953"
             ],
             [
              0.7777777777777778,
              "#fb9f3a"
             ],
             [
              0.8888888888888888,
              "#fdca26"
             ],
             [
              1,
              "#f0f921"
             ]
            ],
            "type": "surface"
           }
          ],
          "table": [
           {
            "cells": {
             "fill": {
              "color": "#EBF0F8"
             },
             "line": {
              "color": "white"
             }
            },
            "header": {
             "fill": {
              "color": "#C8D4E3"
             },
             "line": {
              "color": "white"
             }
            },
            "type": "table"
           }
          ]
         },
         "layout": {
          "annotationdefaults": {
           "arrowcolor": "#2a3f5f",
           "arrowhead": 0,
           "arrowwidth": 1
          },
          "autotypenumbers": "strict",
          "coloraxis": {
           "colorbar": {
            "outlinewidth": 0,
            "ticks": ""
           }
          },
          "colorscale": {
           "diverging": [
            [
             0,
             "#8e0152"
            ],
            [
             0.1,
             "#c51b7d"
            ],
            [
             0.2,
             "#de77ae"
            ],
            [
             0.3,
             "#f1b6da"
            ],
            [
             0.4,
             "#fde0ef"
            ],
            [
             0.5,
             "#f7f7f7"
            ],
            [
             0.6,
             "#e6f5d0"
            ],
            [
             0.7,
             "#b8e186"
            ],
            [
             0.8,
             "#7fbc41"
            ],
            [
             0.9,
             "#4d9221"
            ],
            [
             1,
             "#276419"
            ]
           ],
           "sequential": [
            [
             0,
             "#0d0887"
            ],
            [
             0.1111111111111111,
             "#46039f"
            ],
            [
             0.2222222222222222,
             "#7201a8"
            ],
            [
             0.3333333333333333,
             "#9c179e"
            ],
            [
             0.4444444444444444,
             "#bd3786"
            ],
            [
             0.5555555555555556,
             "#d8576b"
            ],
            [
             0.6666666666666666,
             "#ed7953"
            ],
            [
             0.7777777777777778,
             "#fb9f3a"
            ],
            [
             0.8888888888888888,
             "#fdca26"
            ],
            [
             1,
             "#f0f921"
            ]
           ],
           "sequentialminus": [
            [
             0,
             "#0d0887"
            ],
            [
             0.1111111111111111,
             "#46039f"
            ],
            [
             0.2222222222222222,
             "#7201a8"
            ],
            [
             0.3333333333333333,
             "#9c179e"
            ],
            [
             0.4444444444444444,
             "#bd3786"
            ],
            [
             0.5555555555555556,
             "#d8576b"
            ],
            [
             0.6666666666666666,
             "#ed7953"
            ],
            [
             0.7777777777777778,
             "#fb9f3a"
            ],
            [
             0.8888888888888888,
             "#fdca26"
            ],
            [
             1,
             "#f0f921"
            ]
           ]
          },
          "colorway": [
           "#636efa",
           "#EF553B",
           "#00cc96",
           "#ab63fa",
           "#FFA15A",
           "#19d3f3",
           "#FF6692",
           "#B6E880",
           "#FF97FF",
           "#FECB52"
          ],
          "font": {
           "color": "#2a3f5f"
          },
          "geo": {
           "bgcolor": "white",
           "lakecolor": "white",
           "landcolor": "#E5ECF6",
           "showlakes": true,
           "showland": true,
           "subunitcolor": "white"
          },
          "hoverlabel": {
           "align": "left"
          },
          "hovermode": "closest",
          "mapbox": {
           "style": "light"
          },
          "paper_bgcolor": "white",
          "plot_bgcolor": "#E5ECF6",
          "polar": {
           "angularaxis": {
            "gridcolor": "white",
            "linecolor": "white",
            "ticks": ""
           },
           "bgcolor": "#E5ECF6",
           "radialaxis": {
            "gridcolor": "white",
            "linecolor": "white",
            "ticks": ""
           }
          },
          "scene": {
           "xaxis": {
            "backgroundcolor": "#E5ECF6",
            "gridcolor": "white",
            "gridwidth": 2,
            "linecolor": "white",
            "showbackground": true,
            "ticks": "",
            "zerolinecolor": "white"
           },
           "yaxis": {
            "backgroundcolor": "#E5ECF6",
            "gridcolor": "white",
            "gridwidth": 2,
            "linecolor": "white",
            "showbackground": true,
            "ticks": "",
            "zerolinecolor": "white"
           },
           "zaxis": {
            "backgroundcolor": "#E5ECF6",
            "gridcolor": "white",
            "gridwidth": 2,
            "linecolor": "white",
            "showbackground": true,
            "ticks": "",
            "zerolinecolor": "white"
           }
          },
          "shapedefaults": {
           "line": {
            "color": "#2a3f5f"
           }
          },
          "ternary": {
           "aaxis": {
            "gridcolor": "white",
            "linecolor": "white",
            "ticks": ""
           },
           "baxis": {
            "gridcolor": "white",
            "linecolor": "white",
            "ticks": ""
           },
           "bgcolor": "#E5ECF6",
           "caxis": {
            "gridcolor": "white",
            "linecolor": "white",
            "ticks": ""
           }
          },
          "title": {
           "x": 0.05
          },
          "xaxis": {
           "automargin": true,
           "gridcolor": "white",
           "linecolor": "white",
           "ticks": "",
           "title": {
            "standoff": 15
           },
           "zerolinecolor": "white",
           "zerolinewidth": 2
          },
          "yaxis": {
           "automargin": true,
           "gridcolor": "white",
           "linecolor": "white",
           "ticks": "",
           "title": {
            "standoff": 15
           },
           "zerolinecolor": "white",
           "zerolinewidth": 2
          }
         }
        }
       }
      }
     },
     "metadata": {},
     "output_type": "display_data"
    }
   ],
   "source": [
    "fig = px.line_geo(LongLat,lat=\"Latitudes\",lon=\"Longitudes\",hover_name=\"Locations\",markers=True)\n",
    "fig.update_layout(geo_scope=\"usa\",height=500)\n",
    "fig.show()"
   ]
  },
  {
   "cell_type": "code",
   "execution_count": 41,
   "id": "d56c10c9-f2bf-4e80-8fa7-0531d639d523",
   "metadata": {},
   "outputs": [
    {
     "name": "stdout",
     "output_type": "stream",
     "text": [
      "The trip takes 171 hours and 33 minutes.\n",
      "At 6 hours per day, it takes 29 days to finish the trip.\n"
     ]
    }
   ],
   "source": [
    "print(\"The trip takes\",int(TotalDuration),\"hours and\",math.ceil((TotalDuration % 1) * 60),\"minutes.\")\n",
    "print(\"At 6 hours per day, it takes\",math.ceil(TotalDuration/6),\"days to finish the trip.\")"
   ]
  }
 ],
 "metadata": {
  "kernelspec": {
   "display_name": "Python 3 (ipykernel)",
   "language": "python",
   "name": "python3"
  },
  "language_info": {
   "codemirror_mode": {
    "name": "ipython",
    "version": 3
   },
   "file_extension": ".py",
   "mimetype": "text/x-python",
   "name": "python",
   "nbconvert_exporter": "python",
   "pygments_lexer": "ipython3",
   "version": "3.9.13"
  }
 },
 "nbformat": 4,
 "nbformat_minor": 5
}
