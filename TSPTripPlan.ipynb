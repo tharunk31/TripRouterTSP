{
 "cells": [
  {
   "cell_type": "code",
   "execution_count": 20,
   "id": "b0752f3d",
   "metadata": {},
   "outputs": [],
   "source": [
    "import numpy as np\n",
    "import pandas as pd\n",
    "import googlemaps\n",
    "import math\n",
    "import csv\n",
    "import gurobipy as gp\n",
    "from gurobipy import GRB\n",
    "import networkx as nx\n",
    "import matplotlib.pyplot as plt\n",
    "import matplotlib.patches as patches\n",
    "import geopandas\n",
    "import plotly.express as px"
   ]
  },
  {
   "cell_type": "code",
   "execution_count": 21,
   "id": "3924b98a",
   "metadata": {},
   "outputs": [],
   "source": [
    "gmaps = googlemaps.Client(key = \"ENTER YOUR GOOGLE MAPS API KEY HERE\")\n",
    "Locations = []\n",
    "\n",
    "ImportList = input(\"Load previously saved csv file location list?\\nEnter'Y' for yes and 'N' for no\\n\")\n",
    "if (ImportList == 'Y'):\n",
    "    with open(\"Locations.csv\",newline='') as f:\n",
    "        reader = csv.reader(f)\n",
    "        Locations = list(reader)\n",
    "        \n",
    "    for i in range(len(Locations)):\n",
    "        Locations[i] = Locations[i][0]\n",
    "\n",
    "Entry = input(\"Enter place to visit:\\nEnter 'stop' to stop\\n\")\n",
    "while (Entry != 'stop'):\n",
    "    if (Entry not in Locations):\n",
    "        Locations.append(Entry)\n",
    "    Entry = input(\"Enter place to visit:\\n Enter 'stop' to stop\\n\")"
   ]
  },
  {
   "cell_type": "code",
   "execution_count": 22,
   "id": "3be4e265",
   "metadata": {},
   "outputs": [
    {
     "data": {
      "text/plain": [
       "['Champaign, IL',\n",
       " 'Chicago, IL',\n",
       " 'Minneapolis, MN',\n",
       " 'Glacier National Park, MT',\n",
       " 'Seattle, WA',\n",
       " 'Pittsburgh, PA',\n",
       " 'Boston, MA',\n",
       " 'San Diego, CA',\n",
       " 'Miami, FL',\n",
       " 'Albuquerque, NM',\n",
       " 'Denver, CO',\n",
       " 'New Orleans, LA',\n",
       " 'Zion National Park, UT',\n",
       " 'Los Angeles, CA',\n",
       " 'San Francisco, CA',\n",
       " 'Canyonlands National Park, UT',\n",
       " 'Yosemite National Park, CA',\n",
       " 'Yellowstone National Park, WY',\n",
       " 'Knoxville, TN',\n",
       " 'Washington DC, DC',\n",
       " 'Philadelphia, PA',\n",
       " 'Greensboro, NC',\n",
       " 'Nashville, TN',\n",
       " 'St. Louis, MO',\n",
       " 'Las Vegas, NV',\n",
       " 'New York, NY',\n",
       " 'Niagara Falls, NY',\n",
       " 'Capitol Reef National Park, UT',\n",
       " 'Grand Canyon National Park, AZ',\n",
       " 'Arches National Park, UT',\n",
       " 'Bryce Canyon National Park, UT',\n",
       " 'Portland, OR',\n",
       " 'Badlands National Park, SD',\n",
       " 'Lake of the Clouds, MI',\n",
       " 'Traverse City, MI']"
      ]
     },
     "execution_count": 22,
     "metadata": {},
     "output_type": "execute_result"
    }
   ],
   "source": [
    "Locations"
   ]
  },
  {
   "cell_type": "code",
   "execution_count": 23,
   "id": "bdfe8f86",
   "metadata": {},
   "outputs": [],
   "source": [
    "RemoveLoc = input(\"Remove any location? 'Y' for yes and 'N' for no\\n\")\n",
    "if RemoveLoc == 'Y':\n",
    "    LocEntry = input(\"Enter Location: Enter 'stop' to stop\\n\")\n",
    "    while (LocEntry != 'stop'):\n",
    "        Locations.remove(LocEntry)\n",
    "        LocEntry = input(\"Enter Location: Enter 'stop' to stop\\n\")\n",
    "        "
   ]
  },
  {
   "cell_type": "code",
   "execution_count": 24,
   "id": "fe537341",
   "metadata": {},
   "outputs": [
    {
     "data": {
      "text/plain": [
       "['Champaign, IL',\n",
       " 'Chicago, IL',\n",
       " 'Minneapolis, MN',\n",
       " 'Glacier National Park, MT',\n",
       " 'Seattle, WA',\n",
       " 'Pittsburgh, PA',\n",
       " 'Boston, MA',\n",
       " 'San Diego, CA',\n",
       " 'Miami, FL',\n",
       " 'Albuquerque, NM',\n",
       " 'Denver, CO',\n",
       " 'New Orleans, LA',\n",
       " 'Zion National Park, UT',\n",
       " 'Los Angeles, CA',\n",
       " 'San Francisco, CA',\n",
       " 'Canyonlands National Park, UT',\n",
       " 'Yosemite National Park, CA',\n",
       " 'Yellowstone National Park, WY',\n",
       " 'Knoxville, TN',\n",
       " 'Washington DC, DC',\n",
       " 'Philadelphia, PA',\n",
       " 'Greensboro, NC',\n",
       " 'Nashville, TN',\n",
       " 'St. Louis, MO',\n",
       " 'Las Vegas, NV',\n",
       " 'New York, NY',\n",
       " 'Niagara Falls, NY',\n",
       " 'Capitol Reef National Park, UT',\n",
       " 'Grand Canyon National Park, AZ',\n",
       " 'Arches National Park, UT',\n",
       " 'Bryce Canyon National Park, UT',\n",
       " 'Portland, OR']"
      ]
     },
     "execution_count": 24,
     "metadata": {},
     "output_type": "execute_result"
    }
   ],
   "source": [
    "Locations"
   ]
  },
  {
   "cell_type": "code",
   "execution_count": 25,
   "id": "82d7db29",
   "metadata": {},
   "outputs": [],
   "source": [
    "if ImportList == 'Y':\n",
    "\n",
    "    ImportedDistanceMatrix = np.genfromtxt(\"C:\\\\TV\\\\Distance.csv\",delimiter=\",\")\n",
    "    ImportedDurationMatrix = np.genfromtxt(\"C:\\\\TV\\\\Duration.csv\",delimiter=\",\")"
   ]
  },
  {
   "cell_type": "code",
   "execution_count": 26,
   "id": "2e87b206",
   "metadata": {},
   "outputs": [],
   "source": [
    "DistanceMatrix = np.zeros((len(Locations),len(Locations)))\n",
    "DurationMatrix = np.zeros((len(Locations),len(Locations)))\n",
    "\n",
    "if ((ImportList =='N') or (RemoveLoc =='Y')):\n",
    "\n",
    "    for i in range(len(Locations)):\n",
    "        for j in range(len(Locations)):\n",
    "                TestGeoCode = gmaps.distance_matrix(Locations[i],Locations[j])\n",
    "                if (i != j):\n",
    "                    if (TestGeoCode['rows'][0]['elements'][0]['status'] == 'OK'):\n",
    "                        DistanceMatrix[i][j] = TestGeoCode['rows'][0]['elements'][0]['distance']['value']/1000\n",
    "                        DurationMatrix[i][j] = TestGeoCode['rows'][0]['elements'][0]['duration']['value']/3600\n",
    "                    else:\n",
    "                        DistanceMatrix[i][j] = 1000000000 \n",
    "                        DurationMatrix[i][j] = 1000000000\n",
    "\n",
    "\n",
    "if ((RemoveLoc == 'N') and (ImportList == 'Y')):\n",
    "\n",
    "    for i in range(len(Locations)):\n",
    "        for j in range(len(Locations)):\n",
    "            if ((i < len(ImportedDistanceMatrix)) and (j < len(ImportedDistanceMatrix))):\n",
    "                DistanceMatrix[i][j] = ImportedDistanceMatrix[i][j]\n",
    "                DurationMatrix[i][j] = ImportedDurationMatrix[i][j]\n",
    "            else:\n",
    "                TestGeoCode = gmaps.distance_matrix(Locations[i],Locations[j])\n",
    "                if (i != j):\n",
    "                    if (TestGeoCode['rows'][0]['elements'][0]['status'] == 'OK'):\n",
    "                        DistanceMatrix[i][j] = TestGeoCode['rows'][0]['elements'][0]['distance']['value']/1000\n",
    "                        DurationMatrix[i][j] = TestGeoCode['rows'][0]['elements'][0]['duration']['value']/3600\n",
    "                    else:\n",
    "                        DistanceMatrix[i][j] = 1000000000\n",
    "                        DurationMatrix[i][j] = 1000000000"
   ]
  },
  {
   "cell_type": "code",
   "execution_count": 27,
   "id": "598cb91f",
   "metadata": {},
   "outputs": [],
   "source": [
    "# DistanceMatrix = np.zeros((len(Locations),len(Locations)))\n",
    "\n",
    "# for i in range(len(Locations)):\n",
    "#     for j in range(len(Locations)):\n",
    "#         if (TestGeoCode['rows'][i]['elements'][j]['status'] == 'OK'):\n",
    "#             DistanceMatrix[i][j] = TestGeoCode['rows'][i]['elements'][j]['distance']['value']/1000\n",
    "#         else:\n",
    "#             DistanceMatrix[i][j] = np.inf\n",
    "\n",
    "\n",
    "# for i in range(len(Locations)):\n",
    "#     InfCount = 0\n",
    "#     for j in range(len(Locations)):\n",
    "#         if (DistanceMatrix[i][j] == np.inf):\n",
    "#             InfCount += 1\n",
    "#     if InfCount == len(Locations):\n",
    "#         DistanceMatrix = np.delete(DistanceMatrix, (i), axis=0)\n",
    "#         DistanceMatrix = np.delete(DistanceMatrix, (i), axis=1)\n",
    "#         Locations.pop(i)\n",
    "    \n",
    "# DistanceMatrix"
   ]
  },
  {
   "cell_type": "code",
   "execution_count": 28,
   "id": "cf89bfb5",
   "metadata": {},
   "outputs": [
    {
     "data": {
      "text/plain": [
       "['Champaign, IL',\n",
       " 'Chicago, IL',\n",
       " 'Minneapolis, MN',\n",
       " 'Glacier National Park, MT',\n",
       " 'Seattle, WA',\n",
       " 'Pittsburgh, PA',\n",
       " 'Boston, MA',\n",
       " 'San Diego, CA',\n",
       " 'Miami, FL',\n",
       " 'Albuquerque, NM',\n",
       " 'Denver, CO',\n",
       " 'New Orleans, LA',\n",
       " 'Zion National Park, UT',\n",
       " 'Los Angeles, CA',\n",
       " 'San Francisco, CA',\n",
       " 'Canyonlands National Park, UT',\n",
       " 'Yosemite National Park, CA',\n",
       " 'Yellowstone National Park, WY',\n",
       " 'Knoxville, TN',\n",
       " 'Washington DC, DC',\n",
       " 'Philadelphia, PA',\n",
       " 'Greensboro, NC',\n",
       " 'Nashville, TN',\n",
       " 'St. Louis, MO',\n",
       " 'Las Vegas, NV',\n",
       " 'New York, NY',\n",
       " 'Niagara Falls, NY',\n",
       " 'Capitol Reef National Park, UT',\n",
       " 'Grand Canyon National Park, AZ',\n",
       " 'Arches National Park, UT',\n",
       " 'Bryce Canyon National Park, UT',\n",
       " 'Portland, OR']"
      ]
     },
     "execution_count": 28,
     "metadata": {},
     "output_type": "execute_result"
    }
   ],
   "source": [
    "Locations"
   ]
  },
  {
   "cell_type": "code",
   "execution_count": 29,
   "id": "d685d5f9",
   "metadata": {},
   "outputs": [
    {
     "name": "stdout",
     "output_type": "stream",
     "text": [
      "Location file saved\n",
      "Distance file saved\n",
      "Duration file saved\n"
     ]
    }
   ],
   "source": [
    "SaveList = input(\"Save locations and distances?\\nEnter 'Y' for yes 'N' for no\\n\")\n",
    "\n",
    "if (SaveList == 'Y'):\n",
    "    with open(\"Locations.csv\",\"w\",newline='') as f:\n",
    "        write = csv.writer(f,dialect='excel')\n",
    "        for i in Locations:\n",
    "            write.writerow([i])\n",
    "    print(\"Location file saved\")\n",
    "    \n",
    "    np.savetxt(\"Distance.csv\", DistanceMatrix,\n",
    "              delimiter=\",\")\n",
    "    print(\"Distance file saved\")\n",
    "\n",
    "    np.savetxt(\"Duration.csv\", DurationMatrix,\n",
    "              delimiter=\",\")\n",
    "    print(\"Duration file saved\")"
   ]
  },
  {
   "cell_type": "code",
   "execution_count": 30,
   "id": "150c3bb9",
   "metadata": {},
   "outputs": [
    {
     "name": "stdout",
     "output_type": "stream",
     "text": [
      "Gurobi Optimizer version 11.0.1 build v11.0.1rc0 (win64 - Windows 11.0 (22631.2))\n",
      "\n",
      "CPU model: 12th Gen Intel(R) Core(TM) i7-1250U, instruction set [SSE2|AVX|AVX2]\n",
      "Thread count: 10 physical cores, 12 logical processors, using up to 12 threads\n",
      "\n",
      "Optimize a model with 1057 rows, 1056 columns and 4901 nonzeros\n",
      "Model fingerprint: 0x95b25926\n",
      "Variable types: 0 continuous, 1056 integer (1024 binary)\n",
      "Coefficient statistics:\n",
      "  Matrix range     [1e+00, 3e+01]\n",
      "  Objective range  [1e+02, 5e+03]\n",
      "  Bounds range     [1e+00, 3e+01]\n",
      "  RHS range        [1e+00, 3e+01]\n",
      "Presolve removed 63 rows and 33 columns\n",
      "Presolve time: 0.02s\n",
      "Presolved: 994 rows, 1023 columns, 4774 nonzeros\n",
      "Variable types: 0 continuous, 1023 integer (992 binary)\n",
      "Found heuristic solution: objective 81626.256000\n",
      "Found heuristic solution: objective 66981.809000\n",
      "\n",
      "Root relaxation: objective 1.375121e+04, 119 iterations, 0.00 seconds (0.00 work units)\n",
      "\n",
      "    Nodes    |    Current Node    |     Objective Bounds      |     Work\n",
      " Expl Unexpl |  Obj  Depth IntInf | Incumbent    BestBd   Gap | It/Node Time\n",
      "\n",
      "     0     0 13751.2122    0   39 66981.8090 13751.2122  79.5%     -    0s\n",
      "H    0     0                    19833.302000 13751.2122  30.7%     -    0s\n",
      "     0     0 16178.1939    0   62 19833.3020 16178.1939  18.4%     -    0s\n",
      "     0     0 16198.9579    0   80 19833.3020 16198.9579  18.3%     -    0s\n",
      "     0     0 16223.0381    0   79 19833.3020 16223.0381  18.2%     -    0s\n",
      "H    0     0                    19042.768000 16223.0381  14.8%     -    0s\n",
      "     0     0 16223.0381    0   86 19042.7680 16223.0381  14.8%     -    0s\n",
      "     0     0 16223.0381    0   39 19042.7680 16223.0381  14.8%     -    0s\n",
      "     0     0 16223.0381    0   56 19042.7680 16223.0381  14.8%     -    0s\n",
      "     0     0 16223.0381    0   79 19042.7680 16223.0381  14.8%     -    0s\n",
      "     0     0 16223.0381    0   87 19042.7680 16223.0381  14.8%     -    0s\n",
      "     0     0 16255.1811    0   89 19042.7680 16255.1811  14.6%     -    0s\n",
      "     0     0 16330.9144    0   90 19042.7680 16330.9144  14.2%     -    0s\n",
      "     0     0 16330.9144    0   90 19042.7680 16330.9144  14.2%     -    0s\n",
      "     0     0 16398.2386    0   93 19042.7680 16398.2386  13.9%     -    0s\n",
      "     0     0 16398.2386    0   92 19042.7680 16398.2386  13.9%     -    0s\n",
      "H    0     0                    18597.318000 16401.0913  11.8%     -    0s\n",
      "     0     0 16401.0913    0   92 18597.3180 16401.0913  11.8%     -    0s\n",
      "     0     0 16401.0913    0   92 18597.3180 16401.0913  11.8%     -    0s\n",
      "     0     0 16545.4437    0   39 18597.3180 16545.4437  11.0%     -    0s\n",
      "     0     0 16545.4437    0   80 18597.3180 16545.4437  11.0%     -    0s\n",
      "     0     0 16545.4437    0   83 18597.3180 16545.4437  11.0%     -    0s\n",
      "     0     0 16545.4437    0   85 18597.3180 16545.4437  11.0%     -    0s\n",
      "     0     0 16545.4437    0   77 18597.3180 16545.4437  11.0%     -    0s\n",
      "     0     0 16545.4437    0   71 18597.3180 16545.4437  11.0%     -    0s\n",
      "     0     0 16545.4437    0   71 18597.3180 16545.4437  11.0%     -    0s\n",
      "     0     0 16545.4437    0   73 18597.3180 16545.4437  11.0%     -    1s\n",
      "     0     0 16545.4437    0   76 18597.3180 16545.4437  11.0%     -    1s\n",
      "     0     0 16545.4437    0   76 18597.3180 16545.4437  11.0%     -    1s\n",
      "     0     0 16545.4437    0   76 18597.3180 16545.4437  11.0%     -    1s\n",
      "     0     0 16545.4437    0   76 18597.3180 16545.4437  11.0%     -    1s\n",
      "     0     2 16560.0101    0   76 18597.3180 16560.0101  11.0%     -    1s\n",
      "H   36    46                    18582.287000 16612.3221  10.6%  20.4    1s\n",
      "H   82    86                    18127.368000 16612.3221  8.36%  13.2    1s\n",
      "  8970  3262     cutoff   37      18127.3680 16994.0099  6.25%   7.3    5s\n",
      " 35016 15526 17616.4769   47   21 18127.3680 17247.7171  4.85%   7.3   10s\n",
      " 36707 15647 17359.2121   41   59 18127.3680 17254.2579  4.82%   7.3   15s\n",
      " 52963 18607 17694.7198   61    4 18127.3680 17254.2579  4.82%   7.3   20s\n",
      " 81202 22556 17401.3900   45   87 18127.3680 17311.4850  4.50%   7.2   25s\n",
      "*93218 26737              53    18094.541000 17340.2021  4.17%   7.1   26s\n",
      " 113793 34614 17531.1708   65   27 18094.5410 17385.4473  3.92%   7.1   30s\n",
      " 137114 42986 17814.3556   44   57 18094.5410 17422.9307  3.71%   7.2   35s\n",
      " 155213 48933 17545.2006   63   13 18094.5410 17447.6620  3.57%   7.2   40s\n",
      " 170985 53938 17736.6281   53   10 18094.5410 17466.0792  3.47%   7.2   45s\n",
      " 187716 59185 17971.4749   64   12 18094.5410 17483.6614  3.38%   7.2   50s\n",
      " 206336 64443 infeasible   63      18094.5410 17501.8096  3.28%   7.2   55s\n",
      " 224564 69711 17878.3005   49   37 18094.5410 17517.8461  3.19%   7.2   60s\n",
      " 241407 74131 17777.0169   61   24 18094.5410 17532.5805  3.11%   7.2   65s\n",
      "H249331 69547                    17977.610000 17539.0104  2.44%   7.2   67s\n",
      " 257679 70724 17646.6216   59   12 17977.6100 17548.0351  2.39%   7.2   70s\n",
      " 272358 72258     cutoff   69      17977.6100 17563.7324  2.30%   7.3   75s\n",
      " 287469 73534 17867.5888   57   24 17977.6100 17577.9737  2.22%   7.3   80s\n",
      " 303571 74771 17692.7227   57    8 17977.6100 17593.2228  2.14%   7.4   85s\n",
      " 316466 75675 17712.1530   50   11 17977.6100 17604.0523  2.08%   7.4   90s\n",
      " 328855 75869 17760.0896   55    7 17977.6100 17614.5345  2.02%   7.5   95s\n",
      " 344076 76104 17667.6479   59   27 17977.6100 17626.5078  1.95%   7.6  100s\n",
      " 356659 76279 infeasible   52      17977.6100 17636.5816  1.90%   7.6  105s\n",
      " 368299 76219 17840.4548   68   31 17977.6100 17645.3728  1.85%   7.6  110s\n",
      " 383292 75567 infeasible   61      17977.6100 17656.7580  1.78%   7.7  115s\n",
      " 395547 75064     cutoff   62      17977.6100 17665.6669  1.74%   7.7  120s\n",
      " 406120 74757     cutoff   57      17977.6100 17672.9368  1.69%   7.8  125s\n",
      " 414264 74365 17918.1157   60    8 17977.6100 17678.5183  1.66%   7.8  130s\n",
      " 429052 73163 17780.1959   49   42 17977.6100 17688.8580  1.61%   7.8  135s\n",
      " 439818 72073 17929.7185   58   16 17977.6100 17696.7998  1.56%   7.9  140s\n",
      " 452410 70461     cutoff   58      17977.6100 17705.9224  1.51%   7.9  145s\n",
      " 461529 69308     cutoff   56      17977.6100 17713.0289  1.47%   7.9  150s\n",
      " 472930 67927 17892.9505   62   33 17977.6100 17720.9960  1.43%   8.0  155s\n",
      " 484016 65833 17927.5121   50   47 17977.6100 17729.0885  1.38%   8.0  160s\n",
      "*488065 64839              53    17974.234000 17731.8053  1.35%   8.0  161s\n",
      " 495244 63503     cutoff   58      17974.2340 17737.3615  1.32%   8.0  165s\n",
      " 506591 61215     cutoff   51      17974.2340 17746.1709  1.27%   8.0  170s\n",
      " 518120 58971     cutoff   54      17974.2340 17754.5333  1.22%   8.1  175s\n",
      " 529616 56342 17853.4179   60    6 17974.2340 17763.3699  1.17%   8.1  180s\n",
      " 538916 53963 17878.9296   51   25 17974.2340 17771.1648  1.13%   8.1  185s\n",
      " 550061 51100 17933.5699   53    7 17974.2340 17780.5093  1.08%   8.2  190s\n",
      " 562993 47320     cutoff   63      17974.2340 17792.1370  1.01%   8.2  195s\n",
      " 574151 43606     cutoff   59      17974.2340 17802.7259  0.95%   8.2  200s\n",
      " 587440 38995     cutoff   70      17974.2340 17815.2063  0.88%   8.3  205s\n",
      " 596508 35265 17910.8598   50   19 17974.2340 17825.4448  0.83%   8.3  210s\n",
      " 607221 30749 17907.5356   58    8 17974.2340 17838.0958  0.76%   8.3  215s\n",
      " 618044 25470     cutoff   59      17974.2340 17852.9640  0.67%   8.4  220s\n",
      " 629995 18942     cutoff   55      17974.2340 17873.2590  0.56%   8.4  225s\n",
      " 641181 11514     cutoff   54      17974.2340 17900.4490  0.41%   8.4  230s\n",
      " 652266  2072 17966.9644   57   23 17974.2340 17946.8733  0.15%   8.4  235s\n",
      "\n",
      "Cutting planes:\n",
      "  Learned: 34\n",
      "  Gomory: 39\n",
      "  Cover: 158\n",
      "  Implied bound: 50\n",
      "  Projected implied bound: 3\n",
      "  MIR: 61\n",
      "  Mixing: 34\n",
      "  StrongCG: 10\n",
      "  Flow cover: 362\n",
      "  GUB cover: 1\n",
      "  Inf proof: 123\n",
      "  Zero half: 157\n",
      "  Mod-K: 3\n",
      "  RLT: 31\n",
      "  Relax-and-lift: 33\n",
      "  PSD: 3\n",
      "\n",
      "Explored 655992 nodes (5521059 simplex iterations) in 236.42 seconds (91.46 work units)\n",
      "Thread count was 12 (of 12 available processors)\n",
      "\n",
      "Solution count 10: 17974.2 17977.6 18094.5 ... 81626.3\n",
      "\n",
      "Optimal solution found (tolerance 1.00e-04)\n",
      "Best objective 1.797423400000e+04, best bound 1.797423400000e+04, gap 0.0000%\n",
      "\n",
      "\n",
      "\n",
      "*********\n",
      "Solution Found\n",
      "*********\n",
      "Order of routing:\n",
      "Champaign, IL -> St. Louis, MO -> Nashville, TN -> Knoxville, TN -> Pittsburgh, PA -> Niagara Falls, NY -> Boston, MA -> New York, NY -> Philadelphia, PA -> Washington DC, DC -> Greensboro, NC -> Miami, FL -> New Orleans, LA -> Albuquerque, NM -> Canyonlands National Park, UT -> Arches National Park, UT -> Capitol Reef National Park, UT -> Bryce Canyon National Park, UT -> Grand Canyon National Park, AZ -> Zion National Park, UT -> Las Vegas, NV -> San Diego, CA -> Los Angeles, CA -> Yosemite National Park, CA -> San Francisco, CA -> Portland, OR -> Seattle, WA -> Glacier National Park, MT -> Yellowstone National Park, WY -> Denver, CO -> Minneapolis, MN -> Chicago, IL -> Champaign, IL\n",
      "The route takes 17974.233999999997 kilometers.\n"
     ]
    }
   ],
   "source": [
    "model = gp.Model(\"RouteTSP\")\n",
    "\n",
    "x = model.addVars(len(Locations), len(Locations), name = \"X\", vtype = GRB.BINARY)\n",
    "\n",
    "u = model.addVars(len(Locations), name=\"U\", vtype=GRB.INTEGER,lb=1,ub=len(Locations))\n",
    "\n",
    "RouteDistance = 0\n",
    "\n",
    "for i in range(len(Locations)):\n",
    "    for j in range(len(Locations)):\n",
    "        RouteDistance += DistanceMatrix[i][j] * x[i,j]\n",
    "        \n",
    "InFlowConstraints = model.addConstrs(x.sum(i,\"*\") == 1 for i in range(1,len(Locations)))\n",
    "\n",
    "OutFlowConstraints = model.addConstrs(x.sum(\"*\",i) == 1 for i in range(1,len(Locations)))\n",
    "\n",
    "StartFlowConstraint = model.addConstr(x.sum(0,\"*\") == 1)\n",
    "\n",
    "EndFlowConstraint = model.addConstr(x.sum(\"*\",0) == 1)\n",
    "\n",
    "SubTourEliminationConstraints = model.addConstrs(u[i] - u[j] + 1 <= (len(Locations) - 1) * (1 - x[i,j]) for i in range(1,len(Locations)) for j in range(1,len(Locations)))\n",
    "\n",
    "StayProhibitionConstraints = model.addConstrs(x[i,i] == 0 for i in range(len(Locations)))\n",
    "\n",
    "model.setObjective(RouteDistance, GRB.MINIMIZE)\n",
    "model.optimize()\n",
    "\n",
    "if (model.Status == GRB.OPTIMAL):\n",
    "    print(\"\\n\\n\\n*********\\nSolution Found\\n*********\")\n",
    "    xValue = model.getAttr(\"X\",x)\n",
    "    obj = model.getObjective()\n",
    "#     for i in range(len(Locations)):\n",
    "#         for j in range(len(Locations)):\n",
    "#             if (xValue[i,j] > 0):\n",
    "#                 print(\"We visit\",Locations[j], \"from\",Locations[i])\n",
    "    print(\"Order of routing:\")\n",
    "    next = np.zeros(len(Locations))\n",
    "    Routing = [0]\n",
    "    for i in range(len(Locations)):\n",
    "        for j in range(len(Locations)):\n",
    "            if xValue[i,j] > 0:\n",
    "                next[i] = j\n",
    "    current = 0\n",
    "    while next[current] != 0:\n",
    "        Routing.append(int(next[current]))\n",
    "        current = int(next[current])\n",
    "        \n",
    "    Routing.append(0)\n",
    "    # print(Routing)\n",
    "    RouteString = \"\"\n",
    "    Count = 0\n",
    "    for i in Routing:\n",
    "        if (Count < len(Locations)+1) and (Count > 0):\n",
    "            RouteString += \" -> \"\n",
    "        RouteString += Locations[i]\n",
    "        Count += 1\n",
    "    print(RouteString)\n",
    "    OptimalDistance = obj.getValue()\n",
    "    print(\"The route takes\",OptimalDistance,\"kilometers.\")"
   ]
  },
  {
   "cell_type": "code",
   "execution_count": 31,
   "id": "3a10518d",
   "metadata": {},
   "outputs": [],
   "source": [
    "RouteDistance = DistanceMatrix\n",
    "TotalDuration = 0\n",
    "LocationDict = {i:Locations[i] for i in range(len(Locations))}\n",
    "\n",
    "for i in range(len(Locations)):\n",
    "    for j in range(len(Locations)):\n",
    "        if (xValue[i,j] > 0.1):\n",
    "            RouteDistance[i][j] *= xValue[i,j]\n",
    "            TotalDuration += DurationMatrix[i][j]\n",
    "        else:\n",
    "            RouteDistance[i][j] *= 0"
   ]
  },
  {
   "cell_type": "code",
   "execution_count": null,
   "id": "1aaef7d6-e4a9-40ac-8caa-9efdef8e38a0",
   "metadata": {},
   "outputs": [],
   "source": []
  },
  {
   "cell_type": "code",
   "execution_count": 32,
   "id": "bb90223e-5545-4fa1-a3f2-dd88812171f8",
   "metadata": {},
   "outputs": [
    {
     "data": {
      "text/plain": [
       "array([40.1164204, 41.8781136, 44.977753 , 48.7596128, 47.6061389,\n",
       "       40.4406248, 42.3600825, 32.715738 , 25.7616798, 35.0843859,\n",
       "       39.7392358, 29.9510658, 37.2982022, 34.0549076, 37.7749295,\n",
       "       38.1632525, 37.8651011, 44.5979182, 35.9606384, 38.9071923,\n",
       "       39.9525839, 36.0725632, 36.1626638, 38.6270025, 36.171563 ,\n",
       "       40.7127753, 43.0962143, 38.0877312, 36.2678855, 38.7328166,\n",
       "       37.5930377, 45.515232 ])"
      ]
     },
     "execution_count": 32,
     "metadata": {},
     "output_type": "execute_result"
    }
   ],
   "source": [
    "Latitudes = np.zeros(len(Locations))\n",
    "Longitudes = np.zeros(len(Locations))\n",
    "for i in range(len(Locations)):\n",
    "    Latitudes[i] = gmaps.geocode(Locations[i])[0]['geometry']['location']['lat']\n",
    "    Longitudes[i] = gmaps.geocode(Locations[i])[0]['geometry']['location']['lng']\n",
    "\n",
    "Latitudes"
   ]
  },
  {
   "cell_type": "code",
   "execution_count": 33,
   "id": "b8a43f2a-fc2b-4662-aa3b-79490abaee59",
   "metadata": {},
   "outputs": [
    {
     "data": {
      "text/plain": [
       "array([ -88.2433829,  -87.6297982,  -93.2650108, -113.7870225,\n",
       "       -122.3328481,  -79.9958864,  -71.0588801, -117.1610838,\n",
       "        -80.1917902, -106.650422 , -104.990251 ,  -90.0715323,\n",
       "       -113.0263005, -118.242643 , -122.4194155, -109.7626512,\n",
       "       -119.5383294, -110.561249 ,  -83.9207392,  -77.0368707,\n",
       "        -75.1652215,  -79.791534 ,  -86.7816016,  -90.1994042,\n",
       "       -115.1391009,  -74.0059728,  -79.0377388, -111.1354983,\n",
       "       -112.3535253, -109.5746222, -112.1870895, -122.6783853])"
      ]
     },
     "execution_count": 33,
     "metadata": {},
     "output_type": "execute_result"
    }
   ],
   "source": [
    "Longitudes"
   ]
  },
  {
   "cell_type": "code",
   "execution_count": 34,
   "id": "2831b9bd-0d9a-4c80-a8e6-09e382eba517",
   "metadata": {},
   "outputs": [
    {
     "data": {
      "text/plain": [
       "['Champaign, IL',\n",
       " 'Chicago, IL',\n",
       " 'Minneapolis, MN',\n",
       " 'Glacier National Park, MT',\n",
       " 'Seattle, WA',\n",
       " 'Pittsburgh, PA',\n",
       " 'Boston, MA',\n",
       " 'San Diego, CA',\n",
       " 'Miami, FL',\n",
       " 'Albuquerque, NM',\n",
       " 'Denver, CO',\n",
       " 'New Orleans, LA',\n",
       " 'Zion National Park, UT',\n",
       " 'Los Angeles, CA',\n",
       " 'San Francisco, CA',\n",
       " 'Canyonlands National Park, UT',\n",
       " 'Yosemite National Park, CA',\n",
       " 'Yellowstone National Park, WY',\n",
       " 'Knoxville, TN',\n",
       " 'Washington DC, DC',\n",
       " 'Philadelphia, PA',\n",
       " 'Greensboro, NC',\n",
       " 'Nashville, TN',\n",
       " 'St. Louis, MO',\n",
       " 'Las Vegas, NV',\n",
       " 'New York, NY',\n",
       " 'Niagara Falls, NY',\n",
       " 'Capitol Reef National Park, UT',\n",
       " 'Grand Canyon National Park, AZ',\n",
       " 'Arches National Park, UT',\n",
       " 'Bryce Canyon National Park, UT',\n",
       " 'Portland, OR']"
      ]
     },
     "execution_count": 34,
     "metadata": {},
     "output_type": "execute_result"
    }
   ],
   "source": [
    "Locations"
   ]
  },
  {
   "cell_type": "code",
   "execution_count": 35,
   "id": "8730ed7a",
   "metadata": {},
   "outputs": [
    {
     "data": {
      "image/png": "[encoded data removed]",
      "text/plain": [
       "<Figure size 640x480 with 1 Axes>"
      ]
     },
     "metadata": {},
     "output_type": "display_data"
    }
   ],
   "source": [
    "\n",
    "G = nx.from_numpy_array(RouteDistance)\n",
    "\n",
    "G = nx.DiGraph()\n",
    "\n",
    "for i in range(len(Locations)):\n",
    "    G.add_node(i, pos = (Longitudes[i], Latitudes[i]))\n",
    "    for j in range(len(Locations)):\n",
    "        if (RouteDistance[i][j] != 0):\n",
    "            G.add_edge(i,j,weight=RouteDistance[i][j])\n",
    "        \n",
    "nx.draw_networkx(G,nx.get_node_attributes(G,\"pos\"),with_labels=True)\n",
    "handles_dict = {patches.Patch(color='white', label=f\"{k}, {v}\") for k,v in LocationDict.items()}\n",
    "plt.legend(handles=handles_dict,loc='right',bbox_to_anchor=(1.65,0.5))\n",
    "plt.show()"
   ]
  },
  {
   "cell_type": "code",
   "execution_count": 36,
   "id": "852d618b-6a24-47d5-8dd7-d748facefe2a",
   "metadata": {},
   "outputs": [
    {
     "name": "stderr",
     "output_type": "stream",
     "text": [
      "C:\\Users\\imtha\\AppData\\Local\\Temp\\ipykernel_15324\\1945687795.py:6: FutureWarning:\n",
      "\n",
      "Setting an item of incompatible dtype is deprecated and will raise in a future error of pandas. Value 'Champaign, IL' has dtype incompatible with float64, please explicitly cast to a compatible dtype first.\n",
      "\n"
     ]
    },
    {
     "data": {
      "text/html": [
       "<div>\n",
       "<style scoped>\n",
       "    .dataframe tbody tr th:only-of-type {\n",
       "        vertical-align: middle;\n",
       "    }\n",
       "\n",
       "    .dataframe tbody tr th {\n",
       "        vertical-align: top;\n",
       "    }\n",
       "\n",
       "    .dataframe thead th {\n",
       "        text-align: right;\n",
       "    }\n",
       "</style>\n",
       "<table border=\"1\" class=\"dataframe\">\n",
       "  <thead>\n",
       "    <tr style=\"text-align: right;\">\n",
       "      <th></th>\n",
       "      <th>Locations</th>\n",
       "      <th>Latitudes</th>\n",
       "      <th>Longitudes</th>\n",
       "    </tr>\n",
       "  </thead>\n",
       "  <tbody>\n",
       "    <tr>\n",
       "      <th>0</th>\n",
       "      <td>Champaign, IL</td>\n",
       "      <td>40.116420</td>\n",
       "      <td>-88.243383</td>\n",
       "    </tr>\n",
       "    <tr>\n",
       "      <th>1</th>\n",
       "      <td>St. Louis, MO</td>\n",
       "      <td>38.627003</td>\n",
       "      <td>-90.199404</td>\n",
       "    </tr>\n",
       "    <tr>\n",
       "      <th>2</th>\n",
       "      <td>Nashville, TN</td>\n",
       "      <td>36.162664</td>\n",
       "      <td>-86.781602</td>\n",
       "    </tr>\n",
       "    <tr>\n",
       "      <th>3</th>\n",
       "      <td>Knoxville, TN</td>\n",
       "      <td>35.960638</td>\n",
       "      <td>-83.920739</td>\n",
       "    </tr>\n",
       "    <tr>\n",
       "      <th>4</th>\n",
       "      <td>Pittsburgh, PA</td>\n",
       "      <td>40.440625</td>\n",
       "      <td>-79.995886</td>\n",
       "    </tr>\n",
       "    <tr>\n",
       "      <th>5</th>\n",
       "      <td>Niagara Falls, NY</td>\n",
       "      <td>43.096214</td>\n",
       "      <td>-79.037739</td>\n",
       "    </tr>\n",
       "    <tr>\n",
       "      <th>6</th>\n",
       "      <td>Boston, MA</td>\n",
       "      <td>42.360082</td>\n",
       "      <td>-71.058880</td>\n",
       "    </tr>\n",
       "    <tr>\n",
       "      <th>7</th>\n",
       "      <td>New York, NY</td>\n",
       "      <td>40.712775</td>\n",
       "      <td>-74.005973</td>\n",
       "    </tr>\n",
       "    <tr>\n",
       "      <th>8</th>\n",
       "      <td>Philadelphia, PA</td>\n",
       "      <td>39.952584</td>\n",
       "      <td>-75.165222</td>\n",
       "    </tr>\n",
       "    <tr>\n",
       "      <th>9</th>\n",
       "      <td>Washington DC, DC</td>\n",
       "      <td>38.907192</td>\n",
       "      <td>-77.036871</td>\n",
       "    </tr>\n",
       "    <tr>\n",
       "      <th>10</th>\n",
       "      <td>Greensboro, NC</td>\n",
       "      <td>36.072563</td>\n",
       "      <td>-79.791534</td>\n",
       "    </tr>\n",
       "    <tr>\n",
       "      <th>11</th>\n",
       "      <td>Miami, FL</td>\n",
       "      <td>25.761680</td>\n",
       "      <td>-80.191790</td>\n",
       "    </tr>\n",
       "    <tr>\n",
       "      <th>12</th>\n",
       "      <td>New Orleans, LA</td>\n",
       "      <td>29.951066</td>\n",
       "      <td>-90.071532</td>\n",
       "    </tr>\n",
       "    <tr>\n",
       "      <th>13</th>\n",
       "      <td>Albuquerque, NM</td>\n",
       "      <td>35.084386</td>\n",
       "      <td>-106.650422</td>\n",
       "    </tr>\n",
       "    <tr>\n",
       "      <th>14</th>\n",
       "      <td>Canyonlands National Park, UT</td>\n",
       "      <td>38.163252</td>\n",
       "      <td>-109.762651</td>\n",
       "    </tr>\n",
       "    <tr>\n",
       "      <th>15</th>\n",
       "      <td>Arches National Park, UT</td>\n",
       "      <td>38.732817</td>\n",
       "      <td>-109.574622</td>\n",
       "    </tr>\n",
       "    <tr>\n",
       "      <th>16</th>\n",
       "      <td>Capitol Reef National Park, UT</td>\n",
       "      <td>38.087731</td>\n",
       "      <td>-111.135498</td>\n",
       "    </tr>\n",
       "    <tr>\n",
       "      <th>17</th>\n",
       "      <td>Bryce Canyon National Park, UT</td>\n",
       "      <td>37.593038</td>\n",
       "      <td>-112.187089</td>\n",
       "    </tr>\n",
       "    <tr>\n",
       "      <th>18</th>\n",
       "      <td>Grand Canyon National Park, AZ</td>\n",
       "      <td>36.267885</td>\n",
       "      <td>-112.353525</td>\n",
       "    </tr>\n",
       "    <tr>\n",
       "      <th>19</th>\n",
       "      <td>Zion National Park, UT</td>\n",
       "      <td>37.298202</td>\n",
       "      <td>-113.026301</td>\n",
       "    </tr>\n",
       "    <tr>\n",
       "      <th>20</th>\n",
       "      <td>Las Vegas, NV</td>\n",
       "      <td>36.171563</td>\n",
       "      <td>-115.139101</td>\n",
       "    </tr>\n",
       "    <tr>\n",
       "      <th>21</th>\n",
       "      <td>San Diego, CA</td>\n",
       "      <td>32.715738</td>\n",
       "      <td>-117.161084</td>\n",
       "    </tr>\n",
       "    <tr>\n",
       "      <th>22</th>\n",
       "      <td>Los Angeles, CA</td>\n",
       "      <td>34.054908</td>\n",
       "      <td>-118.242643</td>\n",
       "    </tr>\n",
       "    <tr>\n",
       "      <th>23</th>\n",
       "      <td>Yosemite National Park, CA</td>\n",
       "      <td>37.865101</td>\n",
       "      <td>-119.538329</td>\n",
       "    </tr>\n",
       "    <tr>\n",
       "      <th>24</th>\n",
       "      <td>San Francisco, CA</td>\n",
       "      <td>37.774929</td>\n",
       "      <td>-122.419415</td>\n",
       "    </tr>\n",
       "    <tr>\n",
       "      <th>25</th>\n",
       "      <td>Portland, OR</td>\n",
       "      <td>45.515232</td>\n",
       "      <td>-122.678385</td>\n",
       "    </tr>\n",
       "    <tr>\n",
       "      <th>26</th>\n",
       "      <td>Seattle, WA</td>\n",
       "      <td>47.606139</td>\n",
       "      <td>-122.332848</td>\n",
       "    </tr>\n",
       "    <tr>\n",
       "      <th>27</th>\n",
       "      <td>Glacier National Park, MT</td>\n",
       "      <td>48.759613</td>\n",
       "      <td>-113.787023</td>\n",
       "    </tr>\n",
       "    <tr>\n",
       "      <th>28</th>\n",
       "      <td>Yellowstone National Park, WY</td>\n",
       "      <td>44.597918</td>\n",
       "      <td>-110.561249</td>\n",
       "    </tr>\n",
       "    <tr>\n",
       "      <th>29</th>\n",
       "      <td>Denver, CO</td>\n",
       "      <td>39.739236</td>\n",
       "      <td>-104.990251</td>\n",
       "    </tr>\n",
       "    <tr>\n",
       "      <th>30</th>\n",
       "      <td>Minneapolis, MN</td>\n",
       "      <td>44.977753</td>\n",
       "      <td>-93.265011</td>\n",
       "    </tr>\n",
       "    <tr>\n",
       "      <th>31</th>\n",
       "      <td>Chicago, IL</td>\n",
       "      <td>41.878114</td>\n",
       "      <td>-87.629798</td>\n",
       "    </tr>\n",
       "    <tr>\n",
       "      <th>32</th>\n",
       "      <td>Champaign, IL</td>\n",
       "      <td>40.116420</td>\n",
       "      <td>-88.243383</td>\n",
       "    </tr>\n",
       "  </tbody>\n",
       "</table>\n",
       "</div>"
      ],
      "text/plain": [
       "                         Locations  Latitudes  Longitudes\n",
       "0                    Champaign, IL  40.116420  -88.243383\n",
       "1                    St. Louis, MO  38.627003  -90.199404\n",
       "2                    Nashville, TN  36.162664  -86.781602\n",
       "3                    Knoxville, TN  35.960638  -83.920739\n",
       "4                   Pittsburgh, PA  40.440625  -79.995886\n",
       "5                Niagara Falls, NY  43.096214  -79.037739\n",
       "6                       Boston, MA  42.360082  -71.058880\n",
       "7                     New York, NY  40.712775  -74.005973\n",
       "8                 Philadelphia, PA  39.952584  -75.165222\n",
       "9                Washington DC, DC  38.907192  -77.036871\n",
       "10                  Greensboro, NC  36.072563  -79.791534\n",
       "11                       Miami, FL  25.761680  -80.191790\n",
       "12                 New Orleans, LA  29.951066  -90.071532\n",
       "13                 Albuquerque, NM  35.084386 -106.650422\n",
       "14   Canyonlands National Park, UT  38.163252 -109.762651\n",
       "15        Arches National Park, UT  38.732817 -109.574622\n",
       "16  Capitol Reef National Park, UT  38.087731 -111.135498\n",
       "17  Bryce Canyon National Park, UT  37.593038 -112.187089\n",
       "18  Grand Canyon National Park, AZ  36.267885 -112.353525\n",
       "19          Zion National Park, UT  37.298202 -113.026301\n",
       "20                   Las Vegas, NV  36.171563 -115.139101\n",
       "21                   San Diego, CA  32.715738 -117.161084\n",
       "22                 Los Angeles, CA  34.054908 -118.242643\n",
       "23      Yosemite National Park, CA  37.865101 -119.538329\n",
       "24               San Francisco, CA  37.774929 -122.419415\n",
       "25                    Portland, OR  45.515232 -122.678385\n",
       "26                     Seattle, WA  47.606139 -122.332848\n",
       "27       Glacier National Park, MT  48.759613 -113.787023\n",
       "28   Yellowstone National Park, WY  44.597918 -110.561249\n",
       "29                      Denver, CO  39.739236 -104.990251\n",
       "30                 Minneapolis, MN  44.977753  -93.265011\n",
       "31                     Chicago, IL  41.878114  -87.629798\n",
       "32                   Champaign, IL  40.116420  -88.243383"
      ]
     },
     "execution_count": 36,
     "metadata": {},
     "output_type": "execute_result"
    }
   ],
   "source": [
    "Zeros = np.zeros(len(Routing))\n",
    "LongLat = pd.DataFrame({\"Locations\":Zeros,\n",
    "                       \"Latitudes\":Zeros,\n",
    "                       \"Longitudes\":Zeros})\n",
    "for i in range(len(Routing)):\n",
    "    LongLat.loc[i] = [Locations[Routing[i]],Latitudes[Routing[i]],Longitudes[Routing[i]]]\n",
    "LongLat"
   ]
  },
  {
   "cell_type": "code",
   "execution_count": 37,
   "id": "167587fc-3458-459e-bc19-bfe522b0a4cb",
   "metadata": {},
   "outputs": [
    {
     "data": {
      "application/vnd.plotly.v1+json": {
       "config": {
        "plotlyServerURL": "https://plot.ly"
       },
       "data": [
        {
         "geo": "geo",
         "hovertemplate": "<b>%{hovertext}</b><br><br>Latitudes=%{lat}<br>Longitudes=%{lon}<extra></extra>",
         "hovertext": [
          "Champaign, IL",
          "St. Louis, MO",
          "Nashville, TN",
          "Knoxville, TN",
          "Pittsburgh, PA",
          "Niagara Falls, NY",
          "Boston, MA",
          "New York, NY",
          "Philadelphia, PA",
          "Washington DC, DC",
          "Greensboro, NC",
          "Miami, FL",
          "New Orleans, LA",
          "Albuquerque, NM",
          "Canyonlands National Park, UT",
          "Arches National Park, UT",
          "Capitol Reef National Park, UT",
          "Bryce Canyon National Park, UT",
          "Grand Canyon National Park, AZ",
          "Zion National Park, UT",
          "Las Vegas, NV",
          "San Diego, CA",
          "Los Angeles, CA",
          "Yosemite National Park, CA",
          "San Francisco, CA",
          "Portland, OR",
          "Seattle, WA",
          "Glacier National Park, MT",
          "Yellowstone National Park, WY",
          "Denver, CO",
          "Minneapolis, MN",
          "Chicago, IL",
          "Champaign, IL"
         ],
         "lat": [
          40.1164204,
          38.6270025,
          36.1626638,
          35.9606384,
          40.44062479999999,
          43.0962143,
          42.3600825,
          40.7127753,
          39.9525839,
          38.9071923,
          36.0725632,
          25.7616798,
          29.95106579999999,
          35.0843859,
          38.1632525,
          38.7328166,
          38.0877312,
          37.5930377,
          36.2678855,
          37.2982022,
          36.171563,
          32.715738,
          34.0549076,
          37.8651011,
          37.7749295,
          45.515232,
          47.6061389,
          48.7596128,
          44.5979182,
          39.7392358,
          44.977753,
          41.8781136,
          40.1164204
         ],
         "legendgroup": "",
         "line": {
          "color": "#636efa",
          "dash": "solid"
         },
         "lon": [
          -88.2433829,
          -90.19940419999999,
          -86.7816016,
          -83.9207392,
          -79.9958864,
          -79.0377388,
          -71.0588801,
          -74.0059728,
          -75.1652215,
          -77.0368707,
          -79.791534,
          -80.1917902,
          -90.0715323,
          -106.650422,
          -109.7626512,
          -109.5746222,
          -111.1354983,
          -112.1870895,
          -112.3535253,
          -113.0263005,
          -115.1391009,
          -117.1610838,
          -118.242643,
          -119.5383294,
          -122.4194155,
          -122.6783853,
          -122.3328481,
          -113.7870225,
          -110.561249,
          -104.990251,
          -93.2650108,
          -87.6297982,
          -88.2433829
         ],
         "marker": {
          "symbol": "circle"
         },
         "mode": "lines+markers",
         "name": "",
         "showlegend": false,
         "type": "scattergeo"
        }
       ],
       "layout": {
        "geo": {
         "center": {},
         "domain": {
          "x": [
           0,
           1
          ],
          "y": [
           0,
           1
          ]
         },
         "scope": "usa"
        },
        "height": 500,
        "legend": {
         "tracegroupgap": 0
        },
        "margin": {
         "t": 60
        },
        "template": {
         "data": {
          "bar": [
           {
            "error_x": {
             "color": "#2a3f5f"
            },
            "error_y": {
             "color": "#2a3f5f"
            },
            "marker": {
             "line": {
              "color": "#E5ECF6",
              "width": 0.5
             },
             "pattern": {
              "fillmode": "overlay",
              "size": 10,
              "solidity": 0.2
             }
            },
            "type": "bar"
           }
          ],
          "barpolar": [
           {
            "marker": {
             "line": {
              "color": "#E5ECF6",
              "width": 0.5
             },
             "pattern": {
              "fillmode": "overlay",
              "size": 10,
              "solidity": 0.2
             }
            },
            "type": "barpolar"
           }
          ],
          "carpet": [
           {
            "aaxis": {
             "endlinecolor": "#2a3f5f",
             "gridcolor": "white",
             "linecolor": "white",
             "minorgridcolor": "white",
             "startlinecolor": "#2a3f5f"
            },
            "baxis": {
             "endlinecolor": "#2a3f5f",
             "gridcolor": "white",
             "linecolor": "white",
             "minorgridcolor": "white",
             "startlinecolor": "#2a3f5f"
            },
            "type": "carpet"
           }
          ],
          "choropleth": [
           {
            "colorbar": {
             "outlinewidth": 0,
             "ticks": ""
            },
            "type": "choropleth"
           }
          ],
          "contour": [
           {
            "colorbar": {
             "outlinewidth": 0,
             "ticks": ""
            },
            "colorscale": [
             [
              0,
              "#0d0887"
             ],
             [
              0.1111111111111111,
              "#46039f"
             ],
             [
              0.2222222222222222,
              "#7201a8"
             ],
             [
              0.3333333333333333,
              "#9c179e"
             ],
             [
              0.4444444444444444,
              "#bd3786"
             ],
             [
              0.5555555555555556,
              "#d8576b"
             ],
             [
              0.6666666666666666,
              "#ed7953"
             ],
             [
              0.7777777777777778,
              "#fb9f3a"
             ],
             [
              0.8888888888888888,
              "#fdca26"
             ],
             [
              1,
              "#f0f921"
             ]
            ],
            "type": "contour"
           }
          ],
          "contourcarpet": [
           {
            "colorbar": {
             "outlinewidth": 0,
             "ticks": ""
            },
            "type": "contourcarpet"
           }
          ],
          "heatmap": [
           {
            "colorbar": {
             "outlinewidth": 0,
             "ticks": ""
            },
            "colorscale": [
             [
              0,
              "#0d0887"
             ],
             [
              0.1111111111111111,
              "#46039f"
             ],
             [
              0.2222222222222222,
              "#7201a8"
             ],
             [
              0.3333333333333333,
              "#9c179e"
             ],
             [
              0.4444444444444444,
              "#bd3786"
             ],
             [
              0.5555555555555556,
              "#d8576b"
             ],
             [
              0.6666666666666666,
              "#ed7953"
             ],
             [
              0.7777777777777778,
              "#fb9f3a"
             ],
             [
              0.8888888888888888,
              "#fdca26"
             ],
             [
              1,
              "#f0f921"
             ]
            ],
            "type": "heatmap"
           }
          ],
          "heatmapgl": [
           {
            "colorbar": {
             "outlinewidth": 0,
             "ticks": ""
            },
            "colorscale": [
             [
              0,
              "#0d0887"
             ],
             [
              0.1111111111111111,
              "#46039f"
             ],
             [
              0.2222222222222222,
              "#7201a8"
             ],
             [
              0.3333333333333333,
              "#9c179e"
             ],
             [
              0.4444444444444444,
              "#bd3786"
             ],
             [
              0.5555555555555556,
              "#d8576b"
             ],
             [
              0.6666666666666666,
              "#ed7953"
             ],
             [
              0.7777777777777778,
              "#fb9f3a"
             ],
             [
              0.8888888888888888,
              "#fdca26"
             ],
             [
              1,
              "#f0f921"
             ]
            ],
            "type": "heatmapgl"
           }
          ],
          "histogram": [
           {
            "marker": {
             "pattern": {
              "fillmode": "overlay",
              "size": 10,
              "solidity": 0.2
             }
            },
            "type": "histogram"
           }
          ],
          "histogram2d": [
           {
            "colorbar": {
             "outlinewidth": 0,
             "ticks": ""
            },
            "colorscale": [
             [
              0,
              "#0d0887"
             ],
             [
              0.1111111111111111,
              "#46039f"
             ],
             [
              0.2222222222222222,
              "#7201a8"
             ],
             [
              0.3333333333333333,
              "#9c179e"
             ],
             [
              0.4444444444444444,
              "#bd3786"
             ],
             [
              0.5555555555555556,
              "#d8576b"
             ],
             [
              0.6666666666666666,
              "#ed7953"
             ],
             [
              0.7777777777777778,
              "#fb9f3a"
             ],
             [
              0.8888888888888888,
              "#fdca26"
             ],
             [
              1,
              "#f0f921"
             ]
            ],
            "type": "histogram2d"
           }
          ],
          "histogram2dcontour": [
           {
            "colorbar": {
             "outlinewidth": 0,
             "ticks": ""
            },
            "colorscale": [
             [
              0,
              "#0d0887"
             ],
             [
              0.1111111111111111,
              "#46039f"
             ],
             [
              0.2222222222222222,
              "#7201a8"
             ],
             [
              0.3333333333333333,
              "#9c179e"
             ],
             [
              0.4444444444444444,
              "#bd3786"
             ],
             [
              0.5555555555555556,
              "#d8576b"
             ],
             [
              0.6666666666666666,
              "#ed7953"
             ],
             [
              0.7777777777777778,
              "#fb9f3a"
             ],
             [
              0.8888888888888888,
              "#fdca26"
             ],
             [
              1,
              "#f0f921"
             ]
            ],
            "type": "histogram2dcontour"
           }
          ],
          "mesh3d": [
           {
            "colorbar": {
             "outlinewidth": 0,
             "ticks": ""
            },
            "type": "mesh3d"
           }
          ],
          "parcoords": [
           {
            "line": {
             "colorbar": {
              "outlinewidth": 0,
              "ticks": ""
             }
            },
            "type": "parcoords"
           }
          ],
          "pie": [
           {
            "automargin": true,
            "type": "pie"
           }
          ],
          "scatter": [
           {
            "fillpattern": {
             "fillmode": "overlay",
             "size": 10,
             "solidity": 0.2
            },
            "type": "scatter"
           }
          ],
          "scatter3d": [
           {
            "line": {
             "colorbar": {
              "outlinewidth": 0,
              "ticks": ""
             }
            },
            "marker": {
             "colorbar": {
              "outlinewidth": 0,
              "ticks": ""
             }
            },
            "type": "scatter3d"
           }
          ],
          "scattercarpet": [
           {
            "marker": {
             "colorbar": {
              "outlinewidth": 0,
              "ticks": ""
             }
            },
            "type": "scattercarpet"
           }
          ],
          "scattergeo": [
           {
            "marker": {
             "colorbar": {
              "outlinewidth": 0,
              "ticks": ""
             }
            },
            "type": "scattergeo"
           }
          ],
          "scattergl": [
           {
            "marker": {
             "colorbar": {
              "outlinewidth": 0,
              "ticks": ""
             }
            },
            "type": "scattergl"
           }
          ],
          "scattermapbox": [
           {
            "marker": {
             "colorbar": {
              "outlinewidth": 0,
              "ticks": ""
             }
            },
            "type": "scattermapbox"
           }
          ],
          "scatterpolar": [
           {
            "marker": {
             "colorbar": {
              "outlinewidth": 0,
              "ticks": ""
             }
            },
            "type": "scatterpolar"
           }
          ],
          "scatterpolargl": [
           {
            "marker": {
             "colorbar": {
              "outlinewidth": 0,
              "ticks": ""
             }
            },
            "type": "scatterpolargl"
           }
          ],
          "scatterternary": [
           {
            "marker": {
             "colorbar": {
              "outlinewidth": 0,
              "ticks": ""
             }
            },
            "type": "scatterternary"
           }
          ],
          "surface": [
           {
            "colorbar": {
             "outlinewidth": 0,
             "ticks": ""
            },
            "colorscale": [
             [
              0,
              "#0d0887"
             ],
             [
              0.1111111111111111,
              "#46039f"
             ],
             [
              0.2222222222222222,
              "#7201a8"
             ],
             [
              0.3333333333333333,
              "#9c179e"
             ],
             [
              0.4444444444444444,
              "#bd3786"
             ],
             [
              0.5555555555555556,
              "#d8576b"
             ],
             [
              0.6666666666666666,
              "#ed7953"
             ],
             [
              0.7777777777777778,
              "#fb9f3a"
             ],
             [
              0.8888888888888888,
              "#fdca26"
             ],
             [
              1,
              "#f0f921"
             ]
            ],
            "type": "surface"
           }
          ],
          "table": [
           {
            "cells": {
             "fill": {
              "color": "#EBF0F8"
             },
             "line": {
              "color": "white"
             }
            },
            "header": {
             "fill": {
              "color": "#C8D4E3"
             },
             "line": {
              "color": "white"
             }
            },
            "type": "table"
           }
          ]
         },
         "layout": {
          "annotationdefaults": {
           "arrowcolor": "#2a3f5f",
           "arrowhead": 0,
           "arrowwidth": 1
          },
          "autotypenumbers": "strict",
          "coloraxis": {
           "colorbar": {
            "outlinewidth": 0,
            "ticks": ""
           }
          },
          "colorscale": {
           "diverging": [
            [
             0,
             "#8e0152"
            ],
            [
             0.1,
             "#c51b7d"
            ],
            [
             0.2,
             "#de77ae"
            ],
            [
             0.3,
             "#f1b6da"
            ],
            [
             0.4,
             "#fde0ef"
            ],
            [
             0.5,
             "#f7f7f7"
            ],
            [
             0.6,
             "#e6f5d0"
            ],
            [
             0.7,
             "#b8e186"
            ],
            [
             0.8,
             "#7fbc41"
            ],
            [
             0.9,
             "#4d9221"
            ],
            [
             1,
             "#276419"
            ]
           ],
           "sequential": [
            [
             0,
             "#0d0887"
            ],
            [
             0.1111111111111111,
             "#46039f"
            ],
            [
             0.2222222222222222,
             "#7201a8"
            ],
            [
             0.3333333333333333,
             "#9c179e"
            ],
            [
             0.4444444444444444,
             "#bd3786"
            ],
            [
             0.5555555555555556,
             "#d8576b"
            ],
            [
             0.6666666666666666,
             "#ed7953"
            ],
            [
             0.7777777777777778,
             "#fb9f3a"
            ],
            [
             0.8888888888888888,
             "#fdca26"
            ],
            [
             1,
             "#f0f921"
            ]
           ],
           "sequentialminus": [
            [
             0,
             "#0d0887"
            ],
            [
             0.1111111111111111,
             "#46039f"
            ],
            [
             0.2222222222222222,
             "#7201a8"
            ],
            [
             0.3333333333333333,
             "#9c179e"
            ],
            [
             0.4444444444444444,
             "#bd3786"
            ],
            [
             0.5555555555555556,
             "#d8576b"
            ],
            [
             0.6666666666666666,
             "#ed7953"
            ],
            [
             0.7777777777777778,
             "#fb9f3a"
            ],
            [
             0.8888888888888888,
             "#fdca26"
            ],
            [
             1,
             "#f0f921"
            ]
           ]
          },
          "colorway": [
           "#636efa",
           "#EF553B",
           "#00cc96",
           "#ab63fa",
           "#FFA15A",
           "#19d3f3",
           "#FF6692",
           "#B6E880",
           "#FF97FF",
           "#FECB52"
          ],
          "font": {
           "color": "#2a3f5f"
          },
          "geo": {
           "bgcolor": "white",
           "lakecolor": "white",
           "landcolor": "#E5ECF6",
           "showlakes": true,
           "showland": true,
           "subunitcolor": "white"
          },
          "hoverlabel": {
           "align": "left"
          },
          "hovermode": "closest",
          "mapbox": {
           "style": "light"
          },
          "paper_bgcolor": "white",
          "plot_bgcolor": "#E5ECF6",
          "polar": {
           "angularaxis": {
            "gridcolor": "white",
            "linecolor": "white",
            "ticks": ""
           },
           "bgcolor": "#E5ECF6",
           "radialaxis": {
            "gridcolor": "white",
            "linecolor": "white",
            "ticks": ""
           }
          },
          "scene": {
           "xaxis": {
            "backgroundcolor": "#E5ECF6",
            "gridcolor": "white",
            "gridwidth": 2,
            "linecolor": "white",
            "showbackground": true,
            "ticks": "",
            "zerolinecolor": "white"
           },
           "yaxis": {
            "backgroundcolor": "#E5ECF6",
            "gridcolor": "white",
            "gridwidth": 2,
            "linecolor": "white",
            "showbackground": true,
            "ticks": "",
            "zerolinecolor": "white"
           },
           "zaxis": {
            "backgroundcolor": "#E5ECF6",
            "gridcolor": "white",
            "gridwidth": 2,
            "linecolor": "white",
            "showbackground": true,
            "ticks": "",
            "zerolinecolor": "white"
           }
          },
          "shapedefaults": {
           "line": {
            "color": "#2a3f5f"
           }
          },
          "ternary": {
           "aaxis": {
            "gridcolor": "white",
            "linecolor": "white",
            "ticks": ""
           },
           "baxis": {
            "gridcolor": "white",
            "linecolor": "white",
            "ticks": ""
           },
           "bgcolor": "#E5ECF6",
           "caxis": {
            "gridcolor": "white",
            "linecolor": "white",
            "ticks": ""
           }
          },
          "title": {
           "x": 0.05
          },
          "xaxis": {
           "automargin": true,
           "gridcolor": "white",
           "linecolor": "white",
           "ticks": "",
           "title": {
            "standoff": 15
           },
           "zerolinecolor": "white",
           "zerolinewidth": 2
          },
          "yaxis": {
           "automargin": true,
           "gridcolor": "white",
           "linecolor": "white",
           "ticks": "",
           "title": {
            "standoff": 15
           },
           "zerolinecolor": "white",
           "zerolinewidth": 2
          }
         }
        }
       }
      }
     },
     "metadata": {},
     "output_type": "display_data"
    }
   ],
   "source": [
    "fig = px.line_geo(LongLat,lat=\"Latitudes\",lon=\"Longitudes\",hover_name=\"Locations\",markers=True)\n",
    "fig.update_layout(geo_scope=\"usa\",height=500)\n",
    "fig.show()"
   ]
  },
  {
   "cell_type": "code",
   "execution_count": 38,
   "id": "d56c10c9-f2bf-4e80-8fa7-0531d639d523",
   "metadata": {},
   "outputs": [
    {
     "name": "stdout",
     "output_type": "stream",
     "text": [
      "The trip takes 171 hours and 52 minutes.\n",
      "At 6 hours per day, it takes 29 days to finish the trip.\n"
     ]
    }
   ],
   "source": [
    "DurationHours = int(TotalDuration)\n",
    "DurationMinutes = math.ceil((TotalDuration % 1) * 60)\n",
    "\n",
    "if (DurationMinutes == 60):\n",
    "    DurationHours += 1\n",
    "    DurationMinutes = 0\n",
    "\n",
    "TripDays = math.ceil(TotalDuration / 6)\n",
    "\n",
    "print(\"The trip takes\",DurationHours,\"hours and\",DurationMinutes,\"minutes.\")\n",
    "print(\"At 6 hours per day, it takes\",TripDays,\"days to finish the trip.\")"
   ]
  }
 ],
 "metadata": {
  "kernelspec": {
   "display_name": "Python 3 (ipykernel)",
   "language": "python",
   "name": "python3"
  },
  "language_info": {
   "codemirror_mode": {
    "name": "ipython",
    "version": 3
   },
   "file_extension": ".py",
   "mimetype": "text/x-python",
   "name": "python",
   "nbconvert_exporter": "python",
   "pygments_lexer": "ipython3",
   "version": "3.9.13"
  }
 },
 "nbformat": 4,
 "nbformat_minor": 5
}
